{
 "cells": [
  {
   "cell_type": "markdown",
   "metadata": {},
   "source": [
    "# Previsão de Churn - Aprendizado de Máquina\n",
    "___\n",
    "**Churn**, também chamado de *churn rate* ou *attrition rate*, é uma métrica que mede a evasão de clientes de determinada empresa, ou seja, a taxa de cancelamento. Ou seja, caso a taxa de evasão seja alta, quer dizer que os clientes estão insatisfeitos com a empresa, e que há algum problema que deve ser tratado. Nesse caso, o notebook trata de um dataset fictício de um banco visando previsão de churns.\n",
    "\n",
    "### O problema de negócio\n",
    "___\n",
    "O [Dataset](https://www.kaggle.com/mervetorkan/churndataset?select=churn.csv) apresenta 10.000 instâncias com dados fictícios de um banco que atua na Europa, com 14 atributos diversos acerca de clientes como nome, pontuação de crédito, salário estimado, se possui ou não cartão de crédito, entre outros, e por fim, se existiu evasão ou não por parte do cliente i.e. churn. \n",
    "\n",
    "A taxa média de churn é claramente variável de acordo com o porte e segmento da empresa. No caso do setor bancário, taxas de churn entre 11% a 34% podem ser encontradas [[1]](https://thefinancialbrand.com/59779/digital-banking-branch-channel-switching/). Partindo desse princípio, o notebook apresenta um modelo de aprendizado de máquina de previsão de churn utilizando o dataset pré-processado, bem como análises de faturamento dos classificadores de acordo com o conceito de valor esperado, e valor esperado rankeado com visualização através das curvas de lucro.\n",
    "\n",
    "### Os dados\n",
    "___\n",
    "O [Dataset](https://www.kaggle.com/mervetorkan/churndataset?select=churn.csv) apresenta 10.000 instâncias com dados fictícios de um banco que atua na Europa, com 14 atributos diversos acerca de clientes, sendo que dos quais, após o pré-processamento, foram selecionados:\n",
    "- Independentes:\n",
    "    - Variável `Geography` representa o país do cliente\n",
    "    - Variável `Gender` representa o gênero do cliente\n",
    "    - Variável `Age` representa a idade do cliente\n",
    "    - Variável `IsActiveMember` representa a atividade do cliente (se é membro ativo ou não)\n",
    "    - Variável `Germany_Balance` sendo atributo criado\n",
    "- Dependentes:\n",
    "    - Variável `Exited` representa a saída do cliente, i.e churn"
   ]
  },
  {
   "cell_type": "markdown",
   "metadata": {},
   "source": [
    "- Importar bibliotecas:"
   ]
  },
  {
   "cell_type": "code",
   "execution_count": 2,
   "metadata": {},
   "outputs": [],
   "source": [
    "%matplotlib inline\n",
    "\n",
    "import pandas as pd\n",
    "import numpy as np\n",
    "import matplotlib.pyplot as plt\n",
    "\n",
    "import warnings as wn\n",
    "\n",
    "wn.filterwarnings('ignore')\n",
    "\n",
    "plt.style.use('ggplot')"
   ]
  },
  {
   "cell_type": "markdown",
   "metadata": {},
   "source": [
    "- Ler o dataset, mostrar as 5 primeiras linhas:"
   ]
  },
  {
   "cell_type": "code",
   "execution_count": 3,
   "metadata": {},
   "outputs": [],
   "source": [
    "df = pd.read_csv('churn_preprocessing.csv', index_col='CustomerId')"
   ]
  },
  {
   "cell_type": "code",
   "execution_count": 4,
   "metadata": {},
   "outputs": [
    {
     "data": {
      "text/html": [
       "<div>\n",
       "<style scoped>\n",
       "    .dataframe tbody tr th:only-of-type {\n",
       "        vertical-align: middle;\n",
       "    }\n",
       "\n",
       "    .dataframe tbody tr th {\n",
       "        vertical-align: top;\n",
       "    }\n",
       "\n",
       "    .dataframe thead th {\n",
       "        text-align: right;\n",
       "    }\n",
       "</style>\n",
       "<table border=\"1\" class=\"dataframe\">\n",
       "  <thead>\n",
       "    <tr style=\"text-align: right;\">\n",
       "      <th></th>\n",
       "      <th>Geography</th>\n",
       "      <th>Gender</th>\n",
       "      <th>IsActiveMember</th>\n",
       "      <th>Age</th>\n",
       "      <th>Germany_Balance</th>\n",
       "      <th>Exited</th>\n",
       "    </tr>\n",
       "    <tr>\n",
       "      <th>CustomerId</th>\n",
       "      <th></th>\n",
       "      <th></th>\n",
       "      <th></th>\n",
       "      <th></th>\n",
       "      <th></th>\n",
       "      <th></th>\n",
       "    </tr>\n",
       "  </thead>\n",
       "  <tbody>\n",
       "    <tr>\n",
       "      <th>15634602</th>\n",
       "      <td>France</td>\n",
       "      <td>Female</td>\n",
       "      <td>1</td>\n",
       "      <td>42</td>\n",
       "      <td>0</td>\n",
       "      <td>1</td>\n",
       "    </tr>\n",
       "    <tr>\n",
       "      <th>15647311</th>\n",
       "      <td>Spain</td>\n",
       "      <td>Female</td>\n",
       "      <td>1</td>\n",
       "      <td>41</td>\n",
       "      <td>0</td>\n",
       "      <td>0</td>\n",
       "    </tr>\n",
       "    <tr>\n",
       "      <th>15619304</th>\n",
       "      <td>France</td>\n",
       "      <td>Female</td>\n",
       "      <td>0</td>\n",
       "      <td>42</td>\n",
       "      <td>0</td>\n",
       "      <td>1</td>\n",
       "    </tr>\n",
       "    <tr>\n",
       "      <th>15701354</th>\n",
       "      <td>France</td>\n",
       "      <td>Female</td>\n",
       "      <td>0</td>\n",
       "      <td>39</td>\n",
       "      <td>0</td>\n",
       "      <td>0</td>\n",
       "    </tr>\n",
       "    <tr>\n",
       "      <th>15737888</th>\n",
       "      <td>Spain</td>\n",
       "      <td>Female</td>\n",
       "      <td>1</td>\n",
       "      <td>43</td>\n",
       "      <td>0</td>\n",
       "      <td>0</td>\n",
       "    </tr>\n",
       "  </tbody>\n",
       "</table>\n",
       "</div>"
      ],
      "text/plain": [
       "           Geography  Gender  IsActiveMember  Age  Germany_Balance  Exited\n",
       "CustomerId                                                                \n",
       "15634602      France  Female               1   42                0       1\n",
       "15647311       Spain  Female               1   41                0       0\n",
       "15619304      France  Female               0   42                0       1\n",
       "15701354      France  Female               0   39                0       0\n",
       "15737888       Spain  Female               1   43                0       0"
      ]
     },
     "execution_count": 4,
     "metadata": {},
     "output_type": "execute_result"
    }
   ],
   "source": [
    "df.head()"
   ]
  },
  {
   "cell_type": "markdown",
   "metadata": {},
   "source": [
    "# 1. Pré-processamento\n",
    "____"
   ]
  },
  {
   "cell_type": "markdown",
   "metadata": {},
   "source": [
    "- Get dummy variables"
   ]
  },
  {
   "cell_type": "code",
   "execution_count": 5,
   "metadata": {},
   "outputs": [],
   "source": [
    "df = pd.get_dummies(df, columns=['Geography','Gender'])"
   ]
  },
  {
   "cell_type": "code",
   "execution_count": 6,
   "metadata": {},
   "outputs": [
    {
     "data": {
      "text/html": [
       "<div>\n",
       "<style scoped>\n",
       "    .dataframe tbody tr th:only-of-type {\n",
       "        vertical-align: middle;\n",
       "    }\n",
       "\n",
       "    .dataframe tbody tr th {\n",
       "        vertical-align: top;\n",
       "    }\n",
       "\n",
       "    .dataframe thead th {\n",
       "        text-align: right;\n",
       "    }\n",
       "</style>\n",
       "<table border=\"1\" class=\"dataframe\">\n",
       "  <thead>\n",
       "    <tr style=\"text-align: right;\">\n",
       "      <th></th>\n",
       "      <th>IsActiveMember</th>\n",
       "      <th>Age</th>\n",
       "      <th>Germany_Balance</th>\n",
       "      <th>Exited</th>\n",
       "      <th>Geography_France</th>\n",
       "      <th>Geography_Germany</th>\n",
       "      <th>Geography_Spain</th>\n",
       "      <th>Gender_Female</th>\n",
       "      <th>Gender_Male</th>\n",
       "    </tr>\n",
       "    <tr>\n",
       "      <th>CustomerId</th>\n",
       "      <th></th>\n",
       "      <th></th>\n",
       "      <th></th>\n",
       "      <th></th>\n",
       "      <th></th>\n",
       "      <th></th>\n",
       "      <th></th>\n",
       "      <th></th>\n",
       "      <th></th>\n",
       "    </tr>\n",
       "  </thead>\n",
       "  <tbody>\n",
       "    <tr>\n",
       "      <th>15634602</th>\n",
       "      <td>1</td>\n",
       "      <td>42</td>\n",
       "      <td>0</td>\n",
       "      <td>1</td>\n",
       "      <td>1</td>\n",
       "      <td>0</td>\n",
       "      <td>0</td>\n",
       "      <td>1</td>\n",
       "      <td>0</td>\n",
       "    </tr>\n",
       "    <tr>\n",
       "      <th>15647311</th>\n",
       "      <td>1</td>\n",
       "      <td>41</td>\n",
       "      <td>0</td>\n",
       "      <td>0</td>\n",
       "      <td>0</td>\n",
       "      <td>0</td>\n",
       "      <td>1</td>\n",
       "      <td>1</td>\n",
       "      <td>0</td>\n",
       "    </tr>\n",
       "    <tr>\n",
       "      <th>15619304</th>\n",
       "      <td>0</td>\n",
       "      <td>42</td>\n",
       "      <td>0</td>\n",
       "      <td>1</td>\n",
       "      <td>1</td>\n",
       "      <td>0</td>\n",
       "      <td>0</td>\n",
       "      <td>1</td>\n",
       "      <td>0</td>\n",
       "    </tr>\n",
       "    <tr>\n",
       "      <th>15701354</th>\n",
       "      <td>0</td>\n",
       "      <td>39</td>\n",
       "      <td>0</td>\n",
       "      <td>0</td>\n",
       "      <td>1</td>\n",
       "      <td>0</td>\n",
       "      <td>0</td>\n",
       "      <td>1</td>\n",
       "      <td>0</td>\n",
       "    </tr>\n",
       "    <tr>\n",
       "      <th>15737888</th>\n",
       "      <td>1</td>\n",
       "      <td>43</td>\n",
       "      <td>0</td>\n",
       "      <td>0</td>\n",
       "      <td>0</td>\n",
       "      <td>0</td>\n",
       "      <td>1</td>\n",
       "      <td>1</td>\n",
       "      <td>0</td>\n",
       "    </tr>\n",
       "  </tbody>\n",
       "</table>\n",
       "</div>"
      ],
      "text/plain": [
       "            IsActiveMember  Age  Germany_Balance  Exited  Geography_France  \\\n",
       "CustomerId                                                                   \n",
       "15634602                 1   42                0       1                 1   \n",
       "15647311                 1   41                0       0                 0   \n",
       "15619304                 0   42                0       1                 1   \n",
       "15701354                 0   39                0       0                 1   \n",
       "15737888                 1   43                0       0                 0   \n",
       "\n",
       "            Geography_Germany  Geography_Spain  Gender_Female  Gender_Male  \n",
       "CustomerId                                                                  \n",
       "15634602                    0                0              1            0  \n",
       "15647311                    0                1              1            0  \n",
       "15619304                    0                0              1            0  \n",
       "15701354                    0                0              1            0  \n",
       "15737888                    0                1              1            0  "
      ]
     },
     "execution_count": 6,
     "metadata": {},
     "output_type": "execute_result"
    }
   ],
   "source": [
    "df.head()"
   ]
  },
  {
   "cell_type": "markdown",
   "metadata": {},
   "source": [
    "- Split dataset em treino e teste:"
   ]
  },
  {
   "cell_type": "code",
   "execution_count": 7,
   "metadata": {},
   "outputs": [],
   "source": [
    "from sklearn.model_selection import train_test_split"
   ]
  },
  {
   "cell_type": "code",
   "execution_count": 8,
   "metadata": {},
   "outputs": [],
   "source": [
    "X = df.drop('Exited', axis=1)\n",
    "y = np.array(df['Exited'])\n",
    "indices = np.arange(X.shape[0])"
   ]
  },
  {
   "cell_type": "code",
   "execution_count": 9,
   "metadata": {},
   "outputs": [],
   "source": [
    "x_train, x_test, y_train, y_test, idx1, idx2 = train_test_split(X, y, indices, test_size=0.3)"
   ]
  },
  {
   "cell_type": "code",
   "execution_count": 10,
   "metadata": {},
   "outputs": [
    {
     "data": {
      "text/plain": [
       "((7000, 8), (3000, 8), (7000,), (3000,))"
      ]
     },
     "execution_count": 10,
     "metadata": {},
     "output_type": "execute_result"
    }
   ],
   "source": [
    "x_train.shape, x_test.shape, y_train.shape, y_test.shape"
   ]
  },
  {
   "cell_type": "code",
   "execution_count": 11,
   "metadata": {
    "scrolled": true
   },
   "outputs": [],
   "source": [
    "idx1_df = df.iloc[idx1,:].index\n",
    "idx2_df = df.iloc[idx2,:].index"
   ]
  },
  {
   "cell_type": "markdown",
   "metadata": {},
   "source": [
    "# 2. Aprendizado de Máquina\n",
    "____"
   ]
  },
  {
   "cell_type": "code",
   "execution_count": 12,
   "metadata": {},
   "outputs": [],
   "source": [
    "from sklearn.model_selection import RandomizedSearchCV\n",
    "from sklearn.model_selection import cross_val_score, KFold\n",
    "from sklearn.metrics import f1_score, precision_score, recall_score, roc_auc_score\n",
    "from sklearn.metrics import confusion_matrix, plot_confusion_matrix, plot_roc_curve"
   ]
  },
  {
   "cell_type": "markdown",
   "metadata": {},
   "source": [
    "As métricas de avaliação dos modelos foram:\n",
    "\n",
    "- Precision: de todos os clientes que o modelo previu churn, quantos deles realmente saíram?\n",
    "$$ Precision = \\frac{TP}{(TP+FP)} $$\n",
    "\n",
    "\n",
    "- Recall: % de clientes previstos para churn que o modelo previu corretamente?\n",
    "$$ Recall = \\frac{TP}{(TP+FN)}$$\n",
    "\n",
    "\n",
    "- F1: medida relativa de precision e recall (média harmônica):\n",
    "$$ F_1 = \\frac{TP}{(TP + \\frac{1}{2}(FP+FN))}$$\n",
    "\n",
    "\n",
    "- ROC-AUC: relação entre taxas de TP e FP, sendo que a AUC (área sob a curva) sumariza a ROC em um único número (quão mais próxima de 1, melhor o classificador em relação á taxa de falsos positivos).\n",
    "\n",
    "onde TP$\\to$true positive, FP$\\to$false positive (erro tipo I), e FN$\\to$false negative (erro tipo II)"
   ]
  },
  {
   "cell_type": "markdown",
   "metadata": {},
   "source": [
    "### Avaliação em função do problema de negócio\n",
    "___\n",
    "A priori, temos como resultado do modelo de classificação a matriz de confusão, que apresenta os seguintes valores:\n",
    "\n",
    "- TP: previsão de churn, que realmente ocorre $\\to$ perda monetária pois cliente sai\n",
    "- TN: previsão de não churn, que realmente ocorre $\\to$ sem perda monetária, pois cliente permanece\n",
    "- FP: previsão de churn, mas cliente não sai $\\to$ sem perda monetária, pois cliente permanece\n",
    "- FN: previsão de não churn, mas cliente sai $\\to$ perda monetária, pois previu que cliente ficaria e ele saiu\n",
    "\n",
    "Até tal ponto, é possível compreender as previsões, porém não dentro de um contexto de negócio. Faz-se necessário então aplicar um conceito bastante utilizado onde pode-se concatenar as previsões do modelo de aprendizado de máquina com valores do negócio - conceito de **valor esperado**:\n",
    "\n",
    "$$EV = p(o_1)v(o_1) + p(o_2)v(o_2) + ...$$\n",
    "\n",
    "onde $p(o_i)$ é a probabilidade do evento, e $v(o_i)$ é seu valor.\n",
    "\n",
    "Nesse contexto, visando calcular o valor esperado de lucro de uma campanha de retenção de clientes, pode-se realizar uma análise de curso-benefício, onde temos TP e TN como benefícios (modelo previu corretamente), e FP e FN como os custos (modelo previu incorretamente). A matriz de custo-benefício utilizada para avaliação do projeto com valores fictícios foi baseada em [[2]](https://carmenlai.com/2016/11/12/user-churn-prediction-a-machine-learning-workflow.html). Nesse escopo, foi assumido que caso o modelo preveja churn, o plano de retenção terá um gasto de \\\\$150 com o cliente. Se o plano tiver sucesso na retenção, o lucro será do lifetime value do cliente menos o custo com o próprio plano, nesse caso, \\\\$325 - \\\\$150 = \\\\$175, simplificando custos com FP e TN:\n",
    "\n",
    "- TP $\\to$ benefício $\\to$ \\\\$175 - cliente responde positivamente à campanha e tinha intenção de churn\n",
    "\n",
    "- FN $\\to$ custo $\\to$ -$150 - cliente não responde positivamente à campanha e não ocorre retenção\n",
    "\n",
    "Portanto, pode-se calcular o valor esperado como:\n",
    "\n",
    "$$EV_{profit} = [p(Y|1)b(Y,1) + p(N|1)c(N,1)] + [p(N|0)b(N,0) + p(Y|0)c(Y,0)] $$\n",
    "\n",
    "Entretanto, é importante também levar em consideração a probabilidade de se encontrar cada classe *a priori*, ou seja, a probabilidade *a priori* de ocorrer churn ou não [[3]](https://www.oreilly.com/library/view/data-science-for/9781449374273/), ou seja, $p(0)$ ou $p(ñ churn)$ e $p(1)$ ou $p(churn)$, principalmente para classes desbalanceadas. Assim, temos que:\n",
    "\n",
    "$$EV_{profit} = p(1)*[p(Y|1)b(Y,1) + p(N|1)c(N,1)] + $$\n",
    "$$p(0)*[p(N|0)b(N,0) + p(Y|0)c(Y,0)] $$\n",
    "\n",
    "onde:\n",
    "- p $\\to$ probabilidade\n",
    "- b e c $\\to$ benefício e custo\n",
    "- 0 e 1 $\\to$ não churn e churn\n",
    "- N e Y $\\to$ previsão de não churn e churn\n",
    "\n",
    "O valor esperado de lucro pode ser expresso, portanto, como:\n",
    "\n",
    "$$EV_{profit} = 0.2037*[175p(Y|1) - 150p(N|1)] + 0.7963*[0p(N|0) + 0p(Y|0)] \\to$$\n",
    "\n",
    "$$\\to EV_{profit} = 35.64p(Y|1) - 30.55p(N|1)$$\n",
    "\n",
    "Nota-se que são considerados apenas as ocorrências de churn, sendo considerados TP e FN e, como consequência, valores de recall culminarão em maior lucro esperado."
   ]
  },
  {
   "cell_type": "code",
   "execution_count": 13,
   "metadata": {},
   "outputs": [
    {
     "data": {
      "text/html": [
       "<div>\n",
       "<style scoped>\n",
       "    .dataframe tbody tr th:only-of-type {\n",
       "        vertical-align: middle;\n",
       "    }\n",
       "\n",
       "    .dataframe tbody tr th {\n",
       "        vertical-align: top;\n",
       "    }\n",
       "\n",
       "    .dataframe thead th {\n",
       "        text-align: right;\n",
       "    }\n",
       "</style>\n",
       "<table border=\"1\" class=\"dataframe\">\n",
       "  <thead>\n",
       "    <tr style=\"text-align: right;\">\n",
       "      <th></th>\n",
       "      <th>Pred_0</th>\n",
       "      <th>Pred_1</th>\n",
       "    </tr>\n",
       "  </thead>\n",
       "  <tbody>\n",
       "    <tr>\n",
       "      <th>True_0</th>\n",
       "      <td>0</td>\n",
       "      <td>0</td>\n",
       "    </tr>\n",
       "    <tr>\n",
       "      <th>True_1</th>\n",
       "      <td>-150</td>\n",
       "      <td>175</td>\n",
       "    </tr>\n",
       "  </tbody>\n",
       "</table>\n",
       "</div>"
      ],
      "text/plain": [
       "        Pred_0  Pred_1\n",
       "True_0       0       0\n",
       "True_1    -150     175"
      ]
     },
     "execution_count": 13,
     "metadata": {},
     "output_type": "execute_result"
    }
   ],
   "source": [
    "# matriz de custo-benefício\n",
    "cb = np.array([[0,0],[-150, 175]])\n",
    "              \n",
    "pd.DataFrame(np.array([[0,0],[-150, 175]]), index=['True_0','True_1'], \n",
    "             columns=['Pred_0','Pred_1'])"
   ]
  },
  {
   "cell_type": "code",
   "execution_count": 14,
   "metadata": {},
   "outputs": [
    {
     "data": {
      "text/plain": [
       "(0.7963, 0.2037)"
      ]
     },
     "execution_count": 14,
     "metadata": {},
     "output_type": "execute_result"
    }
   ],
   "source": [
    "# probabilidade de churn e não churn\n",
    "p_0 = df.query('Exited==0').shape[0]/df.shape[0]\n",
    "p_1 = df.query('Exited==1').shape[0]/df.shape[0]\n",
    "p_0, p_1"
   ]
  },
  {
   "cell_type": "markdown",
   "metadata": {},
   "source": [
    "### 2.1. Baseline: Decision Stump\n",
    "___\n",
    "\n",
    "**Decision Stump** é uma estratégia na qual se escolhe o único e mais informativo atributo presente entre as os preditores e baser todas as decisões neste atributo. No presente caso, utiliza-se uma árvore de decisão com somente um nó interno, ou seja, o nó raiz (*root node*), onde a árvore de decisão seleciona um único atributo com maior ganho de informação para a decisão [[3]](https://www.oreilly.com/library/view/data-science-for/9781449374273/).\n",
    "\n",
    "Nota-se pela matriz de confusão abaixo que o modelo classificou todas as instâncias como classe majoritária, ou seja, entre 3000 instâncias, sendo que 2408 da Classe 0 (`Exited`=0) e 592 da Class 1 (`Exited`=1), o modelo classificou corretamente todas as instâncias da Classe 0, e classificou incorretamente todas as instâncias da Classe 1, atribuindo-as à Classe 0 $\\to$ classificador majoritário com *ROC-AUC score* de 0.65."
   ]
  },
  {
   "cell_type": "code",
   "execution_count": 15,
   "metadata": {},
   "outputs": [],
   "source": [
    "from sklearn.tree import DecisionTreeClassifier"
   ]
  },
  {
   "cell_type": "code",
   "execution_count": 16,
   "metadata": {},
   "outputs": [
    {
     "data": {
      "text/plain": [
       "DecisionTreeClassifier(max_depth=1, random_state=42)"
      ]
     },
     "execution_count": 16,
     "metadata": {},
     "output_type": "execute_result"
    }
   ],
   "source": [
    "# baseline\n",
    "dt = DecisionTreeClassifier(max_depth=1, random_state=42)\n",
    "\n",
    "dt.fit(x_train, y_train)"
   ]
  },
  {
   "cell_type": "code",
   "execution_count": 17,
   "metadata": {},
   "outputs": [
    {
     "data": {
      "text/plain": [
       "0.7945714285714285"
      ]
     },
     "execution_count": 17,
     "metadata": {},
     "output_type": "execute_result"
    }
   ],
   "source": [
    "# avaliar modelo\n",
    "kfold = KFold(n_splits=10, random_state=42)\n",
    "dt_results = cross_val_score(dt, x_train, y_train, cv=kfold)\n",
    "dt_results.mean()"
   ]
  },
  {
   "cell_type": "code",
   "execution_count": 18,
   "metadata": {},
   "outputs": [],
   "source": [
    "# predição\n",
    "dt_predict = dt.predict(x_test)\n",
    "dt_proba = dt.predict_proba(x_test)[:,1]"
   ]
  },
  {
   "cell_type": "code",
   "execution_count": 19,
   "metadata": {},
   "outputs": [
    {
     "name": "stdout",
     "output_type": "stream",
     "text": [
      "Precision: 0.0\n",
      "Recall: 0.0\n",
      "F1: 0.711572054557798\n",
      "ROC-AUC: 0.6884450621923669\n"
     ]
    }
   ],
   "source": [
    "# métricas de comparação\n",
    "print('Precision:',precision_score(y_test, dt_predict))\n",
    "print('Recall:',recall_score(y_test, dt_predict))\n",
    "print('F1:',f1_score(y_test, dt_predict, average='weighted'))\n",
    "print('ROC-AUC:',roc_auc_score(y_test, dt_proba))"
   ]
  },
  {
   "cell_type": "code",
   "execution_count": 20,
   "metadata": {},
   "outputs": [
    {
     "data": {
      "text/html": [
       "<div>\n",
       "<style scoped>\n",
       "    .dataframe tbody tr th:only-of-type {\n",
       "        vertical-align: middle;\n",
       "    }\n",
       "\n",
       "    .dataframe tbody tr th {\n",
       "        vertical-align: top;\n",
       "    }\n",
       "\n",
       "    .dataframe thead th {\n",
       "        text-align: right;\n",
       "    }\n",
       "</style>\n",
       "<table border=\"1\" class=\"dataframe\">\n",
       "  <thead>\n",
       "    <tr style=\"text-align: right;\">\n",
       "      <th></th>\n",
       "      <th>0</th>\n",
       "      <th>1</th>\n",
       "    </tr>\n",
       "  </thead>\n",
       "  <tbody>\n",
       "    <tr>\n",
       "      <th>0</th>\n",
       "      <td>2401</td>\n",
       "      <td>0</td>\n",
       "    </tr>\n",
       "    <tr>\n",
       "      <th>1</th>\n",
       "      <td>599</td>\n",
       "      <td>0</td>\n",
       "    </tr>\n",
       "  </tbody>\n",
       "</table>\n",
       "</div>"
      ],
      "text/plain": [
       "      0  1\n",
       "0  2401  0\n",
       "1   599  0"
      ]
     },
     "execution_count": 20,
     "metadata": {},
     "output_type": "execute_result"
    }
   ],
   "source": [
    "# matriz de confusão\n",
    "pd.DataFrame(confusion_matrix(y_test, dt_predict))"
   ]
  },
  {
   "cell_type": "markdown",
   "metadata": {},
   "source": [
    "### 2.2 - Regressão Logística\n",
    "___\n",
    "A regressão logística é uma técnica estatística que tem como objetivo produzir, a partir de um conjunto de observações, um modelo que permita a predição de valores tomados por uma variável categórica, frequentemente binária, a partir de uma série de variáveis explicativas, sendo um modelo de fácil explicação e rápido. Mais em [[4]](https://github.com/renan2scarvalho/Applied-Data-Science-with-Python/blob/master/3%20Applied%20Machine%20Learning%20in%20Python/cesarian.ipynb)."
   ]
  },
  {
   "cell_type": "code",
   "execution_count": 21,
   "metadata": {},
   "outputs": [],
   "source": [
    "from sklearn.linear_model import LogisticRegression"
   ]
  },
  {
   "cell_type": "code",
   "execution_count": 22,
   "metadata": {},
   "outputs": [
    {
     "data": {
      "text/plain": [
       "LogisticRegression(class_weight='balanced', n_jobs=-1, random_state=42)"
      ]
     },
     "execution_count": 22,
     "metadata": {},
     "output_type": "execute_result"
    }
   ],
   "source": [
    "# modelo\n",
    "lr = LogisticRegression(class_weight='balanced',random_state=42,n_jobs=-1)\n",
    "\n",
    "lr.fit(x_train, y_train)"
   ]
  },
  {
   "cell_type": "code",
   "execution_count": 23,
   "metadata": {},
   "outputs": [
    {
     "data": {
      "text/plain": [
       "0.7107142857142856"
      ]
     },
     "execution_count": 23,
     "metadata": {},
     "output_type": "execute_result"
    }
   ],
   "source": [
    "# avaliar modelo\n",
    "kfold = KFold(n_splits=10, random_state=42)\n",
    "lr_results = cross_val_score(lr, x_train, y_train, cv=kfold)\n",
    "lr_results.mean()"
   ]
  },
  {
   "cell_type": "code",
   "execution_count": 24,
   "metadata": {},
   "outputs": [],
   "source": [
    "# predição\n",
    "lr_predict = lr.predict(x_test)\n",
    "lr_proba = lr.predict_proba(x_test)[:,1]"
   ]
  },
  {
   "cell_type": "code",
   "execution_count": 25,
   "metadata": {},
   "outputs": [
    {
     "name": "stdout",
     "output_type": "stream",
     "text": [
      "Precision: 0.3986804901036758\n",
      "Recall: 0.7061769616026711\n",
      "F1: 0.7519825625080968\n",
      "ROC-AUC: 0.7826945367087587\n"
     ]
    }
   ],
   "source": [
    "# métricas\n",
    "print('Precision:',precision_score(y_test, lr_predict))\n",
    "print('Recall:',recall_score(y_test, lr_predict))\n",
    "print('F1:',f1_score(y_test, lr_predict, average='weighted'))\n",
    "print('ROC-AUC:',roc_auc_score(y_test, lr_proba))"
   ]
  },
  {
   "cell_type": "code",
   "execution_count": 26,
   "metadata": {},
   "outputs": [
    {
     "data": {
      "text/html": [
       "<div>\n",
       "<style scoped>\n",
       "    .dataframe tbody tr th:only-of-type {\n",
       "        vertical-align: middle;\n",
       "    }\n",
       "\n",
       "    .dataframe tbody tr th {\n",
       "        vertical-align: top;\n",
       "    }\n",
       "\n",
       "    .dataframe thead th {\n",
       "        text-align: right;\n",
       "    }\n",
       "</style>\n",
       "<table border=\"1\" class=\"dataframe\">\n",
       "  <thead>\n",
       "    <tr style=\"text-align: right;\">\n",
       "      <th></th>\n",
       "      <th>0</th>\n",
       "      <th>1</th>\n",
       "    </tr>\n",
       "  </thead>\n",
       "  <tbody>\n",
       "    <tr>\n",
       "      <th>0</th>\n",
       "      <td>1763</td>\n",
       "      <td>638</td>\n",
       "    </tr>\n",
       "    <tr>\n",
       "      <th>1</th>\n",
       "      <td>176</td>\n",
       "      <td>423</td>\n",
       "    </tr>\n",
       "  </tbody>\n",
       "</table>\n",
       "</div>"
      ],
      "text/plain": [
       "      0    1\n",
       "0  1763  638\n",
       "1   176  423"
      ]
     },
     "execution_count": 26,
     "metadata": {},
     "output_type": "execute_result"
    }
   ],
   "source": [
    "# matriz de confusão\n",
    "pd.DataFrame(confusion_matrix(y_test, lr_predict))"
   ]
  },
  {
   "cell_type": "markdown",
   "metadata": {},
   "source": [
    "### 2.3. Random Forest\n",
    "___\n",
    "Random Forests é um conjunto de Árvores de Decisão com Bootstrap Aggregation (bagging), onde as árvores são executadas em paralelo, o que significa que não há interação entre elas. Mais em [[4]](https://github.com/renan2scarvalho/Applied-Data-Science-with-Python/blob/master/3%20Applied%20Machine%20Learning%20in%20Python/cesarian.ipynb)."
   ]
  },
  {
   "cell_type": "code",
   "execution_count": 27,
   "metadata": {},
   "outputs": [],
   "source": [
    "from sklearn.ensemble import RandomForestClassifier"
   ]
  },
  {
   "cell_type": "code",
   "execution_count": 28,
   "metadata": {},
   "outputs": [
    {
     "data": {
      "text/plain": [
       "RandomForestClassifier(class_weight='balanced', n_jobs=-1, random_state=42)"
      ]
     },
     "execution_count": 28,
     "metadata": {},
     "output_type": "execute_result"
    }
   ],
   "source": [
    "# classificador\n",
    "rfc = RandomForestClassifier(class_weight='balanced', random_state=42, n_jobs=-1)\n",
    "\n",
    "rfc.fit(x_train, y_train)"
   ]
  },
  {
   "cell_type": "code",
   "execution_count": 29,
   "metadata": {},
   "outputs": [
    {
     "data": {
      "text/plain": [
       "0.7591428571428571"
      ]
     },
     "execution_count": 29,
     "metadata": {},
     "output_type": "execute_result"
    }
   ],
   "source": [
    "# avaliar modelo\n",
    "kfold = KFold(n_splits=10, random_state=42)\n",
    "rfc_results = cross_val_score(rfc, x_train, y_train, cv=kfold)\n",
    "rfc_results.mean()"
   ]
  },
  {
   "cell_type": "code",
   "execution_count": 30,
   "metadata": {},
   "outputs": [],
   "source": [
    "# predição\n",
    "rfc_predict = rfc.predict(x_test)\n",
    "rfc_proba = rfc.predict_proba(x_test)[:,1]"
   ]
  },
  {
   "cell_type": "code",
   "execution_count": 31,
   "metadata": {},
   "outputs": [
    {
     "name": "stdout",
     "output_type": "stream",
     "text": [
      "Precision: 0.4192740926157697\n",
      "Recall: 0.5592654424040067\n",
      "F1: 0.7694183943163357\n",
      "ROC-AUC: 0.7421525115787176\n"
     ]
    }
   ],
   "source": [
    "# métricas\n",
    "print('Precision:',precision_score(y_test, rfc_predict))\n",
    "print('Recall:',recall_score(y_test, rfc_predict))\n",
    "print('F1:',f1_score(y_test, rfc_predict, average='weighted'))\n",
    "print('ROC-AUC:',roc_auc_score(y_test, rfc_proba))"
   ]
  },
  {
   "cell_type": "code",
   "execution_count": 32,
   "metadata": {},
   "outputs": [
    {
     "data": {
      "text/html": [
       "<div>\n",
       "<style scoped>\n",
       "    .dataframe tbody tr th:only-of-type {\n",
       "        vertical-align: middle;\n",
       "    }\n",
       "\n",
       "    .dataframe tbody tr th {\n",
       "        vertical-align: top;\n",
       "    }\n",
       "\n",
       "    .dataframe thead th {\n",
       "        text-align: right;\n",
       "    }\n",
       "</style>\n",
       "<table border=\"1\" class=\"dataframe\">\n",
       "  <thead>\n",
       "    <tr style=\"text-align: right;\">\n",
       "      <th></th>\n",
       "      <th>0</th>\n",
       "      <th>1</th>\n",
       "    </tr>\n",
       "  </thead>\n",
       "  <tbody>\n",
       "    <tr>\n",
       "      <th>0</th>\n",
       "      <td>1937</td>\n",
       "      <td>464</td>\n",
       "    </tr>\n",
       "    <tr>\n",
       "      <th>1</th>\n",
       "      <td>264</td>\n",
       "      <td>335</td>\n",
       "    </tr>\n",
       "  </tbody>\n",
       "</table>\n",
       "</div>"
      ],
      "text/plain": [
       "      0    1\n",
       "0  1937  464\n",
       "1   264  335"
      ]
     },
     "execution_count": 32,
     "metadata": {},
     "output_type": "execute_result"
    }
   ],
   "source": [
    "# matriz de confusão\n",
    "pd.DataFrame(confusion_matrix(y_test, rfc_predict))"
   ]
  },
  {
   "cell_type": "markdown",
   "metadata": {},
   "source": [
    "### 2.4. Gradient Boosting\n",
    "___\n",
    "O algoritmo Gradient Boosting usa um conjunto de árvores individuais (weak learners) em série para atingir um strong learner. Aqui, as árvores são conectadas em série, de modo que a próxima árvore foque em consertar os erros do anterior (atua como um feedback). Um grande número de árvores, neste caso, pode levar a um overfitting, mas se ajustado corretamente, pode ser mais preciso do que o algoritmo Random Forests. Mais em [[4]](https://github.com/renan2scarvalho/Applied-Data-Science-with-Python/blob/master/3%20Applied%20Machine%20Learning%20in%20Python/cesarian.ipynb)."
   ]
  },
  {
   "cell_type": "code",
   "execution_count": 33,
   "metadata": {},
   "outputs": [],
   "source": [
    "from sklearn.ensemble import GradientBoostingClassifier"
   ]
  },
  {
   "cell_type": "code",
   "execution_count": 34,
   "metadata": {},
   "outputs": [
    {
     "data": {
      "text/plain": [
       "GradientBoostingClassifier(random_state=42)"
      ]
     },
     "execution_count": 34,
     "metadata": {},
     "output_type": "execute_result"
    }
   ],
   "source": [
    "# modelo\n",
    "gbc = GradientBoostingClassifier(random_state=42, )\n",
    "\n",
    "gbc.fit(x_train, y_train)"
   ]
  },
  {
   "cell_type": "code",
   "execution_count": 35,
   "metadata": {},
   "outputs": [
    {
     "data": {
      "text/plain": [
       "0.8342857142857143"
      ]
     },
     "execution_count": 35,
     "metadata": {},
     "output_type": "execute_result"
    }
   ],
   "source": [
    "# avaliar modelo\n",
    "kfold = KFold(n_splits=10, random_state=42)\n",
    "gbc_results = cross_val_score(gbc, x_train, y_train, cv=kfold)\n",
    "gbc_results.mean()"
   ]
  },
  {
   "cell_type": "code",
   "execution_count": 36,
   "metadata": {},
   "outputs": [],
   "source": [
    "# predição\n",
    "gbc_predict = gbc.predict(x_test)\n",
    "gbc_proba = gbc.predict_proba(x_test)[:,1]"
   ]
  },
  {
   "cell_type": "code",
   "execution_count": 37,
   "metadata": {},
   "outputs": [
    {
     "name": "stdout",
     "output_type": "stream",
     "text": [
      "Precision: 0.6881028938906752\n",
      "Recall: 0.3572621035058431\n",
      "F1: 0.8184545406132833\n",
      "ROC-AUC: 0.8039847058717187\n"
     ]
    }
   ],
   "source": [
    "# métricas\n",
    "print('Precision:',precision_score(y_test, gbc_predict))\n",
    "print('Recall:',recall_score(y_test, gbc_predict))\n",
    "print('F1:',f1_score(y_test, gbc_predict, average='weighted'))\n",
    "print('ROC-AUC:',roc_auc_score(y_test, gbc_proba))"
   ]
  },
  {
   "cell_type": "code",
   "execution_count": 38,
   "metadata": {},
   "outputs": [
    {
     "data": {
      "text/html": [
       "<div>\n",
       "<style scoped>\n",
       "    .dataframe tbody tr th:only-of-type {\n",
       "        vertical-align: middle;\n",
       "    }\n",
       "\n",
       "    .dataframe tbody tr th {\n",
       "        vertical-align: top;\n",
       "    }\n",
       "\n",
       "    .dataframe thead th {\n",
       "        text-align: right;\n",
       "    }\n",
       "</style>\n",
       "<table border=\"1\" class=\"dataframe\">\n",
       "  <thead>\n",
       "    <tr style=\"text-align: right;\">\n",
       "      <th></th>\n",
       "      <th>0</th>\n",
       "      <th>1</th>\n",
       "    </tr>\n",
       "  </thead>\n",
       "  <tbody>\n",
       "    <tr>\n",
       "      <th>0</th>\n",
       "      <td>2304</td>\n",
       "      <td>97</td>\n",
       "    </tr>\n",
       "    <tr>\n",
       "      <th>1</th>\n",
       "      <td>385</td>\n",
       "      <td>214</td>\n",
       "    </tr>\n",
       "  </tbody>\n",
       "</table>\n",
       "</div>"
      ],
      "text/plain": [
       "      0    1\n",
       "0  2304   97\n",
       "1   385  214"
      ]
     },
     "execution_count": 38,
     "metadata": {},
     "output_type": "execute_result"
    }
   ],
   "source": [
    "# matriz de confusão\n",
    "pd.DataFrame(confusion_matrix(y_test, gbc_predict))"
   ]
  },
  {
   "cell_type": "markdown",
   "metadata": {},
   "source": [
    "### 2.6. Extreme Gradient Boosting (XGBoost)\n",
    "___\n",
    "Similar ao algoritmo Gradient Boosting, mas com alguns diferenciais, como melhor penalização das árvores de decisão, encolhimento proporcional dos nós, dentre outros, sendo computacionalmente eficiente (rápido na execução) e altamente efetivo. Mais em [[5]](https://en.wikipedia.org/wiki/XGBoost), [[6]](https://machinelearningmastery.com/extreme-gradient-boosting-ensemble-in-python/).\n",
    "\n",
    "Um valor arbitrário de *scale_pos_weight* foi utilizado devido às classes desbalanceadas [[7]](https://machinelearningmastery.com/xgboost-for-imbalanced-classification/)."
   ]
  },
  {
   "cell_type": "code",
   "execution_count": 39,
   "metadata": {},
   "outputs": [],
   "source": [
    "from xgboost.sklearn import XGBClassifier"
   ]
  },
  {
   "cell_type": "code",
   "execution_count": 40,
   "metadata": {},
   "outputs": [
    {
     "data": {
      "text/plain": [
       "4"
      ]
     },
     "execution_count": 40,
     "metadata": {},
     "output_type": "execute_result"
    }
   ],
   "source": [
    "# desbalanço\n",
    "spw = round(np.unique(y_train, return_counts=True)[1][0]/np.unique(y_train, return_counts=True)[1][1])\n",
    "spw"
   ]
  },
  {
   "cell_type": "code",
   "execution_count": 41,
   "metadata": {},
   "outputs": [
    {
     "data": {
      "text/plain": [
       "XGBClassifier(base_score=0.5, booster='gbtree', colsample_bylevel=1,\n",
       "              colsample_bynode=1, colsample_bytree=1, gamma=0, gpu_id=-1,\n",
       "              importance_type='gain', interaction_constraints='',\n",
       "              learning_rate=0.300000012, max_delta_step=0, max_depth=6,\n",
       "              min_child_weight=1, missing=nan, monotone_constraints='()',\n",
       "              n_estimators=100, n_jobs=-1, num_parallel_tree=1, random_state=42,\n",
       "              reg_alpha=0, reg_lambda=1, scale_pos_weight=4, subsample=1,\n",
       "              tree_method='exact', validate_parameters=1, verbosity=None)"
      ]
     },
     "execution_count": 41,
     "metadata": {},
     "output_type": "execute_result"
    }
   ],
   "source": [
    "# modelo\n",
    "xgb = XGBClassifier(scale_pos_weight=spw, random_state=42, n_jobs=-1)\n",
    "\n",
    "xgb.fit(x_train, y_train)"
   ]
  },
  {
   "cell_type": "code",
   "execution_count": 42,
   "metadata": {},
   "outputs": [
    {
     "data": {
      "text/plain": [
       "0.7418571428571429"
      ]
     },
     "execution_count": 42,
     "metadata": {},
     "output_type": "execute_result"
    }
   ],
   "source": [
    "# avaliar modelo\n",
    "kfold = KFold(n_splits=10, random_state=42)\n",
    "xgb_results = cross_val_score(xgb, x_train, y_train, cv=kfold)\n",
    "xgb_results.mean()"
   ]
  },
  {
   "cell_type": "code",
   "execution_count": 43,
   "metadata": {},
   "outputs": [],
   "source": [
    "# predição\n",
    "xgb_predict = xgb.predict(x_test)\n",
    "xgb_proba = xgb.predict_proba(x_test)[:,1]"
   ]
  },
  {
   "cell_type": "code",
   "execution_count": 44,
   "metadata": {},
   "outputs": [
    {
     "name": "stdout",
     "output_type": "stream",
     "text": [
      "Precision: 0.4118257261410788\n",
      "Recall: 0.662771285475793\n",
      "F1: 0.7630534747429392\n",
      "ROC-AUC: 0.7731784683482605\n"
     ]
    }
   ],
   "source": [
    "# métricas\n",
    "print('Precision:',precision_score(y_test, xgb_predict))\n",
    "print('Recall:',recall_score(y_test, xgb_predict))\n",
    "print('F1:',f1_score(y_test, xgb_predict, average='weighted'))\n",
    "print('ROC-AUC:',roc_auc_score(y_test, xgb_proba))"
   ]
  },
  {
   "cell_type": "code",
   "execution_count": 45,
   "metadata": {},
   "outputs": [
    {
     "data": {
      "text/html": [
       "<div>\n",
       "<style scoped>\n",
       "    .dataframe tbody tr th:only-of-type {\n",
       "        vertical-align: middle;\n",
       "    }\n",
       "\n",
       "    .dataframe tbody tr th {\n",
       "        vertical-align: top;\n",
       "    }\n",
       "\n",
       "    .dataframe thead th {\n",
       "        text-align: right;\n",
       "    }\n",
       "</style>\n",
       "<table border=\"1\" class=\"dataframe\">\n",
       "  <thead>\n",
       "    <tr style=\"text-align: right;\">\n",
       "      <th></th>\n",
       "      <th>0</th>\n",
       "      <th>1</th>\n",
       "    </tr>\n",
       "  </thead>\n",
       "  <tbody>\n",
       "    <tr>\n",
       "      <th>0</th>\n",
       "      <td>1834</td>\n",
       "      <td>567</td>\n",
       "    </tr>\n",
       "    <tr>\n",
       "      <th>1</th>\n",
       "      <td>202</td>\n",
       "      <td>397</td>\n",
       "    </tr>\n",
       "  </tbody>\n",
       "</table>\n",
       "</div>"
      ],
      "text/plain": [
       "      0    1\n",
       "0  1834  567\n",
       "1   202  397"
      ]
     },
     "execution_count": 45,
     "metadata": {},
     "output_type": "execute_result"
    }
   ],
   "source": [
    "# matriz de confusão\n",
    "pd.DataFrame(confusion_matrix(y_test, xgb_predict))"
   ]
  },
  {
   "cell_type": "markdown",
   "metadata": {},
   "source": [
    "# 3. Avaliação\n",
    "\n",
    "___"
   ]
  },
  {
   "cell_type": "markdown",
   "metadata": {},
   "source": [
    "## 3.1. Métricas\n",
    "___"
   ]
  },
  {
   "cell_type": "markdown",
   "metadata": {},
   "source": [
    "Pelas figuras que apresentam a matriz de confusão normalizada abaixo, nota-se que o modelo de regressão logística apresentou uma taxa de TP ligeiramente superior ao algoritmo XGBoost, como também uma menor taxa de FN, ambos valores representado na linha inferior da matriz de confusão. Como resultado temos um maior valor de recall para ambos os algoritmos."
   ]
  },
  {
   "cell_type": "code",
   "execution_count": 46,
   "metadata": {},
   "outputs": [
    {
     "data": {
      "image/png": "[encoded data removed]",
      "text/plain": [
       "<Figure size 1008x648 with 11 Axes>"
      ]
     },
     "metadata": {},
     "output_type": "display_data"
    }
   ],
   "source": [
    "# confusion matrix normalized\n",
    "fig, [[ax0,ax1,ax2],[ax3,ax4,ax5]] = plt.subplots(2,3,figsize=(14,9))\n",
    "plot_confusion_matrix(dt, x_test, y_test, normalize='true', ax=ax0)\n",
    "ax0.set(title='Decision Stump')\n",
    "plot_confusion_matrix(lr, x_test, y_test, normalize='true', ax=ax1)\n",
    "ax1.set(title='Logistic Regression')\n",
    "plot_confusion_matrix(rfc, x_test, y_test, normalize='true', ax=ax2)\n",
    "ax2.set(title='Random Forest')\n",
    "plot_confusion_matrix(gbc, x_test, y_test, normalize='true', ax=ax3)\n",
    "ax3.set(title='Gradient Boosting')\n",
    "plot_confusion_matrix(xgb, x_test, y_test, normalize='true', ax=ax4)\n",
    "ax4.set(title='Extreme Gradient Boosting')\n",
    "\n",
    "for ax in [ax0,ax1,ax2,ax3,ax4]:\n",
    "    ax.grid(False)\n",
    "    \n",
    "plt.subplots_adjust(hspace=0.3)"
   ]
  },
  {
   "cell_type": "markdown",
   "metadata": {},
   "source": [
    "A curva ROC é uma forma gráfica de revisar o desempenho dos modelos de classificação, sendo um bom indicador de desempenho, especialmente porque estamos interessados na taxa de TP dos modelos. A área sob a curva (AUC) mede a capacidade do modelo de classificar corretamente aqueles que tiveram evasão, e os que não tiveram. Quanto maior a AUC, melhor o classificador em relação à taxa de TP.\n",
    "\n",
    "Abaixo, vemos que o modelo Gradient Boosting apresentou o maior valor de AUC, seguido pelos classificadores XGBoost e Regressão Logística, e por fim Random Forest. Nesse contexto, como os modelos de Regressão Logística e XGBoost apresentaram bons resultados de AUC, TP e baixa taxa de FN, principais métricas dentro do problema de negócio, como comentado acima, ambos serão considerados abaixo."
   ]
  },
  {
   "cell_type": "code",
   "execution_count": 47,
   "metadata": {},
   "outputs": [
    {
     "data": {
      "image/png": "[encoded data removed]",
      "text/plain": [
       "<Figure size 864x576 with 1 Axes>"
      ]
     },
     "metadata": {},
     "output_type": "display_data"
    }
   ],
   "source": [
    "# ROC-AUC\n",
    "fig, ax=plt.subplots(figsize=(12,8))\n",
    "plot_roc_curve(dt, x_test, y_test, ax=ax)\n",
    "plot_roc_curve(lr, x_test, y_test, ax=ax)\n",
    "plot_roc_curve(rfc, x_test, y_test, ax=ax)\n",
    "plot_roc_curve(gbc, x_test, y_test, ax=ax)\n",
    "plot_roc_curve(xgb, x_test, y_test, ax=ax)\n",
    "ax.plot([0,1], [0,1], linestyle='--', color='k')\n",
    "plt.title('ROC-CURVE', size=16);"
   ]
  },
  {
   "cell_type": "markdown",
   "metadata": {},
   "source": [
    "## 3.2. Ajuste de hiperparâmetros\n",
    "___\n",
    "No aprendizado de máquina, os hiperparâmetros são parâmetros cujos valores são utilizados no processo de aprendizado, tendo influência, portanto, na performance do modelo, influenciando no tempo e qualidade do processo de aprendizagem [[7]](https://en.wikipedia.org/wiki/Hyperparameter_(machine_learning)).\n",
    "\n",
    "Nesse contexto, nos passos a seguir, foram selecionados os modelos de Regressão Logística e XGBoost para ajuste de hiperparâmetros e reavaliação em função do problema de negócio $\\to$ recall tem maior impacto no lucro esperado e, portanto, o ajuste dos hiperparâmetros será em função de tal métrica."
   ]
  },
  {
   "cell_type": "markdown",
   "metadata": {},
   "source": [
    "### Regressão Logística\n",
    "___\n",
    "Para o algoritmo de regressão logística, quando utilizado regularização, é melhor que se normalize os valores das variáveis [[8]](https://www.dataschool.io/comparing-supervised-learning-algorithms/)."
   ]
  },
  {
   "cell_type": "markdown",
   "metadata": {},
   "source": [
    "- Normalizar o dataset ($\\mu$=0 e $\\sigma$=1)"
   ]
  },
  {
   "cell_type": "code",
   "execution_count": 48,
   "metadata": {},
   "outputs": [],
   "source": [
    "from sklearn.preprocessing import StandardScaler\n",
    "\n",
    "scaler = StandardScaler() "
   ]
  },
  {
   "cell_type": "code",
   "execution_count": 49,
   "metadata": {},
   "outputs": [],
   "source": [
    "x_train_sc = scaler.fit_transform(x_train)\n",
    "x_test_sc = scaler.transform(x_test)"
   ]
  },
  {
   "cell_type": "code",
   "execution_count": 50,
   "metadata": {},
   "outputs": [
    {
     "name": "stdout",
     "output_type": "stream",
     "text": [
      "Fitting 10 folds for each of 10 candidates, totalling 100 fits\n"
     ]
    },
    {
     "name": "stderr",
     "output_type": "stream",
     "text": [
      "[Parallel(n_jobs=-1)]: Using backend LokyBackend with 4 concurrent workers.\n",
      "[Parallel(n_jobs=-1)]: Done 100 out of 100 | elapsed:    0.6s finished\n"
     ]
    },
    {
     "data": {
      "text/plain": [
       "{'solver': 'liblinear', 'penalty': 'l2', 'C': 0.001}"
      ]
     },
     "execution_count": 50,
     "metadata": {},
     "output_type": "execute_result"
    }
   ],
   "source": [
    "# parâmetros para random search\n",
    "C = [0.001, 0.01, 0.1, 1, 10, 100]\n",
    "solver = ['newton-cg','liblinear','lbfgs']\n",
    "penalty = ['l1','l2']\n",
    "params = dict(C=C, solver=solver, penalty=penalty)\n",
    "\n",
    "# classificador\n",
    "clf = LogisticRegression(class_weight='balanced', random_state=42)\n",
    "\n",
    "# search\n",
    "kfold = KFold(n_splits=10, random_state=42)\n",
    "search = RandomizedSearchCV(clf, \n",
    "                            params, \n",
    "                            scoring='recall', \n",
    "                            cv = kfold,\n",
    "                            n_jobs=-1, \n",
    "                            verbose=1).fit(x_train_sc, y_train)\n",
    "\n",
    "# avaliar parâmetros\n",
    "search.best_params_"
   ]
  },
  {
   "cell_type": "code",
   "execution_count": 51,
   "metadata": {},
   "outputs": [
    {
     "data": {
      "text/plain": [
       "LogisticRegression(C=0.001, class_weight='balanced', n_jobs=-1, penalty='l1',\n",
       "                   random_state=42, solver='liblinear')"
      ]
     },
     "execution_count": 51,
     "metadata": {},
     "output_type": "execute_result"
    }
   ],
   "source": [
    "# modelo\n",
    "lr = LogisticRegression(solver='liblinear',C=0.001,penalty='l1',\n",
    "                        class_weight='balanced',random_state=42,n_jobs=-1)\n",
    "\n",
    "lr.fit(x_train_sc, y_train)"
   ]
  },
  {
   "cell_type": "code",
   "execution_count": 52,
   "metadata": {},
   "outputs": [
    {
     "data": {
      "text/plain": [
       "0.7027897097276115"
      ]
     },
     "execution_count": 52,
     "metadata": {},
     "output_type": "execute_result"
    }
   ],
   "source": [
    "# avaliar modelo\n",
    "kfold = KFold(n_splits=10, random_state=42)\n",
    "lr_results = cross_val_score(lr, x_train_sc, y_train, cv=kfold, scoring='recall')\n",
    "lr_results.mean()"
   ]
  },
  {
   "cell_type": "code",
   "execution_count": 53,
   "metadata": {},
   "outputs": [],
   "source": [
    "# predição\n",
    "lr_predict = lr.predict(x_test_sc)\n",
    "lr_proba = lr.predict_proba(x_test_sc)[:,1]"
   ]
  },
  {
   "cell_type": "code",
   "execution_count": 54,
   "metadata": {},
   "outputs": [
    {
     "name": "stdout",
     "output_type": "stream",
     "text": [
      "Precision: 0.3617200674536256\n",
      "Recall: 0.7161936560934892\n",
      "F1: 0.7202911929184486\n",
      "ROC-AUC: 0.7429288297377483\n"
     ]
    }
   ],
   "source": [
    "# métricas\n",
    "print('Precision:',precision_score(y_test, lr_predict))\n",
    "print('Recall:',recall_score(y_test, lr_predict))\n",
    "print('F1:',f1_score(y_test, lr_predict, average='weighted'))\n",
    "print('ROC-AUC:',roc_auc_score(y_test, lr_proba))"
   ]
  },
  {
   "cell_type": "code",
   "execution_count": 55,
   "metadata": {},
   "outputs": [
    {
     "data": {
      "text/html": [
       "<div>\n",
       "<style scoped>\n",
       "    .dataframe tbody tr th:only-of-type {\n",
       "        vertical-align: middle;\n",
       "    }\n",
       "\n",
       "    .dataframe tbody tr th {\n",
       "        vertical-align: top;\n",
       "    }\n",
       "\n",
       "    .dataframe thead th {\n",
       "        text-align: right;\n",
       "    }\n",
       "</style>\n",
       "<table border=\"1\" class=\"dataframe\">\n",
       "  <thead>\n",
       "    <tr style=\"text-align: right;\">\n",
       "      <th></th>\n",
       "      <th>0</th>\n",
       "      <th>1</th>\n",
       "    </tr>\n",
       "  </thead>\n",
       "  <tbody>\n",
       "    <tr>\n",
       "      <th>0</th>\n",
       "      <td>1644</td>\n",
       "      <td>757</td>\n",
       "    </tr>\n",
       "    <tr>\n",
       "      <th>1</th>\n",
       "      <td>170</td>\n",
       "      <td>429</td>\n",
       "    </tr>\n",
       "  </tbody>\n",
       "</table>\n",
       "</div>"
      ],
      "text/plain": [
       "      0    1\n",
       "0  1644  757\n",
       "1   170  429"
      ]
     },
     "execution_count": 55,
     "metadata": {},
     "output_type": "execute_result"
    }
   ],
   "source": [
    "# matriz de confusão\n",
    "lr_cm = confusion_matrix(y_test, lr_predict, normalize='true')\n",
    "pd.DataFrame(confusion_matrix(y_test, lr_predict))"
   ]
  },
  {
   "cell_type": "markdown",
   "metadata": {},
   "source": [
    "### XGBoost\n",
    "___"
   ]
  },
  {
   "cell_type": "code",
   "execution_count": 56,
   "metadata": {
    "scrolled": true
   },
   "outputs": [
    {
     "name": "stdout",
     "output_type": "stream",
     "text": [
      "Fitting 10 folds for each of 10 candidates, totalling 100 fits\n"
     ]
    },
    {
     "name": "stderr",
     "output_type": "stream",
     "text": [
      "[Parallel(n_jobs=-1)]: Using backend LokyBackend with 4 concurrent workers.\n",
      "[Parallel(n_jobs=-1)]: Done  42 tasks      | elapsed:   21.1s\n",
      "[Parallel(n_jobs=-1)]: Done 100 out of 100 | elapsed:   50.3s finished\n"
     ]
    },
    {
     "data": {
      "text/plain": [
       "{'subsample': 1,\n",
       " 'scale_pos_weight': 3,\n",
       " 'n_estimators': 300,\n",
       " 'min_child_weight': 3,\n",
       " 'max_depth': 3,\n",
       " 'learning_rate': 0.5,\n",
       " 'gamma': 0.1,\n",
       " 'colsample_bytree': 0.5}"
      ]
     },
     "execution_count": 56,
     "metadata": {},
     "output_type": "execute_result"
    }
   ],
   "source": [
    "# parâmetros para random search\n",
    "n_estimators = [50, 100, 300, 500]\n",
    "learning_rate = [0.01, 0.05, 0.1, 0.2, 0.5]\n",
    "subsample = [0.5, 0.8, 1]\n",
    "max_depth = [3, 5, 8, 10]\n",
    "gamma = [0, 0.1, 0.5]\n",
    "min_child_weight = [1, 3, 5]\n",
    "colsample_bytree = [0.5, 0.8, 1]\n",
    "scale_pos_weight = [3, 4, 5, 8]\n",
    "params = dict(n_estimators=n_estimators, \n",
    "              learning_rate=learning_rate, \n",
    "              subsample=subsample,\n",
    "              max_depth=max_depth,\n",
    "              gamma=gamma,\n",
    "              min_child_weight=min_child_weight,\n",
    "              colsample_bytree=colsample_bytree,\n",
    "              scale_pos_weight=scale_pos_weight)\n",
    "\n",
    "# classificador\n",
    "clf = XGBClassifier(random_state=42)\n",
    "\n",
    "# search\n",
    "kfold = KFold(n_splits=10, random_state=42)\n",
    "search = RandomizedSearchCV(clf, \n",
    "                            params, \n",
    "                            scoring='roc_auc', \n",
    "                            cv=kfold,\n",
    "                            verbose=1, \n",
    "                            n_jobs=-1).fit(x_train, y_train)\n",
    "\n",
    "# avaliar parâmetros\n",
    "search.best_params_"
   ]
  },
  {
   "cell_type": "code",
   "execution_count": 57,
   "metadata": {},
   "outputs": [
    {
     "data": {
      "text/plain": [
       "XGBClassifier(base_score=0.5, booster='gbtree', colsample_bylevel=1,\n",
       "              colsample_bynode=1, colsample_bytree=0.8, gamma=0.5, gpu_id=-1,\n",
       "              importance_type='gain', interaction_constraints='',\n",
       "              learning_rate=0.05, max_delta_step=0, max_depth=3,\n",
       "              min_child_weight=3, missing=nan, monotone_constraints='()',\n",
       "              n_estimators=300, n_jobs=0, num_parallel_tree=1, random_state=0,\n",
       "              reg_alpha=0, reg_lambda=1, scale_pos_weight=4, subsample=0.5,\n",
       "              tree_method='exact', validate_parameters=1, verbosity=None)"
      ]
     },
     "execution_count": 57,
     "metadata": {},
     "output_type": "execute_result"
    }
   ],
   "source": [
    "# modelo\n",
    "xgb = XGBClassifier(subsample=0.5,\n",
    "                     scale_pos_weight=4,\n",
    "                     n_estimators=300,\n",
    "                     min_child_weight=3,\n",
    "                     max_depth=3,\n",
    "                     learning_rate=0.05,\n",
    "                     gamma=0.5,\n",
    "                     colsample_bytree=0.8)\n",
    "\n",
    "xgb.fit(x_train, y_train)"
   ]
  },
  {
   "cell_type": "code",
   "execution_count": 58,
   "metadata": {},
   "outputs": [
    {
     "data": {
      "text/plain": [
       "0.6917768781892131"
      ]
     },
     "execution_count": 58,
     "metadata": {},
     "output_type": "execute_result"
    }
   ],
   "source": [
    "# avaliar modelo\n",
    "kfold = KFold(n_splits=10, random_state=42)\n",
    "xgb_results = cross_val_score(xgb, x_train, y_train, cv=kfold, scoring='recall')\n",
    "xgb_results.mean()"
   ]
  },
  {
   "cell_type": "code",
   "execution_count": 59,
   "metadata": {},
   "outputs": [],
   "source": [
    "# predição\n",
    "xgb_predict = xgb.predict(x_test)\n",
    "xgb_proba = xgb.predict_proba(x_test)[:,1]"
   ]
  },
  {
   "cell_type": "code",
   "execution_count": 60,
   "metadata": {},
   "outputs": [
    {
     "name": "stdout",
     "output_type": "stream",
     "text": [
      "Precision: 0.4155712841253792\n",
      "Recall: 0.6861435726210351\n",
      "F1: 0.764735439489127\n",
      "ROC-AUC: 0.8042068587170482\n"
     ]
    }
   ],
   "source": [
    "# métricas\n",
    "print('Precision:',precision_score(y_test, xgb_predict))\n",
    "print('Recall:',recall_score(y_test, xgb_predict))\n",
    "print('F1:',f1_score(y_test, xgb_predict, average='weighted'))\n",
    "print('ROC-AUC:',roc_auc_score(y_test, xgb_proba))"
   ]
  },
  {
   "cell_type": "code",
   "execution_count": 61,
   "metadata": {},
   "outputs": [
    {
     "data": {
      "text/html": [
       "<div>\n",
       "<style scoped>\n",
       "    .dataframe tbody tr th:only-of-type {\n",
       "        vertical-align: middle;\n",
       "    }\n",
       "\n",
       "    .dataframe tbody tr th {\n",
       "        vertical-align: top;\n",
       "    }\n",
       "\n",
       "    .dataframe thead th {\n",
       "        text-align: right;\n",
       "    }\n",
       "</style>\n",
       "<table border=\"1\" class=\"dataframe\">\n",
       "  <thead>\n",
       "    <tr style=\"text-align: right;\">\n",
       "      <th></th>\n",
       "      <th>0</th>\n",
       "      <th>1</th>\n",
       "    </tr>\n",
       "  </thead>\n",
       "  <tbody>\n",
       "    <tr>\n",
       "      <th>0</th>\n",
       "      <td>1823</td>\n",
       "      <td>578</td>\n",
       "    </tr>\n",
       "    <tr>\n",
       "      <th>1</th>\n",
       "      <td>188</td>\n",
       "      <td>411</td>\n",
       "    </tr>\n",
       "  </tbody>\n",
       "</table>\n",
       "</div>"
      ],
      "text/plain": [
       "      0    1\n",
       "0  1823  578\n",
       "1   188  411"
      ]
     },
     "execution_count": 61,
     "metadata": {},
     "output_type": "execute_result"
    }
   ],
   "source": [
    "# matriz de confusão\n",
    "xgb_cm = confusion_matrix(y_test, xgb_predict, normalize='true')\n",
    "pd.DataFrame(confusion_matrix(y_test, xgb_predict))"
   ]
  },
  {
   "cell_type": "markdown",
   "metadata": {},
   "source": [
    "### Comparação\n",
    "___\n",
    "O modelo de regressão logística apresentou uma maior taxa de TP (0.74) e uma menor taxa de FN (0.26), enquanto o modelo XGBoost apresentou uma menor taxa de TP (0.71) e maior taxa de FN (0.29). De maneira geral, ambos os modelos apresentaram melhorias nos parâmetros TP e FN. Portanto, de acordo com o problema de negócio, o modelo de regressão logística apresenta uma melhor performance.\n",
    "\n",
    "Nota-se também que, quando os parâmetros foram ajustados, o valor de AUC para o modelo XGBoost aumentou de 0.78 para 0.8 enquanto o modelo de regressão logística teve redução de 0.77 para 0.73 devido ao scoring utilizado (recall), com redução de TN e aumento de FP."
   ]
  },
  {
   "cell_type": "code",
   "execution_count": 62,
   "metadata": {},
   "outputs": [
    {
     "data": {
      "image/png": "[encoded data removed]",
      "text/plain": [
       "<Figure size 720x576 with 8 Axes>"
      ]
     },
     "metadata": {},
     "output_type": "display_data"
    }
   ],
   "source": [
    "# matriz de confusão\n",
    "# regressão logística\n",
    "fig, [[ax0,ax1],[ax3,ax4]] = plt.subplots(2,2,figsize=(10,8))\n",
    "plt.subplots_adjust(hspace=.3)\n",
    "plot_confusion_matrix(lr, x_test_sc, y_test, ax=ax0)\n",
    "ax0.grid(False)\n",
    "ax0.set(title='Regressão Logística')\n",
    "plot_confusion_matrix(lr, x_test_sc, y_test, normalize='true',ax=ax1)\n",
    "ax1.grid(False)\n",
    "ax1.set(title='Regressão Logística - Normalized')\n",
    "# GB\n",
    "plot_confusion_matrix(xgb, x_test, y_test, ax=ax3)\n",
    "ax3.grid(False)\n",
    "ax3.set(title='Gradient Boosting')\n",
    "plot_confusion_matrix(xgb, x_test, y_test, normalize='true',ax=ax4)\n",
    "ax4.grid(False)\n",
    "ax4.set(title='Gradient Boosting - Normalized');"
   ]
  },
  {
   "cell_type": "code",
   "execution_count": 63,
   "metadata": {},
   "outputs": [
    {
     "data": {
      "image/png": "[encoded data removed]",
      "text/plain": [
       "<Figure size 576x432 with 1 Axes>"
      ]
     },
     "metadata": {},
     "output_type": "display_data"
    }
   ],
   "source": [
    "# ROC-AUC\n",
    "fig, ax=plt.subplots(figsize=(8,6))\n",
    "plot_roc_curve(lr, x_test_sc, y_test, ax=ax)\n",
    "plot_roc_curve(gbc, x_test, y_test, ax=ax)\n",
    "ax.plot([0,1], [0,1], linestyle='--', color='k')\n",
    "plt.title('ROC-CURVE', size=14);"
   ]
  },
  {
   "cell_type": "markdown",
   "metadata": {},
   "source": [
    "## 3.2. Lucro Esperado\n",
    "___\n",
    "Entretanto, quando aplicada a equação de valor esperado de lucro mencionada acima, foi possível calcular o valor esperado em função da performance dos classificadores e da matriz de custo-benefício, ou seja, considerando tanto os aspectos técnicos do classificador quanto o plano de retenção de clientes. \n",
    "\n",
    "Nota-se que o classficador com maior valor esperado é o modelo de Regressão Logística, seguido pelo modelo Gradient Boosting, ou seja, utilizando o plano de retenção de clientes indicado no início, os dois modelos comentados apresentariam lucro esperado positivo. Isso porque, como indicado, os modelos apresentam uma baixa taxa de FN, a qual como apresentado na equação, é capaz de reduzir o valor esperado significativamente."
   ]
  },
  {
   "cell_type": "code",
   "execution_count": 64,
   "metadata": {},
   "outputs": [
    {
     "name": "stdout",
     "output_type": "stream",
     "text": [
      "Regressão Logística - Lucro Esperado: $16.86\n"
     ]
    }
   ],
   "source": [
    "print('Regressão Logística - Lucro Esperado: ${}'.format(\n",
    "    round(\n",
    "        p_1*((lr_cm[1][1]*cb[1][1]) + (lr_cm[1][0]*cb[1][0])) + \n",
    "        p_0*((lr_cm[0][0]*cb[0][0]) + (lr_cm[0][1]*cb[0][1])),\n",
    "        2)\n",
    "    )\n",
    ")"
   ]
  },
  {
   "cell_type": "code",
   "execution_count": 65,
   "metadata": {},
   "outputs": [
    {
     "name": "stdout",
     "output_type": "stream",
     "text": [
      "Gradient Boosting - Lucro Esperado: $14.87\n"
     ]
    }
   ],
   "source": [
    "print('Gradient Boosting - Lucro Esperado: ${}'.format(\n",
    "    round(\n",
    "        p_1*((xgb_cm[1][1]*cb[1][1]) + (xgb_cm[1][0]*cb[1][0])) + \n",
    "        p_0*((xgb_cm[0][0]*cb[0][0]) + (xgb_cm[0][1]*cb[0][1])),\n",
    "        2)\n",
    "    )\n",
    ")"
   ]
  },
  {
   "cell_type": "markdown",
   "metadata": {},
   "source": [
    "### 3.2.1. Curvas de Lucro Esperado\n",
    "___\n",
    "Entretanto, uma estragégia diferente para a tomada de decisão pode ser o rankeamento das instâncias de acordo com seu score de churn, ou seja, sua probabilidade, onde, através dos resultados e visualização da curva das instâncias rankeadas por score, pode-se escolher determinado número $n$ de clientes para aplicar o plano de retenção, de acordo com o lucro máximo apresentado por cada classificador, como é também possível adaptar o plano de retenção com restrições orçamentárias para outro determinado número $n$ de clientes.\n",
    "\n",
    "Mais especificamente, a classificação por rankeamento produz uma lista de instâncias e seus scores de probabilidade de forma decrescente, calculando-se o valor esperado resultando para cada instância da lista. Como é possível notar abaixo, a curva de lucro pode ser negativa, especialmente quando a margem de lucro é pequena e o número de clientes que o programa de retenção consegue atingir é também pequeno [[3]](https://www.oreilly.com/library/view/data-science-for/9781449374273/). Diferentemente do valor esperado calculado anteriormente, o qual considera os valores totais do classificador, no caso da curva de valor esperado os valores de TP, TN, FP, FN mudam a cada e instância e, portanto, seu valor esperado."
   ]
  },
  {
   "cell_type": "code",
   "execution_count": 66,
   "metadata": {},
   "outputs": [],
   "source": [
    "df_cost = pd.DataFrame(y_test, index=idx2_df, columns=['y_true'])"
   ]
  },
  {
   "cell_type": "code",
   "execution_count": 67,
   "metadata": {},
   "outputs": [],
   "source": [
    "def calculate_metrics(df,cb_matrix):\n",
    "    \n",
    "    \"\"\"Calcula tp, tn, fp, fn, FPR, gain, valor esperado e % de instâncias para um\n",
    "    dataframe e uma matriz de custo-benefício\"\"\"\n",
    "    \n",
    "    df['tp']=0\n",
    "    df['tn']=0\n",
    "    df['fp']=0\n",
    "    df['fn']=0\n",
    "    df['EV'] = 0\n",
    "    df['Perc Instances'] = 0\n",
    "    \n",
    "    tp_aux,tn_aux,fp_aux,fn_aux = 0,0,0,0\n",
    "\n",
    "    for i in range(df.shape[0]):\n",
    "\n",
    "        # Calcular tp, tn, fp, fn\n",
    "        if df.iloc[i,0]==1 and df.iloc[i,1]==1: # churn -> tp\n",
    "            tp_aux+=1\n",
    "            df.iloc[i,3] = tp_aux\n",
    "\n",
    "        elif df.iloc[i,0]==0 and df.iloc[i,1]==0: # no churn -> tn\n",
    "            tn_aux+=1\n",
    "            df.iloc[i,4] = tn_aux\n",
    "\n",
    "        elif df.iloc[i,0]==0 and df.iloc[i,1]==1: # fp\n",
    "            fp_aux+=1\n",
    "            df.iloc[i,5] = fp_aux\n",
    "\n",
    "        elif df.iloc[i,0]==1 and df.iloc[i,1]==0: # fn\n",
    "            fn_aux+=1\n",
    "            df.iloc[i,6] = fn_aux\n",
    "           \n",
    "        # Calcular valor esperado\n",
    "        cm = [[tn_aux, fp_aux], [fn_aux, tp_aux]]\n",
    "        df.iloc[i,7] = sum(sum(cm * cb_matrix)) / df.shape[0]\n",
    "        \n",
    "        # Calcular porcentagem de instâncias\n",
    "        df.iloc[i,8] = (i+1)/df.shape[0]"
   ]
  },
  {
   "cell_type": "markdown",
   "metadata": {},
   "source": [
    "### Regressão Logística\n",
    "____"
   ]
  },
  {
   "cell_type": "code",
   "execution_count": 68,
   "metadata": {},
   "outputs": [],
   "source": [
    "lr_cost = df_cost.copy()\n",
    "lr_cost['predict'] = lr_predict\n",
    "lr_cost['proba'] = lr_proba\n",
    "lr_cost = lr_cost.sort_values(by='proba', ascending=False)"
   ]
  },
  {
   "cell_type": "code",
   "execution_count": 69,
   "metadata": {
    "scrolled": false
   },
   "outputs": [],
   "source": [
    "calculate_metrics(lr_cost,cb)"
   ]
  },
  {
   "cell_type": "markdown",
   "metadata": {},
   "source": [
    "### Gradient Boosting\n",
    "___"
   ]
  },
  {
   "cell_type": "code",
   "execution_count": 70,
   "metadata": {},
   "outputs": [],
   "source": [
    "xgb_cost = df_cost.copy()\n",
    "xgb_cost['predict'] = xgb_predict\n",
    "xgb_cost['proba'] = xgb_proba\n",
    "xgb_cost = xgb_cost.sort_values(by='proba', ascending=False)"
   ]
  },
  {
   "cell_type": "code",
   "execution_count": 71,
   "metadata": {},
   "outputs": [],
   "source": [
    "calculate_metrics(xgb_cost,cb)"
   ]
  },
  {
   "cell_type": "markdown",
   "metadata": {},
   "source": [
    "Nota-se pelas curvas de lucro que o lucro máximo de \\\\$26.25 obtido é pelo modelo de Regressão Logística com 44.9% do número de instâncias de teste, o que representa 1347 clientes. Já o modelo XGBoost teve lucro esperado máximo de \\\\$25.26 com 33.5% do total de instâncias, o que representa 1006 clientes. \n",
    "\n",
    "Nesse contexto, analisando as curvas, nota-se que o modeo XGBoost apresenta um lucro esperado superior com uma menor quantidade de clientes.\n",
    "Já no caso do modelo de Regressão Logística, se obtém um lucro esperado superior, porém com uma maior porcentagem de instâncias dos clientes. Essa análise é interessante justamente por tal fato, pois de acordo com o orçamento disponível, pode-se escolher o modelo que será mais eficaz em relação ao lucro esperado para a empresa."
   ]
  },
  {
   "cell_type": "code",
   "execution_count": 72,
   "metadata": {},
   "outputs": [
    {
     "data": {
      "image/png": "[encoded data removed]",
      "text/plain": [
       "<Figure size 1008x576 with 1 Axes>"
      ]
     },
     "metadata": {},
     "output_type": "display_data"
    }
   ],
   "source": [
    "fig, ax=plt.subplots(figsize=(14,8))\n",
    "ax.plot(lr_cost['Perc Instances'],lr_cost['EV'], linestyle='--', label='Logistic Regression')\n",
    "ax.plot(xgb_cost['Perc Instances'],xgb_cost['EV'], linestyle='--', label='XGBoost')\n",
    "plt.legend()\n",
    "ax.set(title='Curvas de Lucro', xlabel='Porcentagem de instâncias de teste',\n",
    "      ylabel='Lucro');"
   ]
  },
  {
   "cell_type": "code",
   "execution_count": 73,
   "metadata": {},
   "outputs": [
    {
     "name": "stdout",
     "output_type": "stream",
     "text": [
      "Regressão Logística: Lucro máximo esperado de $25.025 com 39.56666666666667% das instâncias (1187.0 clientes)\n"
     ]
    }
   ],
   "source": [
    "print('Regressão Logística: Lucro máximo esperado de ${} com {}% das instâncias ({} clientes)'.format(\n",
    "    lr_cost.sort_values(by='EV', ascending=False).head(1)['EV'].values[0],\n",
    "    lr_cost.sort_values(by='EV', ascending=False).head(1)['Perc Instances'].values[0]*100,\n",
    "    (lr_cost.sort_values(by='EV', ascending=False).head(1)['Perc Instances'].values*lr_cost.shape[0])[0])\n",
    ")"
   ]
  },
  {
   "cell_type": "code",
   "execution_count": 74,
   "metadata": {},
   "outputs": [
    {
     "name": "stdout",
     "output_type": "stream",
     "text": [
      "XGBoost: Lucro máximo esperado de $23.975 com 33.06666666666666% das instâncias (992.0 clientes)\n"
     ]
    }
   ],
   "source": [
    "print('XGBoost: Lucro máximo esperado de ${} com {}% das instâncias ({} clientes)'.format(\n",
    "    xgb_cost.sort_values(by='EV', ascending=False).head(1)['EV'].values[0],\n",
    "    xgb_cost.sort_values(by='EV', ascending=False).head(1)['Perc Instances'].values[0]*100,\n",
    "    (xgb_cost.sort_values(by='EV', ascending=False).head(1)['Perc Instances'].values*xgb_cost.shape[0])[0])\n",
    ")"
   ]
  },
  {
   "cell_type": "markdown",
   "metadata": {},
   "source": [
    "### 3.2.2. Constrained Budget\n",
    "___\n",
    "Considerando o caso em que se possui uma restrição orçamentária para a campanha de retenção, como, por exemplo \\\\$45000. Nesse caso, como casa oferta de retenção custa \\\\$150, temos que:\n",
    "\n",
    "$$ n_{ofertas} = \\frac{orçamento}{custo} = \\frac{\\\\$45000}{\\\\$150} = 300$$\n",
    "\n",
    "Nesse escopo, teríamos que a porcentagem de instâncias de teste seria $n_{ofertas}/n_{clientes} \\to 300/3000 \\to $10%, o classificador Gradient Boosting apresenta o maio lucro esperado, como visto abaixo e comentado acima."
   ]
  },
  {
   "cell_type": "code",
   "execution_count": 75,
   "metadata": {},
   "outputs": [
    {
     "data": {
      "image/png": "[encoded data removed]",
      "text/plain": [
       "<Figure size 720x432 with 1 Axes>"
      ]
     },
     "metadata": {},
     "output_type": "display_data"
    }
   ],
   "source": [
    "fig, ax=plt.subplots(figsize=(10,6))\n",
    "ax.plot(lr_cost['Perc Instances'][:300],lr_cost['EV'][:300], linestyle='--', label='Logistic Regression')\n",
    "ax.plot(xgb_cost['Perc Instances'][:300],xgb_cost['EV'][:300], linestyle='--', label='XGBoost')\n",
    "plt.legend()\n",
    "ax.set(title='Curvas de Lucro', xlabel='Porcentagem de instâncias de teste',\n",
    "      ylabel='Lucro');"
   ]
  },
  {
   "cell_type": "markdown",
   "metadata": {},
   "source": [
    "# 4. Sumarização\n",
    "____"
   ]
  },
  {
   "cell_type": "markdown",
   "metadata": {},
   "source": [
    "Entre as métricas:\n",
    "\n",
    "- Recall: Regressão Logística\n",
    "- ROC-AUC: XGBoost\n",
    "- Valor Esperado: Regressão Logística\n",
    "- Curvas de Lucro: variável de acordo com budget\n",
    "\n",
    "Portanto, nota-se que o modelo a ser utilizado pela empresa será variável de acordo com as restrições apresentadas pela própria empresa, pois caso não exista restrição orçamentária, o modelo de Regressão Logística seria o melhor em relação ao lucro esperado. Entretanto, caso exista, um maior escrutínio acerca da porcentagem de instância a serem consideradas é necessário e, portanto, a escolha do modelo pode variar."
   ]
  },
  {
   "cell_type": "code",
   "execution_count": null,
   "metadata": {},
   "outputs": [],
   "source": []
  }
 ],
 "metadata": {
  "kernelspec": {
   "display_name": "Python 3",
   "language": "python",
   "name": "python3"
  },
  "language_info": {
   "codemirror_mode": {
    "name": "ipython",
    "version": 3
   },
   "file_extension": ".py",
   "mimetype": "text/x-python",
   "name": "python",
   "nbconvert_exporter": "python",
   "pygments_lexer": "ipython3",
   "version": "3.8.3"
  }
 },
 "nbformat": 4,
 "nbformat_minor": 4
}
