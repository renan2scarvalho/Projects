{
 "cells": [
  {
   "cell_type": "markdown",
   "metadata": {},
   "source": [
    "# Análise de Churn - Pré-Processamento\n",
    "___\n",
    "**Churn**, também chamado de *churn rate* ou *attrition rate*, é uma métrica que mede a evasão de clientes de determinada empresa, ou seja, a taxa de cancelamento. Ou seja, caso a taxa de evasão seja alta, quer dizer que os clientes estão insatisfeitos com a empresa, e que há algum problema que deve ser tratado. Nesse caso, o notebook trata de um dataset fictício de um banco visando previsão de churns.\n",
    "\n",
    "### O problema de negócio\n",
    "___\n",
    "O problema de negócio consiste basicamente na elaboração de um modelo de previsão de churn, para que o time de marketing possa realizar um plano de retenção dos clientes mais propensos a churn. \n",
    "A taxa média de churn é claramente variável de acordo com o porte e segmento da empresa. No caso do setor bancário, taxas de churn entre 11% a 34% podem ser encontradas [[1]](https://thefinancialbrand.com/59779/digital-banking-branch-channel-switching/).\n",
    "Nesse contexto, o notebook apresenta uma análise exploratória dos dados (EDA), e pré-processamento dos mesmos, visando responder algumas perguntas que auxiliem a tomada de decisão acerca da taxa de evasão deste banco podem ser realizadas, como por exemplo:\n",
    "\n",
    "- Qual a atual taxa de churn da empresa?\n",
    "- Como ela varia de acordo com os clientes (e.g. idade, se possui ou não cartão de crédito)?\n",
    "- Em quais países ela é mais alta?\n",
    "- Qual o gênero com maior taxa? Varia também por país?\n",
    "\n",
    "\n",
    "### Os dados\n",
    "___\n",
    "O [Dataset](https://www.kaggle.com/mervetorkan/churndataset?select=churn.csv) apresenta 10.000 instâncias com dados fictícios de um banco que atua na Europa, com 14 atributos diversos acerca de clientes:\n",
    "- Independentes:\n",
    "    - Variável `RowNumber` representa o índice da tabela\n",
    "    - Variável `CustomerId` representa o Id único do cliente\n",
    "    - Variável `Surname` representa o sobrenome do cliente \n",
    "    - Variável `CreditScore` representa os pontos de crédito do cliente\n",
    "    - Variável `Geography` representa o país do cliente\n",
    "    - Variável `Gender` representa o gênero do cliente\n",
    "    - Variável `Age` representa a idade do cliente\n",
    "    - Variável `Tenure` representa por quanto tempo (# anos) que o cliente tem sido cliente do banco\n",
    "    - Variável `Balance` representa o valor monetário que o cliente possui em sua conta\n",
    "    - Variável `NumOfProducts` representa o número de produtos que o cliente comprou através do banco\n",
    "    - Variável `HasCrCard` representa se o cliente possui ou não cartão de crédito\n",
    "    - Variável `IsActiveMember` representa a atividade do cliente (se é membro ativo ou não)\n",
    "    - Variável `EstimatedSalary` representa uma estimativa do salário do cliente\n",
    "- Dependentes:\n",
    "    - Variável `Exited` representa a saída do cliente, i.e churn"
   ]
  },
  {
   "cell_type": "markdown",
   "metadata": {},
   "source": [
    "- Importar bibliotecas:"
   ]
  },
  {
   "cell_type": "code",
   "execution_count": 1,
   "metadata": {},
   "outputs": [],
   "source": [
    "%matplotlib inline\n",
    "\n",
    "import pandas as pd\n",
    "import numpy as np\n",
    "import matplotlib.pyplot as plt\n",
    "import seaborn as sns\n",
    "import warnings as wn\n",
    "\n",
    "wn.filterwarnings('ignore')\n",
    "\n",
    "plt.style.use('ggplot')"
   ]
  },
  {
   "cell_type": "markdown",
   "metadata": {},
   "source": [
    "- Ler o dataset, mostrar as 5 primeiras linhas:"
   ]
  },
  {
   "cell_type": "code",
   "execution_count": 2,
   "metadata": {},
   "outputs": [],
   "source": [
    "churn = pd.read_csv('churn.csv')"
   ]
  },
  {
   "cell_type": "code",
   "execution_count": 3,
   "metadata": {},
   "outputs": [
    {
     "data": {
      "text/html": [
       "<div>\n",
       "<style scoped>\n",
       "    .dataframe tbody tr th:only-of-type {\n",
       "        vertical-align: middle;\n",
       "    }\n",
       "\n",
       "    .dataframe tbody tr th {\n",
       "        vertical-align: top;\n",
       "    }\n",
       "\n",
       "    .dataframe thead th {\n",
       "        text-align: right;\n",
       "    }\n",
       "</style>\n",
       "<table border=\"1\" class=\"dataframe\">\n",
       "  <thead>\n",
       "    <tr style=\"text-align: right;\">\n",
       "      <th></th>\n",
       "      <th>RowNumber</th>\n",
       "      <th>CustomerId</th>\n",
       "      <th>Surname</th>\n",
       "      <th>CreditScore</th>\n",
       "      <th>Geography</th>\n",
       "      <th>Gender</th>\n",
       "      <th>Age</th>\n",
       "      <th>Tenure</th>\n",
       "      <th>Balance</th>\n",
       "      <th>NumOfProducts</th>\n",
       "      <th>HasCrCard</th>\n",
       "      <th>IsActiveMember</th>\n",
       "      <th>EstimatedSalary</th>\n",
       "      <th>Exited</th>\n",
       "    </tr>\n",
       "  </thead>\n",
       "  <tbody>\n",
       "    <tr>\n",
       "      <th>0</th>\n",
       "      <td>1</td>\n",
       "      <td>15634602</td>\n",
       "      <td>Hargrave</td>\n",
       "      <td>619</td>\n",
       "      <td>France</td>\n",
       "      <td>Female</td>\n",
       "      <td>42</td>\n",
       "      <td>2</td>\n",
       "      <td>0.00</td>\n",
       "      <td>1</td>\n",
       "      <td>1</td>\n",
       "      <td>1</td>\n",
       "      <td>101348.88</td>\n",
       "      <td>1</td>\n",
       "    </tr>\n",
       "    <tr>\n",
       "      <th>1</th>\n",
       "      <td>2</td>\n",
       "      <td>15647311</td>\n",
       "      <td>Hill</td>\n",
       "      <td>608</td>\n",
       "      <td>Spain</td>\n",
       "      <td>Female</td>\n",
       "      <td>41</td>\n",
       "      <td>1</td>\n",
       "      <td>83807.86</td>\n",
       "      <td>1</td>\n",
       "      <td>0</td>\n",
       "      <td>1</td>\n",
       "      <td>112542.58</td>\n",
       "      <td>0</td>\n",
       "    </tr>\n",
       "    <tr>\n",
       "      <th>2</th>\n",
       "      <td>3</td>\n",
       "      <td>15619304</td>\n",
       "      <td>Onio</td>\n",
       "      <td>502</td>\n",
       "      <td>France</td>\n",
       "      <td>Female</td>\n",
       "      <td>42</td>\n",
       "      <td>8</td>\n",
       "      <td>159660.80</td>\n",
       "      <td>3</td>\n",
       "      <td>1</td>\n",
       "      <td>0</td>\n",
       "      <td>113931.57</td>\n",
       "      <td>1</td>\n",
       "    </tr>\n",
       "    <tr>\n",
       "      <th>3</th>\n",
       "      <td>4</td>\n",
       "      <td>15701354</td>\n",
       "      <td>Boni</td>\n",
       "      <td>699</td>\n",
       "      <td>France</td>\n",
       "      <td>Female</td>\n",
       "      <td>39</td>\n",
       "      <td>1</td>\n",
       "      <td>0.00</td>\n",
       "      <td>2</td>\n",
       "      <td>0</td>\n",
       "      <td>0</td>\n",
       "      <td>93826.63</td>\n",
       "      <td>0</td>\n",
       "    </tr>\n",
       "    <tr>\n",
       "      <th>4</th>\n",
       "      <td>5</td>\n",
       "      <td>15737888</td>\n",
       "      <td>Mitchell</td>\n",
       "      <td>850</td>\n",
       "      <td>Spain</td>\n",
       "      <td>Female</td>\n",
       "      <td>43</td>\n",
       "      <td>2</td>\n",
       "      <td>125510.82</td>\n",
       "      <td>1</td>\n",
       "      <td>1</td>\n",
       "      <td>1</td>\n",
       "      <td>79084.10</td>\n",
       "      <td>0</td>\n",
       "    </tr>\n",
       "  </tbody>\n",
       "</table>\n",
       "</div>"
      ],
      "text/plain": [
       "   RowNumber  CustomerId   Surname  CreditScore Geography  Gender  Age  \\\n",
       "0          1    15634602  Hargrave          619    France  Female   42   \n",
       "1          2    15647311      Hill          608     Spain  Female   41   \n",
       "2          3    15619304      Onio          502    France  Female   42   \n",
       "3          4    15701354      Boni          699    France  Female   39   \n",
       "4          5    15737888  Mitchell          850     Spain  Female   43   \n",
       "\n",
       "   Tenure    Balance  NumOfProducts  HasCrCard  IsActiveMember  \\\n",
       "0       2       0.00              1          1               1   \n",
       "1       1   83807.86              1          0               1   \n",
       "2       8  159660.80              3          1               0   \n",
       "3       1       0.00              2          0               0   \n",
       "4       2  125510.82              1          1               1   \n",
       "\n",
       "   EstimatedSalary  Exited  \n",
       "0        101348.88       1  \n",
       "1        112542.58       0  \n",
       "2        113931.57       1  \n",
       "3         93826.63       0  \n",
       "4         79084.10       0  "
      ]
     },
     "execution_count": 3,
     "metadata": {},
     "output_type": "execute_result"
    }
   ],
   "source": [
    "churn.head()"
   ]
  },
  {
   "cell_type": "markdown",
   "metadata": {},
   "source": [
    "- Dataset conta com 10000 instâncias e 14 atributos:"
   ]
  },
  {
   "cell_type": "code",
   "execution_count": 4,
   "metadata": {},
   "outputs": [
    {
     "data": {
      "text/plain": [
       "(10000, 14)"
      ]
     },
     "execution_count": 4,
     "metadata": {},
     "output_type": "execute_result"
    }
   ],
   "source": [
    "churn.shape"
   ]
  },
  {
   "cell_type": "markdown",
   "metadata": {},
   "source": [
    "- Mostrar as informações sobre as variáveis, e a presença de valores nulos:"
   ]
  },
  {
   "cell_type": "code",
   "execution_count": 5,
   "metadata": {},
   "outputs": [
    {
     "name": "stdout",
     "output_type": "stream",
     "text": [
      "<class 'pandas.core.frame.DataFrame'>\n",
      "RangeIndex: 10000 entries, 0 to 9999\n",
      "Data columns (total 14 columns):\n",
      " #   Column           Non-Null Count  Dtype  \n",
      "---  ------           --------------  -----  \n",
      " 0   RowNumber        10000 non-null  int64  \n",
      " 1   CustomerId       10000 non-null  int64  \n",
      " 2   Surname          10000 non-null  object \n",
      " 3   CreditScore      10000 non-null  int64  \n",
      " 4   Geography        10000 non-null  object \n",
      " 5   Gender           10000 non-null  object \n",
      " 6   Age              10000 non-null  int64  \n",
      " 7   Tenure           10000 non-null  int64  \n",
      " 8   Balance          10000 non-null  float64\n",
      " 9   NumOfProducts    10000 non-null  int64  \n",
      " 10  HasCrCard        10000 non-null  int64  \n",
      " 11  IsActiveMember   10000 non-null  int64  \n",
      " 12  EstimatedSalary  10000 non-null  float64\n",
      " 13  Exited           10000 non-null  int64  \n",
      "dtypes: float64(2), int64(9), object(3)\n",
      "memory usage: 1.1+ MB\n"
     ]
    }
   ],
   "source": [
    "churn.info()"
   ]
  },
  {
   "cell_type": "markdown",
   "metadata": {},
   "source": [
    "Análise de variáveis:\n",
    "- Independentes:\n",
    "    - Variável `RowNumber` representa o índice da tabela e não possui influência sobre a saída (churn), então será excluída\n",
    "    - Variável `CustomerId` representa o Id do cliente e não possui influência sobre a saída (churn), então será mantida como índice\n",
    "    - Variável `Surname` representa o sobrenome do cliente e não possui influência sobre a saída (churn), então será excluída\n",
    "    - Variável `CreditScore` representa os pontos de crédito do cliente, e pode ter impacto sobre a saída (churn), então será mantida\n",
    "    - Variável `Geography` representa o país do cliente, e pode ter impacto sobre a saída (churn), então será mantida\n",
    "    - Variável `Gender` representa o gênero do clinente, e pode ter impacto sobre a saída (churn), então será mantida\n",
    "    - Variável `Age` representa a idade do cliente, e pode ter impacto sobre a saída do cliente (churn), então será mantida\n",
    "    - Variável `Tenure` representa por quanto tempo (# anos) que o cliente tem sido cliente do banco, e pode ter influência sobre a saída (churn), então será mantida\n",
    "    - Variável `Balance` representa o valor monetário que o cliente possui em sua conta, e pode ter influência sobre a saída (churn), então será mantida\n",
    "    - Variável `NumOfProducts` representa o número de produtos que o cliente comprou através do banco, e pode ter influência sobre a saída (churn), então será mantida\n",
    "    - Variável `HasCrCard` representa se o cliente possui ou não cartão de crédito, e pode ter influência sobre a saída (churn), então será mantida\n",
    "    - Variável `IsActiveMember` representa a atividade do cliente (se é membro ativo ou não), e pode ter influência sobre a saída (churn), então será mantida\n",
    "    - Variável `EstimatedSalary` representa uma estimativa do salário do cliente, e pode ter influência sobre a saída (churn), então será mantida\n",
    "- Dependentes:\n",
    "    - Variável `Exited` representa a saída do cliente, i.e churn"
   ]
  },
  {
   "cell_type": "code",
   "execution_count": 6,
   "metadata": {},
   "outputs": [],
   "source": [
    "# drop variables\n",
    "churn = churn.drop(['RowNumber','Surname'], axis=1)\n",
    "churn.set_index(['CustomerId'], inplace=True)"
   ]
  },
  {
   "cell_type": "code",
   "execution_count": 7,
   "metadata": {},
   "outputs": [
    {
     "data": {
      "text/html": [
       "<div>\n",
       "<style scoped>\n",
       "    .dataframe tbody tr th:only-of-type {\n",
       "        vertical-align: middle;\n",
       "    }\n",
       "\n",
       "    .dataframe tbody tr th {\n",
       "        vertical-align: top;\n",
       "    }\n",
       "\n",
       "    .dataframe thead th {\n",
       "        text-align: right;\n",
       "    }\n",
       "</style>\n",
       "<table border=\"1\" class=\"dataframe\">\n",
       "  <thead>\n",
       "    <tr style=\"text-align: right;\">\n",
       "      <th></th>\n",
       "      <th>CreditScore</th>\n",
       "      <th>Geography</th>\n",
       "      <th>Gender</th>\n",
       "      <th>Age</th>\n",
       "      <th>Tenure</th>\n",
       "      <th>Balance</th>\n",
       "      <th>NumOfProducts</th>\n",
       "      <th>HasCrCard</th>\n",
       "      <th>IsActiveMember</th>\n",
       "      <th>EstimatedSalary</th>\n",
       "      <th>Exited</th>\n",
       "    </tr>\n",
       "    <tr>\n",
       "      <th>CustomerId</th>\n",
       "      <th></th>\n",
       "      <th></th>\n",
       "      <th></th>\n",
       "      <th></th>\n",
       "      <th></th>\n",
       "      <th></th>\n",
       "      <th></th>\n",
       "      <th></th>\n",
       "      <th></th>\n",
       "      <th></th>\n",
       "      <th></th>\n",
       "    </tr>\n",
       "  </thead>\n",
       "  <tbody>\n",
       "    <tr>\n",
       "      <th>15634602</th>\n",
       "      <td>619</td>\n",
       "      <td>France</td>\n",
       "      <td>Female</td>\n",
       "      <td>42</td>\n",
       "      <td>2</td>\n",
       "      <td>0.00</td>\n",
       "      <td>1</td>\n",
       "      <td>1</td>\n",
       "      <td>1</td>\n",
       "      <td>101348.88</td>\n",
       "      <td>1</td>\n",
       "    </tr>\n",
       "    <tr>\n",
       "      <th>15647311</th>\n",
       "      <td>608</td>\n",
       "      <td>Spain</td>\n",
       "      <td>Female</td>\n",
       "      <td>41</td>\n",
       "      <td>1</td>\n",
       "      <td>83807.86</td>\n",
       "      <td>1</td>\n",
       "      <td>0</td>\n",
       "      <td>1</td>\n",
       "      <td>112542.58</td>\n",
       "      <td>0</td>\n",
       "    </tr>\n",
       "    <tr>\n",
       "      <th>15619304</th>\n",
       "      <td>502</td>\n",
       "      <td>France</td>\n",
       "      <td>Female</td>\n",
       "      <td>42</td>\n",
       "      <td>8</td>\n",
       "      <td>159660.80</td>\n",
       "      <td>3</td>\n",
       "      <td>1</td>\n",
       "      <td>0</td>\n",
       "      <td>113931.57</td>\n",
       "      <td>1</td>\n",
       "    </tr>\n",
       "    <tr>\n",
       "      <th>15701354</th>\n",
       "      <td>699</td>\n",
       "      <td>France</td>\n",
       "      <td>Female</td>\n",
       "      <td>39</td>\n",
       "      <td>1</td>\n",
       "      <td>0.00</td>\n",
       "      <td>2</td>\n",
       "      <td>0</td>\n",
       "      <td>0</td>\n",
       "      <td>93826.63</td>\n",
       "      <td>0</td>\n",
       "    </tr>\n",
       "    <tr>\n",
       "      <th>15737888</th>\n",
       "      <td>850</td>\n",
       "      <td>Spain</td>\n",
       "      <td>Female</td>\n",
       "      <td>43</td>\n",
       "      <td>2</td>\n",
       "      <td>125510.82</td>\n",
       "      <td>1</td>\n",
       "      <td>1</td>\n",
       "      <td>1</td>\n",
       "      <td>79084.10</td>\n",
       "      <td>0</td>\n",
       "    </tr>\n",
       "  </tbody>\n",
       "</table>\n",
       "</div>"
      ],
      "text/plain": [
       "            CreditScore Geography  Gender  Age  Tenure    Balance  \\\n",
       "CustomerId                                                          \n",
       "15634602            619    France  Female   42       2       0.00   \n",
       "15647311            608     Spain  Female   41       1   83807.86   \n",
       "15619304            502    France  Female   42       8  159660.80   \n",
       "15701354            699    France  Female   39       1       0.00   \n",
       "15737888            850     Spain  Female   43       2  125510.82   \n",
       "\n",
       "            NumOfProducts  HasCrCard  IsActiveMember  EstimatedSalary  Exited  \n",
       "CustomerId                                                                     \n",
       "15634602                1          1               1        101348.88       1  \n",
       "15647311                1          0               1        112542.58       0  \n",
       "15619304                3          1               0        113931.57       1  \n",
       "15701354                2          0               0         93826.63       0  \n",
       "15737888                1          1               1         79084.10       0  "
      ]
     },
     "execution_count": 7,
     "metadata": {},
     "output_type": "execute_result"
    }
   ],
   "source": [
    "churn.head()"
   ]
  },
  {
   "cell_type": "markdown",
   "metadata": {},
   "source": [
    "# 1 - EDA\n",
    "___\n",
    "Através das respostas acima, nota-se que o dataset não possui valores nulos, então não será necessário realizar nenhum imput nesse contexto. Portanto, pode-se seguir para a Análise Exploratória de Dados (*Exploratory Data Analysis - EDA*), visando análisar os dados para ganhar insights.\n",
    "\n",
    "Iniciando pelo método `describe()` para visualizar algumas medidas resumo estatísticas das variáveis numéricas do dataset:"
   ]
  },
  {
   "cell_type": "code",
   "execution_count": 8,
   "metadata": {},
   "outputs": [
    {
     "data": {
      "text/html": [
       "<div>\n",
       "<style scoped>\n",
       "    .dataframe tbody tr th:only-of-type {\n",
       "        vertical-align: middle;\n",
       "    }\n",
       "\n",
       "    .dataframe tbody tr th {\n",
       "        vertical-align: top;\n",
       "    }\n",
       "\n",
       "    .dataframe thead th {\n",
       "        text-align: right;\n",
       "    }\n",
       "</style>\n",
       "<table border=\"1\" class=\"dataframe\">\n",
       "  <thead>\n",
       "    <tr style=\"text-align: right;\">\n",
       "      <th></th>\n",
       "      <th>CreditScore</th>\n",
       "      <th>Age</th>\n",
       "      <th>Tenure</th>\n",
       "      <th>Balance</th>\n",
       "      <th>NumOfProducts</th>\n",
       "      <th>HasCrCard</th>\n",
       "      <th>IsActiveMember</th>\n",
       "      <th>EstimatedSalary</th>\n",
       "      <th>Exited</th>\n",
       "    </tr>\n",
       "  </thead>\n",
       "  <tbody>\n",
       "    <tr>\n",
       "      <th>count</th>\n",
       "      <td>10000.000000</td>\n",
       "      <td>10000.000000</td>\n",
       "      <td>10000.000000</td>\n",
       "      <td>10000.000000</td>\n",
       "      <td>10000.000000</td>\n",
       "      <td>10000.00000</td>\n",
       "      <td>10000.000000</td>\n",
       "      <td>10000.000000</td>\n",
       "      <td>10000.000000</td>\n",
       "    </tr>\n",
       "    <tr>\n",
       "      <th>mean</th>\n",
       "      <td>650.528800</td>\n",
       "      <td>38.921800</td>\n",
       "      <td>5.012800</td>\n",
       "      <td>76485.889288</td>\n",
       "      <td>1.530200</td>\n",
       "      <td>0.70550</td>\n",
       "      <td>0.515100</td>\n",
       "      <td>100090.239881</td>\n",
       "      <td>0.203700</td>\n",
       "    </tr>\n",
       "    <tr>\n",
       "      <th>std</th>\n",
       "      <td>96.653299</td>\n",
       "      <td>10.487806</td>\n",
       "      <td>2.892174</td>\n",
       "      <td>62397.405202</td>\n",
       "      <td>0.581654</td>\n",
       "      <td>0.45584</td>\n",
       "      <td>0.499797</td>\n",
       "      <td>57510.492818</td>\n",
       "      <td>0.402769</td>\n",
       "    </tr>\n",
       "    <tr>\n",
       "      <th>min</th>\n",
       "      <td>350.000000</td>\n",
       "      <td>18.000000</td>\n",
       "      <td>0.000000</td>\n",
       "      <td>0.000000</td>\n",
       "      <td>1.000000</td>\n",
       "      <td>0.00000</td>\n",
       "      <td>0.000000</td>\n",
       "      <td>11.580000</td>\n",
       "      <td>0.000000</td>\n",
       "    </tr>\n",
       "    <tr>\n",
       "      <th>25%</th>\n",
       "      <td>584.000000</td>\n",
       "      <td>32.000000</td>\n",
       "      <td>3.000000</td>\n",
       "      <td>0.000000</td>\n",
       "      <td>1.000000</td>\n",
       "      <td>0.00000</td>\n",
       "      <td>0.000000</td>\n",
       "      <td>51002.110000</td>\n",
       "      <td>0.000000</td>\n",
       "    </tr>\n",
       "    <tr>\n",
       "      <th>50%</th>\n",
       "      <td>652.000000</td>\n",
       "      <td>37.000000</td>\n",
       "      <td>5.000000</td>\n",
       "      <td>97198.540000</td>\n",
       "      <td>1.000000</td>\n",
       "      <td>1.00000</td>\n",
       "      <td>1.000000</td>\n",
       "      <td>100193.915000</td>\n",
       "      <td>0.000000</td>\n",
       "    </tr>\n",
       "    <tr>\n",
       "      <th>75%</th>\n",
       "      <td>718.000000</td>\n",
       "      <td>44.000000</td>\n",
       "      <td>7.000000</td>\n",
       "      <td>127644.240000</td>\n",
       "      <td>2.000000</td>\n",
       "      <td>1.00000</td>\n",
       "      <td>1.000000</td>\n",
       "      <td>149388.247500</td>\n",
       "      <td>0.000000</td>\n",
       "    </tr>\n",
       "    <tr>\n",
       "      <th>max</th>\n",
       "      <td>850.000000</td>\n",
       "      <td>92.000000</td>\n",
       "      <td>10.000000</td>\n",
       "      <td>250898.090000</td>\n",
       "      <td>4.000000</td>\n",
       "      <td>1.00000</td>\n",
       "      <td>1.000000</td>\n",
       "      <td>199992.480000</td>\n",
       "      <td>1.000000</td>\n",
       "    </tr>\n",
       "  </tbody>\n",
       "</table>\n",
       "</div>"
      ],
      "text/plain": [
       "        CreditScore           Age        Tenure        Balance  NumOfProducts  \\\n",
       "count  10000.000000  10000.000000  10000.000000   10000.000000   10000.000000   \n",
       "mean     650.528800     38.921800      5.012800   76485.889288       1.530200   \n",
       "std       96.653299     10.487806      2.892174   62397.405202       0.581654   \n",
       "min      350.000000     18.000000      0.000000       0.000000       1.000000   \n",
       "25%      584.000000     32.000000      3.000000       0.000000       1.000000   \n",
       "50%      652.000000     37.000000      5.000000   97198.540000       1.000000   \n",
       "75%      718.000000     44.000000      7.000000  127644.240000       2.000000   \n",
       "max      850.000000     92.000000     10.000000  250898.090000       4.000000   \n",
       "\n",
       "         HasCrCard  IsActiveMember  EstimatedSalary        Exited  \n",
       "count  10000.00000    10000.000000     10000.000000  10000.000000  \n",
       "mean       0.70550        0.515100    100090.239881      0.203700  \n",
       "std        0.45584        0.499797     57510.492818      0.402769  \n",
       "min        0.00000        0.000000        11.580000      0.000000  \n",
       "25%        0.00000        0.000000     51002.110000      0.000000  \n",
       "50%        1.00000        1.000000    100193.915000      0.000000  \n",
       "75%        1.00000        1.000000    149388.247500      0.000000  \n",
       "max        1.00000        1.000000    199992.480000      1.000000  "
      ]
     },
     "execution_count": 8,
     "metadata": {},
     "output_type": "execute_result"
    }
   ],
   "source": [
    "churn.describe()"
   ]
  },
  {
   "cell_type": "markdown",
   "metadata": {},
   "source": [
    "- Checar variáveis independentes categóricas e numéricas:"
   ]
  },
  {
   "cell_type": "code",
   "execution_count": 9,
   "metadata": {},
   "outputs": [
    {
     "data": {
      "text/plain": [
       "['Geography', 'Gender', 'HasCrCard', 'IsActiveMember', 'Exited']"
      ]
     },
     "execution_count": 9,
     "metadata": {},
     "output_type": "execute_result"
    }
   ],
   "source": [
    "categorical_var = [col for col in churn.columns if col in 'O' # se for string\n",
    "                  or churn[col].nunique() <= 3] # ou menos de 3 valores diferentes\n",
    "\n",
    "categorical_var"
   ]
  },
  {
   "cell_type": "code",
   "execution_count": 10,
   "metadata": {},
   "outputs": [
    {
     "data": {
      "text/plain": [
       "['CreditScore', 'Age', 'Tenure', 'Balance', 'NumOfProducts', 'EstimatedSalary']"
      ]
     },
     "execution_count": 10,
     "metadata": {},
     "output_type": "execute_result"
    }
   ],
   "source": [
    "numerical_var = [col for col in churn.columns if churn[col].dtype != 'object' # não string\n",
    "                and churn[col].nunique() > 3] # numérica com mais de 10 valores diferentes\n",
    "numerical_var"
   ]
  },
  {
   "cell_type": "markdown",
   "metadata": {},
   "source": [
    "### Report"
   ]
  },
  {
   "cell_type": "code",
   "execution_count": 11,
   "metadata": {},
   "outputs": [],
   "source": [
    "# from pandas_profiling import ProfileReport\n",
    "\n",
    "# profile = ProfileReport(churn)\n",
    "\n",
    "# profile"
   ]
  },
  {
   "cell_type": "markdown",
   "metadata": {},
   "source": [
    "- Análise de variáveis:\n",
    "    - `CreditScore`$\\to$ var. quant. contínua (considerada), com média próxima à mediana, leve assimetria à esquerda, e presença de outliers na parte inferior;\n",
    "    - `Geography`$\\to$ var. qual. nominal, com 3 valores, com razão 2:1:1 = França:Espanha:Alemanha;\n",
    "    - `Gender`$\\to$ var. qual. binária com razão aproximada 1:1 = Male:Female;\n",
    "    - `Age`$\\to$ var. quant. contínua (considerada), com média próxima à mediana, forte assimetria à direita e grande presença de outliers acima do máximo;\n",
    "    - `Tenure`$\\to$ var. quant. discreta com range (0,10), distribuição aproximadamente uniforme, e grande presença de zeros;\n",
    "    - `Balance`$\\to$ var. quant. contínua com grande presença de zeros (muitos clientes sem saldo) e forte assimetria à esquerda;\n",
    "    - `NumOfProducts`$\\to$ var. quant. discreta com range (1,4), sendo que a maioria dos clientes comprou 1 ou dois produtos pelo banco - class desbalanceada;\n",
    "    - `HasCrCard`$\\to$ var. qual. binária, com maioria dos clientes com cartão de crédito;\n",
    "    - `IsActiveMember`$\\to$ var. qual. binária com maioria dos membros ativo, razão app. 1:1;\n",
    "    - `EstimatedSalary`$\\to$ var. quant. contínua com distr. uniforme."
   ]
  },
  {
   "cell_type": "code",
   "execution_count": 12,
   "metadata": {
    "scrolled": false
   },
   "outputs": [
    {
     "data": {
      "image/png": "[encoded data removed]",
      "text/plain": [
       "<Figure size 1008x576 with 6 Axes>"
      ]
     },
     "metadata": {},
     "output_type": "display_data"
    }
   ],
   "source": [
    "# boxplot var. numéricas\n",
    "fig, ax = plt.subplots(2,3,figsize=(14,8))\n",
    "plt.subplots_adjust(hspace=0.3)\n",
    "\n",
    "aux=0\n",
    "for i in range(2):\n",
    "    for j in range(3):\n",
    "        sns.boxplot(churn[numerical_var[aux]], ax=ax[i,j])\n",
    "        aux+=1"
   ]
  },
  {
   "cell_type": "markdown",
   "metadata": {},
   "source": [
    "#### `Exited` $\\to$ var. qualitativa binária (resposta) \n",
    "\n",
    "- A taxa de churn da empresa é de aproximadamente 20%, se encontrando dentro do range apontado acima. Entretanto, é possível predizer o churn para realização de marketing estratégico para redução e consequente aumento do faturamento."
   ]
  },
  {
   "cell_type": "code",
   "execution_count": 13,
   "metadata": {},
   "outputs": [
    {
     "name": "stdout",
     "output_type": "stream",
     "text": [
      "Taxa de churn: 20.37%\n"
     ]
    }
   ],
   "source": [
    "print('Taxa de churn: {}%'.format(\n",
    "    round(churn[churn['Exited']==1].shape[0]/churn.shape[0]*100,2))\n",
    ")"
   ]
  },
  {
   "cell_type": "code",
   "execution_count": 14,
   "metadata": {},
   "outputs": [
    {
     "data": {
      "image/png": "[encoded data removed]",
      "text/plain": [
       "<Figure size 432x288 with 1 Axes>"
      ]
     },
     "metadata": {},
     "output_type": "display_data"
    }
   ],
   "source": [
    "sns.countplot(churn['Exited']);"
   ]
  },
  {
   "cell_type": "markdown",
   "metadata": {},
   "source": [
    "Nota-se que dentre as variáveis quantitativas, algumas apresentaram outliers, o que pode se tornar um problema de acordo com o algoritmo de aprendizado de máquina a ser utilizado e, sendo necessário, portanto, tratá-los.\n",
    "\n",
    "Ademais, algumas variáveis apresentam também assimetria, sendo que, para testes estatísticos, talvez seja necessário aplica uma transformação para normalização da variável."
   ]
  },
  {
   "cell_type": "markdown",
   "metadata": {},
   "source": [
    "## Análise Bivariada"
   ]
  },
  {
   "cell_type": "markdown",
   "metadata": {},
   "source": [
    "As correlações apresentadas pelo relatório acima não apresenta colinearidade entre as variáveis dependentes, tanto numéricas quanto categóricas."
   ]
  },
  {
   "cell_type": "markdown",
   "metadata": {},
   "source": [
    "As análises bivariadas a seguir buscam encontrar padrões entre as variáveis independentes e a variável dependente."
   ]
  },
  {
   "cell_type": "markdown",
   "metadata": {},
   "source": [
    "#### `Geography` $\\to$ var. qualitativa nominal"
   ]
  },
  {
   "cell_type": "markdown",
   "metadata": {},
   "source": [
    "- Proporção de churn geral:\n",
    "    - França $\\to$ 8.10%\n",
    "    - Alemanha $\\to$ 8.14%\n",
    "    - Espanha $\\to$ 4.13%\n",
    "\n",
    "\n",
    "- Proporção de churn por país:\n",
    "    - França $\\to$ app. 16%\n",
    "    - Alemanha $\\to$ app. 32%\n",
    "    - Espanha $\\to$ app. 16%\n",
    "    \n",
    "Nota-se, portanto, uma proporção de churn na Alemanha é similar à da França, e o dobro da mesma quando comparado com o número de clientes do país."
   ]
  },
  {
   "cell_type": "code",
   "execution_count": 15,
   "metadata": {},
   "outputs": [
    {
     "data": {
      "text/plain": [
       "Geography  Exited\n",
       "France     1         8.10\n",
       "Germany    1         8.14\n",
       "Spain      1         4.13\n",
       "Name: Exited, dtype: float64"
      ]
     },
     "execution_count": 15,
     "metadata": {},
     "output_type": "execute_result"
    }
   ],
   "source": [
    "# porcentagem de churn por país\n",
    "churn.query('Exited==1').groupby(['Geography'])['Exited'].value_counts()/churn.shape[0]*100"
   ]
  },
  {
   "cell_type": "code",
   "execution_count": 16,
   "metadata": {},
   "outputs": [
    {
     "name": "stdout",
     "output_type": "stream",
     "text": [
      "France: 16.15%\n",
      "Germany: 32.44%\n",
      "Spain: 16.67%\n"
     ]
    }
   ],
   "source": [
    "# porcentagem de churn considerando número de clientes por país\n",
    "for country in ['France','Germany','Spain']:\n",
    "    print('{}: {}%'.format(country,\n",
    "        round(churn.query('Geography==\"%s\" and Exited==1'%country).shape[0]/\\\n",
    "          churn.query('Geography==\"%s\"'%country).shape[0]*100,2))\n",
    "    )"
   ]
  },
  {
   "cell_type": "code",
   "execution_count": 17,
   "metadata": {
    "scrolled": true
   },
   "outputs": [
    {
     "data": {
      "image/png": "[encoded data removed]",
      "text/plain": [
       "<Figure size 720x288 with 2 Axes>"
      ]
     },
     "metadata": {},
     "output_type": "display_data"
    }
   ],
   "source": [
    "# barplot\n",
    "fig, ax = plt.subplots(1,2,figsize=(10,4), sharey=True)\n",
    "ax[0].bar(churn.query('Exited==0')['Geography'].value_counts().index,\n",
    "        churn.query('Exited==0')['Geography'].value_counts().values)\n",
    "ax[0].set(title='Exited=0')\n",
    "ax[1].bar(churn.query('Exited==1')['Geography'].value_counts().index,\n",
    "        churn.query('Exited==1')['Geography'].value_counts().values)\n",
    "ax[1].set(title='Exited=1');"
   ]
  },
  {
   "cell_type": "markdown",
   "metadata": {},
   "source": [
    "Aplicando o teste estatístico $\\chi²$ para testar a hipótese de independência entre as variáveis `Geography` e `Exited`, temos um p-value próximo a zero. Portanto, considerando as hipóteses nula $H_0$ de que as amostras são independentes, e alternativa $H_1$ de que as amostras são dependentes, a um nível de significância de 5%, o resultado um p-value nos leva a rejeitar $H_0$ pois não há evidência suficiente para aceitar tal, aceitando $H_1$, ou seja, existe associação entre as variáveis.\n",
    "\n",
    "Visando calcular quão forte é a associação, a estatística V de Cramérs corrigida [[2]](https://en.wikipedia.org/wiki/Cram%C3%A9r%27s_V), [[3]](http://www.mat.ufrgs.br/~viali/estatistica/mat2282/material/laminaspi/Mat2282_CC), [[4]](https://stackoverflow.com/questions/20892799/using-pandas-calculate-cram%C3%A9rs-coefficient-matrix) foi determinada, resultando em uma associação fraca de 0.17.\n",
    "\n",
    "Portanto, sumarizando, temos que as variáveis são dependentes, porém a associação entre elas é fraca. Entretanto, é importante recordar que a associação não necessariamente significa uma relação de causa e efeito."
   ]
  },
  {
   "cell_type": "code",
   "execution_count": 18,
   "metadata": {},
   "outputs": [
    {
     "data": {
      "text/html": [
       "<div>\n",
       "<style scoped>\n",
       "    .dataframe tbody tr th:only-of-type {\n",
       "        vertical-align: middle;\n",
       "    }\n",
       "\n",
       "    .dataframe tbody tr th {\n",
       "        vertical-align: top;\n",
       "    }\n",
       "\n",
       "    .dataframe thead th {\n",
       "        text-align: right;\n",
       "    }\n",
       "</style>\n",
       "<table border=\"1\" class=\"dataframe\">\n",
       "  <thead>\n",
       "    <tr style=\"text-align: right;\">\n",
       "      <th>Geography</th>\n",
       "      <th>France</th>\n",
       "      <th>Germany</th>\n",
       "      <th>Spain</th>\n",
       "    </tr>\n",
       "    <tr>\n",
       "      <th>Exited</th>\n",
       "      <th></th>\n",
       "      <th></th>\n",
       "      <th></th>\n",
       "    </tr>\n",
       "  </thead>\n",
       "  <tbody>\n",
       "    <tr>\n",
       "      <th>0</th>\n",
       "      <td>4204</td>\n",
       "      <td>1695</td>\n",
       "      <td>2064</td>\n",
       "    </tr>\n",
       "    <tr>\n",
       "      <th>1</th>\n",
       "      <td>810</td>\n",
       "      <td>814</td>\n",
       "      <td>413</td>\n",
       "    </tr>\n",
       "  </tbody>\n",
       "</table>\n",
       "</div>"
      ],
      "text/plain": [
       "Geography  France  Germany  Spain\n",
       "Exited                           \n",
       "0            4204     1695   2064\n",
       "1             810      814    413"
      ]
     },
     "execution_count": 18,
     "metadata": {},
     "output_type": "execute_result"
    }
   ],
   "source": [
    "from scipy.stats import chi2_contingency\n",
    "\n",
    "geo_exited = pd.crosstab(churn['Exited'], churn['Geography'])\n",
    "geo_exited"
   ]
  },
  {
   "cell_type": "code",
   "execution_count": 19,
   "metadata": {},
   "outputs": [
    {
     "data": {
      "text/plain": [
       "(301.2553368243453, 3.830317605354266e-66)"
      ]
     },
     "execution_count": 19,
     "metadata": {},
     "output_type": "execute_result"
    }
   ],
   "source": [
    "chi2,p_value,_,_ = chi2_contingency(geo_exited)\n",
    "chi2,p_value"
   ]
  },
  {
   "cell_type": "code",
   "execution_count": 20,
   "metadata": {},
   "outputs": [],
   "source": [
    "def cramers_V(table, chi2):\n",
    "    \"\"\"Calcula a estatística V de Cramérs para quantificar associação entre variáveis\n",
    "        com correção de Bergsma e Wicher\"\"\"\n",
    "    n = table.sum().sum()\n",
    "    phi2 = chi2/n\n",
    "    r,c = table.shape\n",
    "    phi2corr = max(0, (phi2 - ((c-1)*(r-1))/(n-1)))\n",
    "    rcorr = r - ((r-1)**2)/(n-1)\n",
    "    ccorr = c - ((c-1)**2)/(n-1)\n",
    "    return np.sqrt(phi2corr/min((rcorr-1),(ccorr-1)))"
   ]
  },
  {
   "cell_type": "code",
   "execution_count": 21,
   "metadata": {},
   "outputs": [
    {
     "data": {
      "text/plain": [
       "0.17299857464855706"
      ]
     },
     "execution_count": 21,
     "metadata": {},
     "output_type": "execute_result"
    }
   ],
   "source": [
    "cramers_V(geo_exited, chi2)"
   ]
  },
  {
   "cell_type": "markdown",
   "metadata": {},
   "source": [
    "#### `Gender` $\\to$ var. qualitativa binária"
   ]
  },
  {
   "cell_type": "markdown",
   "metadata": {},
   "source": [
    "- Proporção de churn por gênero:\n",
    "    - Female $\\to$ app. 25%\n",
    "    - Male $\\to$ app. 16%\n",
    "\n",
    "Porcentagem de homens é maior (54%) que de mulheres, mas a proporção de churn para os homens é menor."
   ]
  },
  {
   "cell_type": "code",
   "execution_count": 22,
   "metadata": {},
   "outputs": [
    {
     "data": {
      "text/plain": [
       "Gender  Exited\n",
       "Female  0         3404\n",
       "        1         1139\n",
       "Male    0         4559\n",
       "        1          898\n",
       "Name: Exited, dtype: int64"
      ]
     },
     "execution_count": 22,
     "metadata": {},
     "output_type": "execute_result"
    }
   ],
   "source": [
    "churn.groupby(['Gender'])['Exited'].value_counts()"
   ]
  },
  {
   "cell_type": "code",
   "execution_count": 23,
   "metadata": {},
   "outputs": [
    {
     "name": "stdout",
     "output_type": "stream",
     "text": [
      "Female: 25.07%\n",
      "Male: 16.46%\n"
     ]
    }
   ],
   "source": [
    "# porcentagem de churn considerando gênero\n",
    "for gender in ['Female','Male']:\n",
    "    print('{}: {}%'.format(gender,\n",
    "        round(churn.query('Gender==\"%s\" and Exited==1'%gender).shape[0]/\\\n",
    "          churn.query('Gender==\"%s\"'%gender).shape[0]*100,2))\n",
    "    )"
   ]
  },
  {
   "cell_type": "code",
   "execution_count": 24,
   "metadata": {},
   "outputs": [
    {
     "data": {
      "image/png": "[encoded data removed]",
      "text/plain": [
       "<Figure size 432x216 with 2 Axes>"
      ]
     },
     "metadata": {},
     "output_type": "display_data"
    }
   ],
   "source": [
    "sns.FacetGrid(col='Exited',data=churn).map_dataframe(sns.countplot,'Gender');"
   ]
  },
  {
   "cell_type": "markdown",
   "metadata": {},
   "source": [
    "Aplicando o teste estatístico $\\chi²$ para testar a hipótese de independência entre as variáveis `Gender` e `Exited`, considerando um nível de significância de 5%, temos como resultado um p-value próximo a zero. Nesse caso, rejeitamos $H_0$ pois não há evidência suficiente para aceitar tal hipótese, e aceitamos $H_1$, ou seja, existe associação entre as variáveis.\n",
    "\n",
    "Portanto, para calcular quão forte é a associação, a estatística V de Crámers foi determinada, resultando em uma associação fraca de 0.106.\n",
    "\n",
    "Sumarizando, temos uma associação entre as variáveis, entretanto, a associação é fraca."
   ]
  },
  {
   "cell_type": "code",
   "execution_count": 25,
   "metadata": {},
   "outputs": [
    {
     "data": {
      "text/html": [
       "<div>\n",
       "<style scoped>\n",
       "    .dataframe tbody tr th:only-of-type {\n",
       "        vertical-align: middle;\n",
       "    }\n",
       "\n",
       "    .dataframe tbody tr th {\n",
       "        vertical-align: top;\n",
       "    }\n",
       "\n",
       "    .dataframe thead th {\n",
       "        text-align: right;\n",
       "    }\n",
       "</style>\n",
       "<table border=\"1\" class=\"dataframe\">\n",
       "  <thead>\n",
       "    <tr style=\"text-align: right;\">\n",
       "      <th>Gender</th>\n",
       "      <th>Female</th>\n",
       "      <th>Male</th>\n",
       "    </tr>\n",
       "    <tr>\n",
       "      <th>Exited</th>\n",
       "      <th></th>\n",
       "      <th></th>\n",
       "    </tr>\n",
       "  </thead>\n",
       "  <tbody>\n",
       "    <tr>\n",
       "      <th>0</th>\n",
       "      <td>3404</td>\n",
       "      <td>4559</td>\n",
       "    </tr>\n",
       "    <tr>\n",
       "      <th>1</th>\n",
       "      <td>1139</td>\n",
       "      <td>898</td>\n",
       "    </tr>\n",
       "  </tbody>\n",
       "</table>\n",
       "</div>"
      ],
      "text/plain": [
       "Gender  Female  Male\n",
       "Exited              \n",
       "0         3404  4559\n",
       "1         1139   898"
      ]
     },
     "execution_count": 25,
     "metadata": {},
     "output_type": "execute_result"
    }
   ],
   "source": [
    "gender_exited = pd.crosstab(churn['Exited'], churn['Gender'])\n",
    "gender_exited"
   ]
  },
  {
   "cell_type": "code",
   "execution_count": 26,
   "metadata": {},
   "outputs": [
    {
     "data": {
      "text/plain": [
       "2.2482100097131755e-26"
      ]
     },
     "execution_count": 26,
     "metadata": {},
     "output_type": "execute_result"
    }
   ],
   "source": [
    "chi2,p_value,_,_ = chi2_contingency(gender_exited)\n",
    "p_value"
   ]
  },
  {
   "cell_type": "code",
   "execution_count": 27,
   "metadata": {},
   "outputs": [
    {
     "data": {
      "text/plain": [
       "0.10579681691659651"
      ]
     },
     "execution_count": 27,
     "metadata": {},
     "output_type": "execute_result"
    }
   ],
   "source": [
    "cramers_V(gender_exited, chi2)"
   ]
  },
  {
   "cell_type": "markdown",
   "metadata": {},
   "source": [
    "#### `HasCrCard` $\\to$ var. qualitativa binária"
   ]
  },
  {
   "cell_type": "markdown",
   "metadata": {},
   "source": [
    "- Proporção de churn para:\n",
    "    - Não tem cartão de crédito $\\to$ 21%\n",
    "    - Tem cartão de crédito $\\to$ 20%\n",
    "    \n",
    "A proporção de churn para pessoas que possuíam ou não cartão de crédito é muito próxima."
   ]
  },
  {
   "cell_type": "code",
   "execution_count": 28,
   "metadata": {},
   "outputs": [
    {
     "data": {
      "text/plain": [
       "HasCrCard  Exited\n",
       "0          0         2332\n",
       "           1          613\n",
       "1          0         5631\n",
       "           1         1424\n",
       "Name: Exited, dtype: int64"
      ]
     },
     "execution_count": 28,
     "metadata": {},
     "output_type": "execute_result"
    }
   ],
   "source": [
    "churn.groupby(['HasCrCard'])['Exited'].value_counts()"
   ]
  },
  {
   "cell_type": "code",
   "execution_count": 29,
   "metadata": {},
   "outputs": [
    {
     "name": "stdout",
     "output_type": "stream",
     "text": [
      "0: 20.81%\n",
      "1: 20.18%\n"
     ]
    }
   ],
   "source": [
    "# porcentagem de churn considerando cartão de crédito\n",
    "for cc in ['0','1']:\n",
    "    print('{}: {}%'.format(cc,\n",
    "        round(churn.query('HasCrCard==\"%s\" and Exited==1'%cc).shape[0]/\\\n",
    "          churn.query('HasCrCard==\"%s\"'%cc).shape[0]*100,2))\n",
    "    )"
   ]
  },
  {
   "cell_type": "code",
   "execution_count": 30,
   "metadata": {},
   "outputs": [
    {
     "data": {
      "image/png": "[encoded data removed]",
      "text/plain": [
       "<Figure size 432x216 with 2 Axes>"
      ]
     },
     "metadata": {},
     "output_type": "display_data"
    }
   ],
   "source": [
    "sns.FacetGrid(col='Exited',data=churn).map_dataframe(sns.countplot,'HasCrCard');"
   ]
  },
  {
   "cell_type": "markdown",
   "metadata": {},
   "source": [
    "Aplicando o teste estatístico $\\chi²$ para testar a hipótese de independência entre as variáveis `HasCrCard` e `Exited`, considerando um nível de significância de 5%, temos como resultado um p-value de 0.49. Ou seja, nesse caso, aceitamos que não existe evidência suficiente para rejeitar $H_0$ i.e. as variáveis não possuem associação. Aqui é importante denotar que \"Ausência de evidência não é evidência da ausência\" [[5]](https://www.ncbi.nlm.nih.gov/pmc/articles/PMC5042133/pdf/nihms-816857.pdf).\n",
    "\n",
    "O mesmo pode ser notado através do cálculo da estatística V de Cramérs, resultando em um grau de associação nulo."
   ]
  },
  {
   "cell_type": "code",
   "execution_count": 31,
   "metadata": {},
   "outputs": [
    {
     "data": {
      "text/html": [
       "<div>\n",
       "<style scoped>\n",
       "    .dataframe tbody tr th:only-of-type {\n",
       "        vertical-align: middle;\n",
       "    }\n",
       "\n",
       "    .dataframe tbody tr th {\n",
       "        vertical-align: top;\n",
       "    }\n",
       "\n",
       "    .dataframe thead th {\n",
       "        text-align: right;\n",
       "    }\n",
       "</style>\n",
       "<table border=\"1\" class=\"dataframe\">\n",
       "  <thead>\n",
       "    <tr style=\"text-align: right;\">\n",
       "      <th>Exited</th>\n",
       "      <th>0</th>\n",
       "      <th>1</th>\n",
       "    </tr>\n",
       "    <tr>\n",
       "      <th>HasCrCard</th>\n",
       "      <th></th>\n",
       "      <th></th>\n",
       "    </tr>\n",
       "  </thead>\n",
       "  <tbody>\n",
       "    <tr>\n",
       "      <th>0</th>\n",
       "      <td>2332</td>\n",
       "      <td>613</td>\n",
       "    </tr>\n",
       "    <tr>\n",
       "      <th>1</th>\n",
       "      <td>5631</td>\n",
       "      <td>1424</td>\n",
       "    </tr>\n",
       "  </tbody>\n",
       "</table>\n",
       "</div>"
      ],
      "text/plain": [
       "Exited        0     1\n",
       "HasCrCard            \n",
       "0          2332   613\n",
       "1          5631  1424"
      ]
     },
     "execution_count": 31,
     "metadata": {},
     "output_type": "execute_result"
    }
   ],
   "source": [
    "creditcard_exited = pd.crosstab(churn['HasCrCard'], churn['Exited'])\n",
    "creditcard_exited"
   ]
  },
  {
   "cell_type": "code",
   "execution_count": 32,
   "metadata": {},
   "outputs": [
    {
     "data": {
      "text/plain": [
       "0.49237236141554686"
      ]
     },
     "execution_count": 32,
     "metadata": {},
     "output_type": "execute_result"
    }
   ],
   "source": [
    "chi2,p_value,_,_ = chi2_contingency(creditcard_exited)\n",
    "p_value"
   ]
  },
  {
   "cell_type": "code",
   "execution_count": 33,
   "metadata": {},
   "outputs": [
    {
     "data": {
      "text/plain": [
       "0.0"
      ]
     },
     "execution_count": 33,
     "metadata": {},
     "output_type": "execute_result"
    }
   ],
   "source": [
    "cramers_V(creditcard_exited, chi2)"
   ]
  },
  {
   "cell_type": "markdown",
   "metadata": {},
   "source": [
    "#### `IsActiveMember` $\\to$ var. qualitativa binária"
   ]
  },
  {
   "cell_type": "markdown",
   "metadata": {},
   "source": [
    "- Proporção de churn para:\n",
    "    - Membros não ativos: 27%\n",
    "    - Membros ativos: 14%\n",
    "    \n",
    "Nota-se que a proporção de churn entre os membros não ativos é muito superior (quase o dobro) do que dos membros ativos."
   ]
  },
  {
   "cell_type": "code",
   "execution_count": 34,
   "metadata": {},
   "outputs": [
    {
     "data": {
      "text/plain": [
       "IsActiveMember  Exited\n",
       "0               0         3547\n",
       "                1         1302\n",
       "1               0         4416\n",
       "                1          735\n",
       "Name: Exited, dtype: int64"
      ]
     },
     "execution_count": 34,
     "metadata": {},
     "output_type": "execute_result"
    }
   ],
   "source": [
    "# contagem de valores\n",
    "churn.groupby(['IsActiveMember'])['Exited'].value_counts()"
   ]
  },
  {
   "cell_type": "code",
   "execution_count": 35,
   "metadata": {},
   "outputs": [
    {
     "name": "stdout",
     "output_type": "stream",
     "text": [
      "Taxa de churn para clientes não ativos: 26.85%\n",
      "Taxa de churn para clientes ativos: 14.27%\n"
     ]
    }
   ],
   "source": [
    "print('Taxa de churn para clientes não ativos: {}%'.format(\n",
    "round(churn.query('IsActiveMember==0 and Exited==1').shape[0]/\\\n",
    "      churn.query('IsActiveMember==0').shape[0]*100,2)))\n",
    "print('Taxa de churn para clientes ativos: {}%'.format(\n",
    "round(churn.query('IsActiveMember==1 and Exited==1').shape[0]/\\\n",
    "      churn.query('IsActiveMember==1').shape[0]*100,2)))"
   ]
  },
  {
   "cell_type": "code",
   "execution_count": 36,
   "metadata": {},
   "outputs": [
    {
     "data": {
      "image/png": "[encoded data removed]",
      "text/plain": [
       "<Figure size 432x216 with 2 Axes>"
      ]
     },
     "metadata": {},
     "output_type": "display_data"
    }
   ],
   "source": [
    "sns.FacetGrid(col='Exited',data=churn).map_dataframe(sns.countplot,'IsActiveMember');"
   ]
  },
  {
   "cell_type": "markdown",
   "metadata": {},
   "source": [
    "Aplicando o teste estatístico $\\chi²$ para testar a hipótese de independência entre as variáveis `IsActiveMember` e `Exited`, considerando um nível de significância de 5%, temos como resultado um p-value próximo a zero. Portanto, rejeitamos $H_0$ pois não há evidência suficiente para aceitar tal hipótese, e aceitamos $H_1$ que nos diz que as variáveis estão associadas. \n",
    "\n",
    "Calculando a estatística V de Cramérs, temos como resultado uma associação fraca de 0.155. \n",
    "\n",
    "Resumindo, temos portanto uma associação entre as variáveis, porém fraca."
   ]
  },
  {
   "cell_type": "code",
   "execution_count": 37,
   "metadata": {},
   "outputs": [
    {
     "data": {
      "text/html": [
       "<div>\n",
       "<style scoped>\n",
       "    .dataframe tbody tr th:only-of-type {\n",
       "        vertical-align: middle;\n",
       "    }\n",
       "\n",
       "    .dataframe tbody tr th {\n",
       "        vertical-align: top;\n",
       "    }\n",
       "\n",
       "    .dataframe thead th {\n",
       "        text-align: right;\n",
       "    }\n",
       "</style>\n",
       "<table border=\"1\" class=\"dataframe\">\n",
       "  <thead>\n",
       "    <tr style=\"text-align: right;\">\n",
       "      <th>Exited</th>\n",
       "      <th>0</th>\n",
       "      <th>1</th>\n",
       "    </tr>\n",
       "    <tr>\n",
       "      <th>IsActiveMember</th>\n",
       "      <th></th>\n",
       "      <th></th>\n",
       "    </tr>\n",
       "  </thead>\n",
       "  <tbody>\n",
       "    <tr>\n",
       "      <th>0</th>\n",
       "      <td>3547</td>\n",
       "      <td>1302</td>\n",
       "    </tr>\n",
       "    <tr>\n",
       "      <th>1</th>\n",
       "      <td>4416</td>\n",
       "      <td>735</td>\n",
       "    </tr>\n",
       "  </tbody>\n",
       "</table>\n",
       "</div>"
      ],
      "text/plain": [
       "Exited             0     1\n",
       "IsActiveMember            \n",
       "0               3547  1302\n",
       "1               4416   735"
      ]
     },
     "execution_count": 37,
     "metadata": {},
     "output_type": "execute_result"
    }
   ],
   "source": [
    "member_exited = pd.crosstab(churn['IsActiveMember'], churn['Exited'])\n",
    "member_exited"
   ]
  },
  {
   "cell_type": "code",
   "execution_count": 38,
   "metadata": {},
   "outputs": [
    {
     "data": {
      "text/plain": [
       "8.785858269303703e-55"
      ]
     },
     "execution_count": 38,
     "metadata": {},
     "output_type": "execute_result"
    }
   ],
   "source": [
    "chi2,p_value,_,_ = chi2_contingency(member_exited)\n",
    "p_value"
   ]
  },
  {
   "cell_type": "code",
   "execution_count": 39,
   "metadata": {},
   "outputs": [
    {
     "data": {
      "text/plain": [
       "0.15556652756866268"
      ]
     },
     "execution_count": 39,
     "metadata": {},
     "output_type": "execute_result"
    }
   ],
   "source": [
    "cramers_V(member_exited, chi2)"
   ]
  },
  {
   "cell_type": "markdown",
   "metadata": {},
   "source": [
    "#### `CreditScore` $\\to$ considerada var. quantitativa contínua"
   ]
  },
  {
   "cell_type": "markdown",
   "metadata": {},
   "source": [
    "Através das medidas descritivas abaixo entre churn e clientes com crédito notam-se valores próximos, com distribuições semelhantes de acordo com o gráfico de distribuição de frequências.\n",
    "\n",
    "Entretanto, nota-se valores mínimos menores para clientes com churn, e presença de outliers abaixo do mínimo (Q1-1.5*IQR), ou seja, dentre os clientes com churn, alguns possuíam crédito muito baixo."
   ]
  },
  {
   "cell_type": "code",
   "execution_count": 40,
   "metadata": {},
   "outputs": [
    {
     "data": {
      "text/html": [
       "<div>\n",
       "<style scoped>\n",
       "    .dataframe tbody tr th:only-of-type {\n",
       "        vertical-align: middle;\n",
       "    }\n",
       "\n",
       "    .dataframe tbody tr th {\n",
       "        vertical-align: top;\n",
       "    }\n",
       "\n",
       "    .dataframe thead th {\n",
       "        text-align: right;\n",
       "    }\n",
       "</style>\n",
       "<table border=\"1\" class=\"dataframe\">\n",
       "  <thead>\n",
       "    <tr style=\"text-align: right;\">\n",
       "      <th></th>\n",
       "      <th>count</th>\n",
       "      <th>mean</th>\n",
       "      <th>std</th>\n",
       "      <th>min</th>\n",
       "      <th>25%</th>\n",
       "      <th>50%</th>\n",
       "      <th>75%</th>\n",
       "      <th>max</th>\n",
       "    </tr>\n",
       "    <tr>\n",
       "      <th>Exited</th>\n",
       "      <th></th>\n",
       "      <th></th>\n",
       "      <th></th>\n",
       "      <th></th>\n",
       "      <th></th>\n",
       "      <th></th>\n",
       "      <th></th>\n",
       "      <th></th>\n",
       "    </tr>\n",
       "  </thead>\n",
       "  <tbody>\n",
       "    <tr>\n",
       "      <th>0</th>\n",
       "      <td>7963.0</td>\n",
       "      <td>651.853196</td>\n",
       "      <td>95.653837</td>\n",
       "      <td>405.0</td>\n",
       "      <td>585.0</td>\n",
       "      <td>653.0</td>\n",
       "      <td>718.0</td>\n",
       "      <td>850.0</td>\n",
       "    </tr>\n",
       "    <tr>\n",
       "      <th>1</th>\n",
       "      <td>2037.0</td>\n",
       "      <td>645.351497</td>\n",
       "      <td>100.321503</td>\n",
       "      <td>350.0</td>\n",
       "      <td>578.0</td>\n",
       "      <td>646.0</td>\n",
       "      <td>716.0</td>\n",
       "      <td>850.0</td>\n",
       "    </tr>\n",
       "  </tbody>\n",
       "</table>\n",
       "</div>"
      ],
      "text/plain": [
       "         count        mean         std    min    25%    50%    75%    max\n",
       "Exited                                                                   \n",
       "0       7963.0  651.853196   95.653837  405.0  585.0  653.0  718.0  850.0\n",
       "1       2037.0  645.351497  100.321503  350.0  578.0  646.0  716.0  850.0"
      ]
     },
     "execution_count": 40,
     "metadata": {},
     "output_type": "execute_result"
    }
   ],
   "source": [
    "churn.groupby(['Exited'])['CreditScore'].describe()"
   ]
  },
  {
   "cell_type": "code",
   "execution_count": 41,
   "metadata": {},
   "outputs": [
    {
     "name": "stdout",
     "output_type": "stream",
     "text": [
      "-0.04701615897046344 -0.14107821059531359\n"
     ]
    }
   ],
   "source": [
    "# assimetria\n",
    "print(\n",
    "    churn.query('Exited==0')['CreditScore'].skew(),\n",
    "    churn.query('Exited==1')['CreditScore'].skew()\n",
    ")"
   ]
  },
  {
   "cell_type": "code",
   "execution_count": 42,
   "metadata": {},
   "outputs": [
    {
     "data": {
      "image/png": "[encoded data removed]",
      "text/plain": [
       "<Figure size 1008x252 with 2 Axes>"
      ]
     },
     "metadata": {},
     "output_type": "display_data"
    }
   ],
   "source": [
    "sns.FacetGrid(col='Exited',data=churn,\n",
    "              height=3.5, aspect=2).map_dataframe(sns.histplot,'CreditScore');"
   ]
  },
  {
   "cell_type": "markdown",
   "metadata": {},
   "source": [
    "Aplicando os testes para verificar se as distribuições diferem de uma dist. normal, temos um p-value resultante próximo a zero para ambos os casos, o que nos leva a rejeitar a hipótese nula pois não há evidência suficiente para aceitar tal hipótese, e aceitar a hipótese alternativa de que as distribuições vêm de uma dist. normal."
   ]
  },
  {
   "cell_type": "code",
   "execution_count": 43,
   "metadata": {},
   "outputs": [
    {
     "name": "stdout",
     "output_type": "stream",
     "text": [
      "Exited=0: p_value=1.064334140833987e-31\n",
      "Exited=1: p_value=0.0005234123918279914\n"
     ]
    }
   ],
   "source": [
    "from scipy.stats import normaltest\n",
    "\n",
    "print('Exited=0: p_value={}'.format(\n",
    "    normaltest(churn.query('Exited==0')['CreditScore'])[1]))\n",
    "print('Exited=1: p_value={}'.format(\n",
    "    normaltest(churn.query('Exited==1')['CreditScore'])[1]))"
   ]
  },
  {
   "cell_type": "code",
   "execution_count": 44,
   "metadata": {},
   "outputs": [
    {
     "name": "stdout",
     "output_type": "stream",
     "text": [
      "Exited=0: p_value=1.469723138650797e-19\n",
      "Exited=1: p_value=1.2323278042458696e-07\n"
     ]
    }
   ],
   "source": [
    "from scipy.stats import shapiro\n",
    "\n",
    "print('Exited=0: p_value={}'.format(\n",
    "    shapiro(churn.query('Exited==0')['CreditScore'])[1]))\n",
    "print('Exited=1: p_value={}'.format(\n",
    "    shapiro(churn.query('Exited==1')['CreditScore'])[1]))"
   ]
  },
  {
   "cell_type": "markdown",
   "metadata": {},
   "source": [
    "Aplicando um teste estatístico paramétrico teste-T para amostras independentes para testar a hipótese que as amostras possuem médias (valor esperado) idênticas entre as variáveis `CreditScore` e `Exited`, considerando um nível de significância $\\alpha$ = 5%, ou seja:\n",
    "\n",
    "Hipóteses:\n",
    "- $H_0: \\mu_{CreditScore,Exited=0} = \\mu_{CreditScore,Exited=1}$\n",
    "- $H_1: \\mu_{CreditScore,Exited=0} \\ne \\mu_{CreditScore,Exited=0}$ (two-tailed test)\n",
    "\n",
    "O resultado aponta um p-value de 0.0067 (two-sided test default), onde podemos rejeitar a hipótese nula de que as amostras possuem médias idênticas.\n",
    "\n",
    "Isso nos diz que a média de `CreditScore` da população que apresentou evasão é diferente da população que não apresentou evasão e, portanto, deve-se calcular a associação entre as variáveis para o modelo de aprendizado de máquina.\n",
    "\n",
    "PS: importante denotar que como as amostras são suficiente grandes (>>30), o resultado de um teste-T é significativamente semelhante a um teste-z, como demonstrado abaixo, com variação na quinta casa decimal, e foi utilizado por conhecimento da biblioteca."
   ]
  },
  {
   "cell_type": "code",
   "execution_count": 45,
   "metadata": {
    "scrolled": true
   },
   "outputs": [
    {
     "name": "stdout",
     "output_type": "stream",
     "text": [
      "p-value: 0.006738213892192373\n"
     ]
    }
   ],
   "source": [
    "from scipy.stats import ttest_ind as ttest\n",
    "\n",
    "print('p-value:',\n",
    "      ttest(churn.query('Exited==0')['CreditScore'], churn.query('Exited==1')['CreditScore'])[1])"
   ]
  },
  {
   "cell_type": "code",
   "execution_count": 46,
   "metadata": {},
   "outputs": [
    {
     "name": "stdout",
     "output_type": "stream",
     "text": [
      "p-value: 0.006726740953371959\n"
     ]
    }
   ],
   "source": [
    "from statsmodels.stats.weightstats import ztest\n",
    "\n",
    "print('p-value:',\n",
    "    ztest(churn.query('Exited==0')['CreditScore'], churn.query('Exited==1')['CreditScore'])[1])"
   ]
  },
  {
   "cell_type": "markdown",
   "metadata": {},
   "source": [
    "O gráfico de pontos abaixo demonstra a diferença entre as médias. Possivelmente a presença de outliers abaixo do mínimo, como apresentado no boxplot e stripplot, fez com que a média da variável independente reduzisse para churn."
   ]
  },
  {
   "cell_type": "code",
   "execution_count": 47,
   "metadata": {
    "scrolled": true
   },
   "outputs": [
    {
     "data": {
      "image/png": "[encoded data removed]",
      "text/plain": [
       "<Figure size 432x288 with 1 Axes>"
      ]
     },
     "metadata": {},
     "output_type": "display_data"
    }
   ],
   "source": [
    "fig, ax=plt.subplots(figsize=(6,4))\n",
    "sns.pointplot(x='Exited',y='CreditScore',data=churn,ax=ax)\n",
    "ax.set(title='Médias para Exited');"
   ]
  },
  {
   "cell_type": "code",
   "execution_count": 48,
   "metadata": {},
   "outputs": [
    {
     "data": {
      "image/png": "[encoded data removed]",
      "text/plain": [
       "<Figure size 864x288 with 2 Axes>"
      ]
     },
     "metadata": {},
     "output_type": "display_data"
    }
   ],
   "source": [
    "fig, ax = plt.subplots(1,2,figsize=(12,4))\n",
    "sns.boxplot(x='Exited', y='CreditScore', data=churn, ax=ax[0])\n",
    "sns.stripplot(x='Exited', y='CreditScore', data=churn, ax=ax[1]);"
   ]
  },
  {
   "cell_type": "markdown",
   "metadata": {},
   "source": [
    "Utilizando o teste de associação point biserial entre as variáveis, notamos pelo resultado uma associação negativa fraca de -0.02, ou seja, quando ocorre churn, a tendência é que o cliente tenha um crédito menor no banco.\n",
    "Isso pode ser observado na redução da média no gráfico de pontos acima devido aos outliers na parte inferior apresentados anteriormente.\n",
    "\n",
    "Nota-se, também, pelo resultado do p-value que a associação entre as variáveis, ainda que seja fraca, é estatisticamente significante, pois p-value < 5%."
   ]
  },
  {
   "cell_type": "code",
   "execution_count": 49,
   "metadata": {},
   "outputs": [
    {
     "data": {
      "text/plain": [
       "(-0.027093539754657787, 0.006738213892225283)"
      ]
     },
     "execution_count": 49,
     "metadata": {},
     "output_type": "execute_result"
    }
   ],
   "source": [
    "from scipy.stats import pointbiserialr as pb\n",
    "\n",
    "corr,p_value = pb(churn['Exited'], churn['CreditScore'])\n",
    "corr,p_value"
   ]
  },
  {
   "cell_type": "markdown",
   "metadata": {},
   "source": [
    "Aplicando o KDE, notam-se regiões nas quais a densidade de probabilidade de churn aparenta ser superior:"
   ]
  },
  {
   "cell_type": "code",
   "execution_count": 50,
   "metadata": {},
   "outputs": [
    {
     "data": {
      "image/png": "[encoded data removed]",
      "text/plain": [
       "<Figure size 546.375x252 with 1 Axes>"
      ]
     },
     "metadata": {},
     "output_type": "display_data"
    }
   ],
   "source": [
    "sns.FacetGrid(hue='Exited',data=churn,\n",
    "             height=3.5, aspect=2).map_dataframe(sns.kdeplot,'CreditScore').add_legend();"
   ]
  },
  {
   "cell_type": "markdown",
   "metadata": {},
   "source": [
    "A função abaixo calcula a probabilidade de uma variável através da integral aproximada da F.D.P de um determinado número de pontos [[5]](https://github.com/admond1994/calculate-probability-from-probability-density-plots/blob/master/cal_probability.ipynb)."
   ]
  },
  {
   "cell_type": "code",
   "execution_count": 51,
   "metadata": {},
   "outputs": [],
   "source": [
    "from sklearn.neighbors import KernelDensity\n",
    "\n",
    "def calculate_probability(df, col, eval_points, start_value, end_value):\n",
    "    \"\"\"Calcula a probabilidade do campo através a integral aproximada da \n",
    "    função de densidade de probabilidade\"\"\"\n",
    "    \n",
    "    # reshape df\n",
    "    df = np.array(df['%s'%col]).reshape(-1,1)\n",
    "    \n",
    "    # do kde\n",
    "    kde_df = KernelDensity(kernel='gaussian', bandwidth=0.5).fit(df)\n",
    "\n",
    "    # number of eval points\n",
    "    N = eval_points\n",
    "    step = (end_value - start_value)/(N-1)\n",
    "    \n",
    "    x = np.linspace(start_value, end_value, N)[:, np.newaxis]\n",
    "    \n",
    "    # get samples\n",
    "    kde_vals = np.exp(kde_df.score_samples(x))\n",
    "    \n",
    "    # integrate (app.) PDF\n",
    "    probability = np.sum(kde_vals * step)\n",
    "    \n",
    "    return probability.round(4)"
   ]
  },
  {
   "cell_type": "markdown",
   "metadata": {},
   "source": [
    "Cria dfs para churn=0 & churn=1:"
   ]
  },
  {
   "cell_type": "code",
   "execution_count": 52,
   "metadata": {},
   "outputs": [],
   "source": [
    "# cria dois df para a variável resposta\n",
    "churn_0 = churn[churn['Exited']==0]\n",
    "churn_1 = churn[churn['Exited']==1]"
   ]
  },
  {
   "cell_type": "markdown",
   "metadata": {},
   "source": [
    "Explorar a variável `CreditScore` a cada 100 unidades, nota-se que existem três regiões nas quais a densidade de probabilidade é superior para churn, todas com valores abaixo de Q3, porém nenhuma região com diferença significativa:"
   ]
  },
  {
   "cell_type": "code",
   "execution_count": 53,
   "metadata": {},
   "outputs": [
    {
     "data": {
      "text/plain": [
       "(350, 850)"
      ]
     },
     "execution_count": 53,
     "metadata": {},
     "output_type": "execute_result"
    }
   ],
   "source": [
    "# valores mínimo e máximo da variável\n",
    "churn['CreditScore'].min(), churn['CreditScore'].max()"
   ]
  },
  {
   "cell_type": "code",
   "execution_count": 54,
   "metadata": {},
   "outputs": [
    {
     "name": "stdout",
     "output_type": "stream",
     "text": [
      "[350-450]: Churn=0: 0.0159 Churn=1: 0.0289\n",
      "[450-550]: Curn=0: 0.1404 Churn=1: 0.1493\n",
      "[550-650]: Churn=0: 0.3303 Churn=1: 0.3389\n",
      "[650-750]: Churn=0: 0.3527 Churn=1: 0.3281\n",
      "[750-850]: Churn=0: 0.1526 Churn=1: 0.1472\n"
     ]
    }
   ],
   "source": [
    "print('[350-450]: Churn=0:',\n",
    "    calculate_probability(churn_0, 'CreditScore', 500, 350, 450),\n",
    "      'Churn=1:',\n",
    "    calculate_probability(churn_1, 'CreditScore', 500, 350, 450)\n",
    ")\n",
    "print('[450-550]: Curn=0:',\n",
    "    calculate_probability(churn_0, 'CreditScore', 500, 450, 550),\n",
    "      'Churn=1:',\n",
    "    calculate_probability(churn_1, 'CreditScore', 500, 450, 550)\n",
    ")\n",
    "print('[550-650]: Churn=0:',\n",
    "    calculate_probability(churn_0, 'CreditScore', 500, 550, 650),\n",
    "      'Churn=1:',\n",
    "    calculate_probability(churn_1, 'CreditScore', 500, 550, 650)\n",
    ")\n",
    "print('[650-750]: Churn=0:',\n",
    "    calculate_probability(churn_0, 'CreditScore', 500, 650, 750),\n",
    "      'Churn=1:',\n",
    "    calculate_probability(churn_1, 'CreditScore', 500, 650, 750)\n",
    ")\n",
    "print('[750-850]: Churn=0:',\n",
    "    calculate_probability(churn_0, 'CreditScore', 500, 750, 850),\n",
    "      'Churn=1:',\n",
    "    calculate_probability(churn_1, 'CreditScore', 500, 750, 850)\n",
    ")"
   ]
  },
  {
   "cell_type": "markdown",
   "metadata": {},
   "source": [
    "#### `Age` $\\to$ considerada var. quantitativa contínua"
   ]
  },
  {
   "cell_type": "markdown",
   "metadata": {},
   "source": [
    "Através das estatísticas descritivas abaixo, nota-se que as diversas medidas resumo (média, mediana, quartis) da idade é maior para clientes com churn, a qual pode ser claramente vista no gráfico de pontos que representa a média de idade para clientes com churn e sem churn (inferenciado pelo test-T abaixo).\n",
    "\n",
    "Ademais, a distribuição de frequências da idade de clientes sem churn possui uma maior assimetria à direita, enquanto a distribuição da idade por clientes que saíram é razoavelmente simétrica."
   ]
  },
  {
   "cell_type": "code",
   "execution_count": 55,
   "metadata": {},
   "outputs": [
    {
     "data": {
      "text/html": [
       "<div>\n",
       "<style scoped>\n",
       "    .dataframe tbody tr th:only-of-type {\n",
       "        vertical-align: middle;\n",
       "    }\n",
       "\n",
       "    .dataframe tbody tr th {\n",
       "        vertical-align: top;\n",
       "    }\n",
       "\n",
       "    .dataframe thead th {\n",
       "        text-align: right;\n",
       "    }\n",
       "</style>\n",
       "<table border=\"1\" class=\"dataframe\">\n",
       "  <thead>\n",
       "    <tr style=\"text-align: right;\">\n",
       "      <th></th>\n",
       "      <th>count</th>\n",
       "      <th>mean</th>\n",
       "      <th>std</th>\n",
       "      <th>min</th>\n",
       "      <th>25%</th>\n",
       "      <th>50%</th>\n",
       "      <th>75%</th>\n",
       "      <th>max</th>\n",
       "    </tr>\n",
       "    <tr>\n",
       "      <th>Exited</th>\n",
       "      <th></th>\n",
       "      <th></th>\n",
       "      <th></th>\n",
       "      <th></th>\n",
       "      <th></th>\n",
       "      <th></th>\n",
       "      <th></th>\n",
       "      <th></th>\n",
       "    </tr>\n",
       "  </thead>\n",
       "  <tbody>\n",
       "    <tr>\n",
       "      <th>0</th>\n",
       "      <td>7963.0</td>\n",
       "      <td>37.408389</td>\n",
       "      <td>10.125363</td>\n",
       "      <td>18.0</td>\n",
       "      <td>31.0</td>\n",
       "      <td>36.0</td>\n",
       "      <td>41.0</td>\n",
       "      <td>92.0</td>\n",
       "    </tr>\n",
       "    <tr>\n",
       "      <th>1</th>\n",
       "      <td>2037.0</td>\n",
       "      <td>44.837997</td>\n",
       "      <td>9.761562</td>\n",
       "      <td>18.0</td>\n",
       "      <td>38.0</td>\n",
       "      <td>45.0</td>\n",
       "      <td>51.0</td>\n",
       "      <td>84.0</td>\n",
       "    </tr>\n",
       "  </tbody>\n",
       "</table>\n",
       "</div>"
      ],
      "text/plain": [
       "         count       mean        std   min   25%   50%   75%   max\n",
       "Exited                                                            \n",
       "0       7963.0  37.408389  10.125363  18.0  31.0  36.0  41.0  92.0\n",
       "1       2037.0  44.837997   9.761562  18.0  38.0  45.0  51.0  84.0"
      ]
     },
     "execution_count": 55,
     "metadata": {},
     "output_type": "execute_result"
    }
   ],
   "source": [
    "churn.groupby(['Exited'])['Age'].describe()"
   ]
  },
  {
   "cell_type": "code",
   "execution_count": 56,
   "metadata": {},
   "outputs": [
    {
     "name": "stdout",
     "output_type": "stream",
     "text": [
      "1.3776989459755633 0.07797762023540633\n"
     ]
    }
   ],
   "source": [
    "# assimetria several para churn=0\n",
    "print(\n",
    "    churn_0['Age'].skew(),\n",
    "    churn_1['Age'].skew()\n",
    ")"
   ]
  },
  {
   "cell_type": "code",
   "execution_count": 57,
   "metadata": {},
   "outputs": [
    {
     "data": {
      "image/png": "[encoded data removed]",
      "text/plain": [
       "<Figure size 1008x252 with 2 Axes>"
      ]
     },
     "metadata": {},
     "output_type": "display_data"
    }
   ],
   "source": [
    "sns.FacetGrid(col='Exited',data=churn,\n",
    "              height=3.5, aspect=2).map_dataframe(sns.histplot,'Age');"
   ]
  },
  {
   "cell_type": "markdown",
   "metadata": {},
   "source": [
    "Aplicando um teste estatístico não-paramétrico U de Mann-Whitney para testa a hipótese de amostras independentes para igualdade de medianas entre as variáveis `Age` e `Exited`, ou seja, se uma população tende a ter valores mais que a outra [[6]](https://docs.scipy.org/doc/scipy/reference/generated/scipy.stats.mannwhitneyu.html), [[7]](http://www.inf.ufsc.br/~vera.carmo/Testes_de_Hipoteses/Testes_nao_parametricos_Mann-Whitney.pdf), [[8]](http://www.portalaction.com.br/tecnicas-nao-parametricas/teste-de-wilcoxon-mann-whitney-amostras-independentes), considerando um nível de significância de 5%:\n",
    "\n",
    "Hipóteses:\n",
    "- $H_0: median_{Age,Exited=0} = median_{Age,Exited=1}$\n",
    "- $H_1: median_{Age,Exited=0} \\ne median_{Age,Exited=1}$ (two-tailed test)\n",
    "\n",
    "O resultado aponta um p-value $\\approx$ 0. Podemos rejeitar a hipótese nula do teste de que as medianas são iguais pois não há evidência suficiente para aceitá-la, aceitando portanto a hipótese alternativa de que as amostras possuem medianas diferentes. \n",
    "\n",
    "Isso pode ser notado visualmente pelo gráfico de pontos abaixo, demonstrando uma mediana inferior para churn. Nota-se, também, a presença de outliers para ambos os casos, mas muito superior para `Exited`=0, como visto no boxplot e stripplot, fatores que causaram a assimetria (longa calda) à direita, como visto nos gráficos de dist. de frequências acima.\n",
    "\n",
    "PS: o teste não-paramétrico foi utilizado pois as distribuições não são normais, uma das premissas de um teste paramétrico como o teste-T."
   ]
  },
  {
   "cell_type": "code",
   "execution_count": 58,
   "metadata": {},
   "outputs": [
    {
     "name": "stdout",
     "output_type": "stream",
     "text": [
      "p-value: 1.6052007159685838e-230\n"
     ]
    }
   ],
   "source": [
    "from scipy.stats import mannwhitneyu as utest\n",
    "\n",
    "print('p-value:',\n",
    "      utest(churn_0['Age'], churn_1['Age'])[1])"
   ]
  },
  {
   "cell_type": "code",
   "execution_count": 59,
   "metadata": {},
   "outputs": [
    {
     "data": {
      "image/png": "[encoded data removed]",
      "text/plain": [
       "<Figure size 432x288 with 1 Axes>"
      ]
     },
     "metadata": {},
     "output_type": "display_data"
    }
   ],
   "source": [
    "fig, ax=plt.subplots(figsize=(6,4))\n",
    "sns.pointplot(x='Exited',y='Age',data=churn,estimator=np.median,ax=ax);"
   ]
  },
  {
   "cell_type": "code",
   "execution_count": 60,
   "metadata": {},
   "outputs": [
    {
     "data": {
      "image/png": "[encoded data removed]",
      "text/plain": [
       "<Figure size 864x288 with 2 Axes>"
      ]
     },
     "metadata": {},
     "output_type": "display_data"
    }
   ],
   "source": [
    "fig, ax = plt.subplots(1,2,figsize=(12,4))\n",
    "sns.boxplot(x='Exited', y='Age', data=churn, ax=ax[0])\n",
    "sns.stripplot(x='Exited', y='Age', data=churn, ax=ax[1]);"
   ]
  },
  {
   "cell_type": "markdown",
   "metadata": {},
   "source": [
    "Aplicando um teste de associação point biserial entre as variáveis `Exited` e `Age`, nota-se que existe uma correção positiva moderada de app. 30%, ou seja, quando um cliente sai do banco, a tendência é que ele seja mais velho.\n",
    "\n",
    "O mesmo pode ser visto pelo p-value, com valor muito póximo de zero, o que nos diz que a associação entre as variáveis é estatisticamente significante."
   ]
  },
  {
   "cell_type": "code",
   "execution_count": 61,
   "metadata": {},
   "outputs": [
    {
     "data": {
      "text/plain": [
       "(0.28532303783506824, 1.2399313093495365e-186)"
      ]
     },
     "execution_count": 61,
     "metadata": {},
     "output_type": "execute_result"
    }
   ],
   "source": [
    "corr,p_value = pb(churn['Exited'], churn['Age'])\n",
    "corr,p_value"
   ]
  },
  {
   "cell_type": "markdown",
   "metadata": {},
   "source": [
    "Ao aplicar o KDE na variável, segmentando por churn, a densidade de probabilidade de churn aparenta ser maior acima dos 40 anos:"
   ]
  },
  {
   "cell_type": "code",
   "execution_count": 62,
   "metadata": {},
   "outputs": [
    {
     "data": {
      "image/png": "[encoded data removed]",
      "text/plain": [
       "<Figure size 504x252 with 1 Axes>"
      ]
     },
     "metadata": {},
     "output_type": "display_data"
    }
   ],
   "source": [
    "sns.FacetGrid(hue='Exited',data=churn,\n",
    "              height=3.5, aspect=2).map_dataframe(sns.kdeplot,'Age');"
   ]
  },
  {
   "cell_type": "markdown",
   "metadata": {},
   "source": [
    "Aplicando a função para integral da f.d.p. em regiões criada acima, é possível notar que de fato a região onde `Age` $\\ge$45 e $\\le$65 o churn possui maior densidade de probabilidade:"
   ]
  },
  {
   "cell_type": "code",
   "execution_count": 63,
   "metadata": {},
   "outputs": [
    {
     "data": {
      "text/plain": [
       "(18, 92)"
      ]
     },
     "execution_count": 63,
     "metadata": {},
     "output_type": "execute_result"
    }
   ],
   "source": [
    "# valores mínimo e máximo da variável\n",
    "churn['Age'].min(), churn['Age'].max()"
   ]
  },
  {
   "cell_type": "code",
   "execution_count": 64,
   "metadata": {},
   "outputs": [
    {
     "name": "stdout",
     "output_type": "stream",
     "text": [
      "[18-30]: Churn=0: 0.2092 Churn=1: 0.0666\n",
      "[30-45]: Churn=0: 0.6378 Churn=1: 0.4436\n",
      "[45-60]: Churn=0: 0.1088 Churn=1: 0.428\n",
      "[60-70]: Churn=0: 0.0397 Churn=1: 0.0643\n",
      "[75-95]: Churn=0: 0.0062 Churn=1: 0.0005\n"
     ]
    }
   ],
   "source": [
    "print('[18-30]: Churn=0:',\n",
    "      calculate_probability(churn_0, 'Age', 300, 18, 30),\n",
    "      'Churn=1:',\n",
    "      calculate_probability(churn_1, 'Age', 300, 18, 30)\n",
    ")\n",
    "print('[30-45]: Churn=0:',\n",
    "      calculate_probability(churn_0, 'Age', 300, 30, 45),\n",
    "      'Churn=1:',\n",
    "      calculate_probability(churn_1, 'Age', 300, 30, 45)\n",
    ")\n",
    "print('[45-60]: Churn=0:',\n",
    "      calculate_probability(churn_0, 'Age', 300, 45, 60),\n",
    "      'Churn=1:',\n",
    "      calculate_probability(churn_1, 'Age', 300, 45, 60)\n",
    ")\n",
    "print('[60-70]: Churn=0:',\n",
    "      calculate_probability(churn_0, 'Age', 300, 60, 75),\n",
    "      'Churn=1:',\n",
    "      calculate_probability(churn_1, 'Age', 300, 60, 75)\n",
    ")\n",
    "print('[75-95]: Churn=0:',\n",
    "      calculate_probability(churn_0, 'Age', 300, 75, 95),\n",
    "      'Churn=1:',\n",
    "      calculate_probability(churn_1, 'Age', 300, 75, 95)\n",
    ")"
   ]
  },
  {
   "cell_type": "markdown",
   "metadata": {},
   "source": [
    "#### `Tenure` $\\to$ considerada var. quantitativa contínua"
   ]
  },
  {
   "cell_type": "markdown",
   "metadata": {},
   "source": [
    "Através das figuras de contagem abaixo, nota-se que a tendência é similar, com contagem inferior para os anos 0 e 10. No caso de churn, a taxa nestes anos é de aproximadamente 5%, metade dos demais anos."
   ]
  },
  {
   "cell_type": "code",
   "execution_count": 65,
   "metadata": {},
   "outputs": [
    {
     "data": {
      "image/png": "[encoded data removed]",
      "text/plain": [
       "<Figure size 1008x252 with 2 Axes>"
      ]
     },
     "metadata": {},
     "output_type": "display_data"
    }
   ],
   "source": [
    "sns.FacetGrid(col='Exited',data=churn,height=3.5,aspect=2).map_dataframe(sns.countplot,'Tenure');"
   ]
  },
  {
   "cell_type": "code",
   "execution_count": 66,
   "metadata": {},
   "outputs": [
    {
     "name": "stdout",
     "output_type": "stream",
     "text": [
      "Tenure  Exited\n",
      "0       1          4.66\n",
      "1       1         11.39\n",
      "2       1          9.87\n",
      "3       1         10.46\n",
      "4       1          9.97\n",
      "5       1         10.26\n",
      "6       1          9.62\n",
      "7       1          8.69\n",
      "8       1          9.67\n",
      "9       1         10.46\n",
      "10      1          4.96\n",
      "Name: Exited, dtype: float64\n"
     ]
    }
   ],
   "source": [
    "# porcentagem de churn por ano\n",
    "print(\n",
    "round(churn.query('Exited==1').groupby('Tenure')['Exited'].value_counts()/\\\n",
    "      churn.query('Exited==1').shape[0]*100,2)\n",
    ")"
   ]
  },
  {
   "cell_type": "markdown",
   "metadata": {},
   "source": [
    "Aplicando um teste de associação point biserial entre as variáveis `Exited` e `Tenure`, nota-se que existe uma correção negativa fraca de -0.01, ou seja, quando um cliente sai do banco, a tendência é que ele seja cliente do banco a menos tempo.\n",
    "\n",
    "Entretanto, considerando um nível de significância de 5%, nota-se pelo p-value de 16% que a associação entre as variáveis não é estatisticamente significante."
   ]
  },
  {
   "cell_type": "code",
   "execution_count": 67,
   "metadata": {},
   "outputs": [
    {
     "data": {
      "text/plain": [
       "(-0.014000612253444605, 0.16152684949563412)"
      ]
     },
     "execution_count": 67,
     "metadata": {},
     "output_type": "execute_result"
    }
   ],
   "source": [
    "corr,p_value = pb(churn['Exited'], churn['Tenure'])\n",
    "corr,p_value"
   ]
  },
  {
   "cell_type": "markdown",
   "metadata": {},
   "source": [
    "#### `Balance` $\\to$ var. quantitativa contínua"
   ]
  },
  {
   "cell_type": "markdown",
   "metadata": {},
   "source": [
    "Através das estatísticas descritivas abaixo, nota-se que a distribuição de clientes que não saíram do banco se encontra mais deslocada para a esquerda (diferença entre as médias como apresentado no teste t abaixo), sendo que ainda em Q1 o valor da variável ainda é zero."
   ]
  },
  {
   "cell_type": "code",
   "execution_count": 68,
   "metadata": {},
   "outputs": [
    {
     "data": {
      "text/html": [
       "<div>\n",
       "<style scoped>\n",
       "    .dataframe tbody tr th:only-of-type {\n",
       "        vertical-align: middle;\n",
       "    }\n",
       "\n",
       "    .dataframe tbody tr th {\n",
       "        vertical-align: top;\n",
       "    }\n",
       "\n",
       "    .dataframe thead th {\n",
       "        text-align: right;\n",
       "    }\n",
       "</style>\n",
       "<table border=\"1\" class=\"dataframe\">\n",
       "  <thead>\n",
       "    <tr style=\"text-align: right;\">\n",
       "      <th></th>\n",
       "      <th>count</th>\n",
       "      <th>mean</th>\n",
       "      <th>std</th>\n",
       "      <th>min</th>\n",
       "      <th>25%</th>\n",
       "      <th>50%</th>\n",
       "      <th>75%</th>\n",
       "      <th>max</th>\n",
       "    </tr>\n",
       "    <tr>\n",
       "      <th>Exited</th>\n",
       "      <th></th>\n",
       "      <th></th>\n",
       "      <th></th>\n",
       "      <th></th>\n",
       "      <th></th>\n",
       "      <th></th>\n",
       "      <th></th>\n",
       "      <th></th>\n",
       "    </tr>\n",
       "  </thead>\n",
       "  <tbody>\n",
       "    <tr>\n",
       "      <th>0</th>\n",
       "      <td>7963.0</td>\n",
       "      <td>72745.296779</td>\n",
       "      <td>62848.040701</td>\n",
       "      <td>0.0</td>\n",
       "      <td>0.00</td>\n",
       "      <td>92072.68</td>\n",
       "      <td>126410.28</td>\n",
       "      <td>221532.80</td>\n",
       "    </tr>\n",
       "    <tr>\n",
       "      <th>1</th>\n",
       "      <td>2037.0</td>\n",
       "      <td>91108.539337</td>\n",
       "      <td>58360.794816</td>\n",
       "      <td>0.0</td>\n",
       "      <td>38340.02</td>\n",
       "      <td>109349.29</td>\n",
       "      <td>131433.33</td>\n",
       "      <td>250898.09</td>\n",
       "    </tr>\n",
       "  </tbody>\n",
       "</table>\n",
       "</div>"
      ],
      "text/plain": [
       "         count          mean           std  min       25%        50%  \\\n",
       "Exited                                                                 \n",
       "0       7963.0  72745.296779  62848.040701  0.0      0.00   92072.68   \n",
       "1       2037.0  91108.539337  58360.794816  0.0  38340.02  109349.29   \n",
       "\n",
       "              75%        max  \n",
       "Exited                        \n",
       "0       126410.28  221532.80  \n",
       "1       131433.33  250898.09  "
      ]
     },
     "execution_count": 68,
     "metadata": {},
     "output_type": "execute_result"
    }
   ],
   "source": [
    "churn.groupby(['Exited'])['Balance'].describe()"
   ]
  },
  {
   "cell_type": "code",
   "execution_count": 69,
   "metadata": {},
   "outputs": [
    {
     "name": "stdout",
     "output_type": "stream",
     "text": [
      "-0.04688735375712353 -0.5127317438747061\n"
     ]
    }
   ],
   "source": [
    "# assimetria several para churn=0\n",
    "print(\n",
    "    churn_0['Balance'].skew(),\n",
    "    churn_1['Balance'].skew()\n",
    ")"
   ]
  },
  {
   "cell_type": "code",
   "execution_count": 70,
   "metadata": {},
   "outputs": [
    {
     "data": {
      "image/png": "[encoded data removed]",
      "text/plain": [
       "<Figure size 1008x252 with 2 Axes>"
      ]
     },
     "metadata": {},
     "output_type": "display_data"
    }
   ],
   "source": [
    "sns.FacetGrid(col='Exited',data=churn,\n",
    "              height=3.5, aspect=2).map_dataframe(sns.histplot,'Balance');"
   ]
  },
  {
   "cell_type": "markdown",
   "metadata": {},
   "source": [
    "Aplicando o teste de normalidade, temos como resultado p-value resultante próximo a zero para ambos os casos e testes, o que nos leva a rejeitar a hipótese nula pois não há evidência sufuciente para aceitá-la, e aceitar a hipótese alternativa de que as distribuições vêm de uma dist. normal."
   ]
  },
  {
   "cell_type": "code",
   "execution_count": 71,
   "metadata": {},
   "outputs": [
    {
     "name": "stdout",
     "output_type": "stream",
     "text": [
      "Exited=0: p_value=0.0\n",
      "Exited=1: p_value=3.655495885721507e-86\n"
     ]
    }
   ],
   "source": [
    "print('Exited=0: p_value={}'.format(\n",
    "    normaltest(churn_0['Balance'])[1]))\n",
    "print('Exited=1: p_value={}'.format(\n",
    "    normaltest(churn_1['Balance'])[1]))"
   ]
  },
  {
   "cell_type": "code",
   "execution_count": 72,
   "metadata": {},
   "outputs": [
    {
     "name": "stdout",
     "output_type": "stream",
     "text": [
      "Exited=0: p_value=0.0\n",
      "Exited=1: p_value=3.2270264114197277e-38\n"
     ]
    }
   ],
   "source": [
    "print('Exited=0: p_value={}'.format(\n",
    "    shapiro(churn.query('Exited==0')['Balance'])[1]))\n",
    "print('Exited=1: p_value={}'.format(\n",
    "    shapiro(churn.query('Exited==1')['Balance'])[1]))"
   ]
  },
  {
   "cell_type": "markdown",
   "metadata": {},
   "source": [
    "Aplicando um teste estatístico paramétrico teste-T para amostras independentes para testar a hipótese que as amostras possuem médias (valor esperado) idênticas entre as variáveis `Balance` e `Exited`, considerando um nível de significância de 5%, temos como resultado um p-value $\\approx$ 0, podemos rejeitar a hipótese nula de que as amostras possuem médias idênticas.\n",
    "\n",
    "O gráfico de pontos abaixo demonstra a diferença entre as médias. Possivelmente a presença de outliers abaixo do mínimo, como apresentado no boxplot e stripplot, fez com que a média da variável independente reduzisse para churn."
   ]
  },
  {
   "cell_type": "code",
   "execution_count": 73,
   "metadata": {},
   "outputs": [
    {
     "name": "stdout",
     "output_type": "stream",
     "text": [
      "p-value: 1.2755633191525477e-32\n"
     ]
    }
   ],
   "source": [
    "print('p-value:',\n",
    "    ttest(churn_0['Balance'], churn_1['Balance'])[1])"
   ]
  },
  {
   "cell_type": "code",
   "execution_count": 74,
   "metadata": {},
   "outputs": [
    {
     "data": {
      "image/png": "[encoded data removed]",
      "text/plain": [
       "<Figure size 432x288 with 1 Axes>"
      ]
     },
     "metadata": {},
     "output_type": "display_data"
    }
   ],
   "source": [
    "fig, ax=plt.subplots(figsize=(6,4))\n",
    "sns.pointplot(x='Exited',y='Age',data=churn,ax=ax);"
   ]
  },
  {
   "cell_type": "code",
   "execution_count": 75,
   "metadata": {},
   "outputs": [
    {
     "data": {
      "image/png": "[encoded data removed]",
      "text/plain": [
       "<Figure size 864x288 with 2 Axes>"
      ]
     },
     "metadata": {},
     "output_type": "display_data"
    }
   ],
   "source": [
    "fig, ax = plt.subplots(1,2,figsize=(12,4))\n",
    "sns.boxplot(x='Exited', y='Balance', data=churn, ax=ax[0])\n",
    "sns.stripplot(x='Exited', y='Balance', data=churn, ax=ax[1]);"
   ]
  },
  {
   "cell_type": "markdown",
   "metadata": {},
   "source": [
    "Entretanto, aplicando o teste-T para `Balance`$\\ge$0.005, nota-se que o p-value=0.0845 (two-tailed test), superior a 5%, ou seja, nesse caso aceitamos a hipótese nula de que as médias (valor esperado) são iguais, como pode ser visto na visualização abaixo, onde a variação entre as médias nesse caso é muito menor, como pode ser visto principalmente no boxplot a seguir, ainda que com outliers (que possivelmente aparecem devido à grande redução de pontos inferiore i.e. 0). \n",
    "\n",
    "Ou seja, nesse caso, a grande presença de valores zero para `Exited`=0 puxa a média da variável para baixo."
   ]
  },
  {
   "cell_type": "code",
   "execution_count": 76,
   "metadata": {},
   "outputs": [
    {
     "name": "stdout",
     "output_type": "stream",
     "text": [
      "p-value: 0.16924734893322796\n"
     ]
    }
   ],
   "source": [
    "print('p-value:',\n",
    "    ttest(churn_0.query('Balance>0.005')['Balance'], churn_1.query('Balance>0.005')['Balance'])[1])"
   ]
  },
  {
   "cell_type": "code",
   "execution_count": 77,
   "metadata": {},
   "outputs": [
    {
     "data": {
      "image/png": "[encoded data removed]",
      "text/plain": [
       "<Figure size 432x288 with 1 Axes>"
      ]
     },
     "metadata": {},
     "output_type": "display_data"
    }
   ],
   "source": [
    "fig, ax=plt.subplots(figsize=(6,4))\n",
    "sns.pointplot(x='Exited',y='Age',data=churn.query('Balance >=0.005'),ax=ax);"
   ]
  },
  {
   "cell_type": "code",
   "execution_count": 78,
   "metadata": {},
   "outputs": [
    {
     "data": {
      "image/png": "[encoded data removed]",
      "text/plain": [
       "<Figure size 864x288 with 2 Axes>"
      ]
     },
     "metadata": {},
     "output_type": "display_data"
    }
   ],
   "source": [
    "fig, ax = plt.subplots(1,2,figsize=(12,4))\n",
    "sns.boxplot(x='Exited', y='Balance', data=churn.query('Balance >=0.005'), ax=ax[0])\n",
    "sns.stripplot(x='Exited', y='Balance', data=churn.query('Balance >=0.005'), ax=ax[1]);"
   ]
  },
  {
   "cell_type": "markdown",
   "metadata": {},
   "source": [
    "Aplicando um teste de associação point biserial entre as variáveis `Exited` e `Balance`, nota-se que existe uma associação positiva fraca de 0.118, ou seja, quando um cliente sai do banco, a tendência é que ele tenha mais dinheiro em conta.\n",
    "\n",
    "Ademais, considerando um nível de significância de 5%, nota-se pelo p-value de próximo a zero que a associação entre as variáveis é estatisticamente significante."
   ]
  },
  {
   "cell_type": "code",
   "execution_count": 79,
   "metadata": {},
   "outputs": [
    {
     "data": {
      "text/plain": [
       "(0.11853276877163402, 1.275563319158762e-32)"
      ]
     },
     "execution_count": 79,
     "metadata": {},
     "output_type": "execute_result"
    }
   ],
   "source": [
    "corr,p_value = pb(churn['Exited'], churn['Balance'])\n",
    "corr,p_value"
   ]
  },
  {
   "cell_type": "markdown",
   "metadata": {},
   "source": [
    "Entretanto, excluindo-se os valores zero, a associação é próxima a zero, não sendo estatisticamente significante. Portanto, é possível que os valores zero da variável seja um fator de influência na associação."
   ]
  },
  {
   "cell_type": "code",
   "execution_count": 80,
   "metadata": {},
   "outputs": [
    {
     "data": {
      "text/plain": [
       "(0.01720779085918183, 0.16924734893412585)"
      ]
     },
     "execution_count": 80,
     "metadata": {},
     "output_type": "execute_result"
    }
   ],
   "source": [
    "corr,p_value = pb(churn.query('Balance >=0.005')['Exited'], churn.query('Balance >=0.005')['Balance'])\n",
    "corr,p_value"
   ]
  },
  {
   "cell_type": "markdown",
   "metadata": {},
   "source": [
    "Aplicando o KDE nota-se visivelmente que a variável `Balance` possui característica bimodal, onde a probabilidade de um cliente não ter saído quando seu balanço é zero aparenta ser muito maior que a probabilidade de churn quando o balanço é positivo."
   ]
  },
  {
   "cell_type": "code",
   "execution_count": 81,
   "metadata": {},
   "outputs": [
    {
     "data": {
      "image/png": "[encoded data removed]",
      "text/plain": [
       "<Figure size 546.375x252 with 1 Axes>"
      ]
     },
     "metadata": {},
     "output_type": "display_data"
    }
   ],
   "source": [
    "sns.FacetGrid(hue='Exited',data=churn,\n",
    "              height=3.5, aspect=2).map_dataframe(sns.kdeplot,'Balance').add_legend();"
   ]
  },
  {
   "cell_type": "markdown",
   "metadata": {},
   "source": [
    "A proporção de clientes não que saíram e não possuem dinheiro em conta é 39%, em contraste com 24% dos clientes que saíram e não tinham dinheiro em conta."
   ]
  },
  {
   "cell_type": "code",
   "execution_count": 82,
   "metadata": {},
   "outputs": [
    {
     "name": "stdout",
     "output_type": "stream",
     "text": [
      "3117 4846\n",
      "500 1537\n"
     ]
    }
   ],
   "source": [
    "print(churn.query('Exited==0 and Balance==0').shape[0],\n",
    "    churn.query('Exited==0 and Balance>0').shape[0])\n",
    "print(churn.query('Exited==1 and Balance==0').shape[0],\n",
    "    churn.query('Exited==1 and Balance>0').shape[0])"
   ]
  },
  {
   "cell_type": "markdown",
   "metadata": {},
   "source": [
    "Aplicando a função de integração criada anteriormente para valores muito próximos a zero (apenas clientes sem dinheiro em conta), nota-se que de fato a densidade de probabilidade é maior para clientes sem saldo:"
   ]
  },
  {
   "cell_type": "code",
   "execution_count": 83,
   "metadata": {},
   "outputs": [
    {
     "name": "stdout",
     "output_type": "stream",
     "text": [
      "3117 500\n"
     ]
    }
   ],
   "source": [
    "# calcular o shape para clientes com Balance<0.005 -> igual a Balance==0\n",
    "print(\n",
    "    churn.query('Exited==0 and Balance<0.005').shape[0],\n",
    "    churn.query('Exited==1 and Balance<0.005').shape[0]\n",
    ")"
   ]
  },
  {
   "cell_type": "code",
   "execution_count": 84,
   "metadata": {},
   "outputs": [
    {
     "name": "stdout",
     "output_type": "stream",
     "text": [
      "[0-0.005]: Churn=0 0.0016 Churn=1: 0.001\n"
     ]
    }
   ],
   "source": [
    "print('[0-0.005]: Churn=0',\n",
    "     calculate_probability(churn_0, 'Balance', 200, 0, 0.005),\n",
    "    'Churn=1:',\n",
    "      calculate_probability(churn_1, 'Balance', 200, 0, 0.005)\n",
    ")"
   ]
  },
  {
   "cell_type": "markdown",
   "metadata": {},
   "source": [
    "Aplicando agora a função para segmentação de `Balance` a cada 50k, nota-se que a densidade de probabilidade de churn é superior para maiores valores da variável i.e. acima de 100k:"
   ]
  },
  {
   "cell_type": "code",
   "execution_count": 85,
   "metadata": {},
   "outputs": [
    {
     "data": {
      "text/plain": [
       "250898.09"
      ]
     },
     "execution_count": 85,
     "metadata": {},
     "output_type": "execute_result"
    }
   ],
   "source": [
    "# valor máximo da variável\n",
    "churn['Balance'].max()"
   ]
  },
  {
   "cell_type": "code",
   "execution_count": 86,
   "metadata": {},
   "outputs": [
    {
     "name": "stdout",
     "output_type": "stream",
     "text": [
      "[0.005-50k]: Churn=0 0.2785 Churn=1: 0.1836\n",
      "[50k-100k]: Churn=0 0.1518 Churn=1: 0.1473\n",
      "[100k-150k]: Churn=0 0.357 Churn=1: 0.4845\n",
      "[150k-200k]: Churn=0 0.0917 Churn=1: 0.1006\n",
      "[200k-250k]: Churn=0 0.0019 Churn=1: 0.0093\n"
     ]
    }
   ],
   "source": [
    "print('[0.005-50k]: Churn=0',\n",
    "     calculate_probability(churn_0, 'Balance', 100000, 0.005, 50000),\n",
    "    'Churn=1:',\n",
    "      calculate_probability(churn_1, 'Balance', 100000, 0.005, 50000)\n",
    ")\n",
    "print('[50k-100k]: Churn=0',\n",
    "     calculate_probability(churn_0, 'Balance', 100000, 50000, 100000),\n",
    "    'Churn=1:',\n",
    "      calculate_probability(churn_1, 'Balance', 100000, 50000, 100000)\n",
    ")\n",
    "print('[100k-150k]: Churn=0',\n",
    "     calculate_probability(churn_0, 'Balance', 100000, 100000, 150000),\n",
    "    'Churn=1:',\n",
    "      calculate_probability(churn_1, 'Balance', 100000, 100000, 150000)\n",
    ")\n",
    "print('[150k-200k]: Churn=0',\n",
    "     calculate_probability(churn_0, 'Balance', 100000, 150000, 200000),\n",
    "    'Churn=1:',\n",
    "      calculate_probability(churn_1, 'Balance', 100000, 150000, 200000)\n",
    ")\n",
    "print('[200k-250k]: Churn=0',\n",
    "     calculate_probability(churn_0, 'Balance', 100000, 200000, 250900),\n",
    "    'Churn=1:',\n",
    "      calculate_probability(churn_1, 'Balance', 100000, 200000, 250900)\n",
    ")"
   ]
  },
  {
   "cell_type": "markdown",
   "metadata": {},
   "source": [
    "#### ` NumOfProducts` $\\to$ var. quantitativa discreta"
   ]
  },
  {
   "cell_type": "markdown",
   "metadata": {},
   "source": [
    "Nota-se que o número de produtos comprados pelos clientes com churn tendem a ser maiores, como pode ser visto pelo valor máximo de produtos entre clientes com e sem churn, ou seja, nenhum cliente que permaneceu no banco comprou 4 produtos."
   ]
  },
  {
   "cell_type": "markdown",
   "metadata": {},
   "source": [
    "Pelo gráfico de contagem a seguir, nota-se que a contagem de churn para clientes que compraram 3 ou 4 produtos é muito superior:"
   ]
  },
  {
   "cell_type": "code",
   "execution_count": 87,
   "metadata": {},
   "outputs": [
    {
     "data": {
      "image/png": "[encoded data removed]",
      "text/plain": [
       "<Figure size 258.375x216 with 1 Axes>"
      ]
     },
     "metadata": {},
     "output_type": "display_data"
    }
   ],
   "source": [
    "sns.FacetGrid(hue='Exited',data=churn).map_dataframe(sns.countplot,'NumOfProducts').add_legend();"
   ]
  },
  {
   "cell_type": "code",
   "execution_count": 88,
   "metadata": {},
   "outputs": [
    {
     "name": "stdout",
     "output_type": "stream",
     "text": [
      "Taxa de churn para clientes que compraram 1 produto: 27.71%\n",
      "Taxa de churn para clientes que compraram 2 produtos: 7.58%\n",
      "Taxa de churn para clientes que compraram 3 produtos: 82.71%\n",
      "Taxa de churn para clientes que compraram 4 produtos: 100.0%\n"
     ]
    }
   ],
   "source": [
    "print('Taxa de churn para clientes que compraram 1 produto: {}%'.format(\n",
    "    round(churn.query('NumOfProducts==1 and Exited==1').shape[0]/\\\n",
    "          churn.query('NumOfProducts==1').shape[0]*100,2))\n",
    ")\n",
    "\n",
    "print('Taxa de churn para clientes que compraram 2 produtos: {}%'.format(\n",
    "    round(churn.query('NumOfProducts==2 and Exited==1').shape[0]/\\\n",
    "          churn.query('NumOfProducts==2').shape[0]*100,2))\n",
    ")\n",
    "\n",
    "print('Taxa de churn para clientes que compraram 3 produtos: {}%'.format(\n",
    "    round(churn.query('NumOfProducts==3 and Exited==1').shape[0]/\\\n",
    "          churn.query('NumOfProducts==3').shape[0]*100,2))\n",
    ")\n",
    "\n",
    "print('Taxa de churn para clientes que compraram 4 produtos: {}%'.format(\n",
    "    round(churn.query('NumOfProducts==4 and Exited==1').shape[0]/\\\n",
    "          churn.query('NumOfProducts==4').shape[0]*100,2))\n",
    ")"
   ]
  },
  {
   "cell_type": "markdown",
   "metadata": {},
   "source": [
    "Aplicando um teste de associação point biserial entre as variáveis `Exited` e `NumOfProducts`, nota-se que existe uma correção negativa fraca de 0.05, ou seja, quando um cliente sai do banco, a tendência é que ele tenha mais dinheiro em conta.\n",
    "\n",
    "Ademais, considerando um nível de significância de 5%, nota-se pelo p-value de próximo a zero que a associação entre as variáveis é estatisticamente significante."
   ]
  },
  {
   "cell_type": "code",
   "execution_count": 89,
   "metadata": {},
   "outputs": [
    {
     "data": {
      "text/plain": [
       "(-0.047819864949440835, 1.717333004813084e-06)"
      ]
     },
     "execution_count": 89,
     "metadata": {},
     "output_type": "execute_result"
    }
   ],
   "source": [
    "corr,p_value = pb(churn['Exited'], churn['NumOfProducts'])\n",
    "corr,p_value"
   ]
  },
  {
   "cell_type": "markdown",
   "metadata": {},
   "source": [
    "#### `EstimatedSalary`$\\to$ var. quantitativa contínua"
   ]
  },
  {
   "cell_type": "markdown",
   "metadata": {},
   "source": [
    "Através das estatísticas descritivas abaixo, nota-se que as distribuições devem ser muito próximas devido à proximidade das medidas estatísticas descritivas e.g. média, o que pode ser visto pelo gráfico de distribuição de frequências abaixo."
   ]
  },
  {
   "cell_type": "code",
   "execution_count": 90,
   "metadata": {},
   "outputs": [
    {
     "data": {
      "text/html": [
       "<div>\n",
       "<style scoped>\n",
       "    .dataframe tbody tr th:only-of-type {\n",
       "        vertical-align: middle;\n",
       "    }\n",
       "\n",
       "    .dataframe tbody tr th {\n",
       "        vertical-align: top;\n",
       "    }\n",
       "\n",
       "    .dataframe thead th {\n",
       "        text-align: right;\n",
       "    }\n",
       "</style>\n",
       "<table border=\"1\" class=\"dataframe\">\n",
       "  <thead>\n",
       "    <tr style=\"text-align: right;\">\n",
       "      <th></th>\n",
       "      <th>count</th>\n",
       "      <th>mean</th>\n",
       "      <th>std</th>\n",
       "      <th>min</th>\n",
       "      <th>25%</th>\n",
       "      <th>50%</th>\n",
       "      <th>75%</th>\n",
       "      <th>max</th>\n",
       "    </tr>\n",
       "    <tr>\n",
       "      <th>Exited</th>\n",
       "      <th></th>\n",
       "      <th></th>\n",
       "      <th></th>\n",
       "      <th></th>\n",
       "      <th></th>\n",
       "      <th></th>\n",
       "      <th></th>\n",
       "      <th></th>\n",
       "    </tr>\n",
       "  </thead>\n",
       "  <tbody>\n",
       "    <tr>\n",
       "      <th>0</th>\n",
       "      <td>7963.0</td>\n",
       "      <td>99738.391772</td>\n",
       "      <td>57405.586966</td>\n",
       "      <td>90.07</td>\n",
       "      <td>50783.49</td>\n",
       "      <td>99645.04</td>\n",
       "      <td>148609.955</td>\n",
       "      <td>199992.48</td>\n",
       "    </tr>\n",
       "    <tr>\n",
       "      <th>1</th>\n",
       "      <td>2037.0</td>\n",
       "      <td>101465.677531</td>\n",
       "      <td>57912.418071</td>\n",
       "      <td>11.58</td>\n",
       "      <td>51907.72</td>\n",
       "      <td>102460.84</td>\n",
       "      <td>152422.910</td>\n",
       "      <td>199808.10</td>\n",
       "    </tr>\n",
       "  </tbody>\n",
       "</table>\n",
       "</div>"
      ],
      "text/plain": [
       "         count           mean           std    min       25%        50%  \\\n",
       "Exited                                                                    \n",
       "0       7963.0   99738.391772  57405.586966  90.07  50783.49   99645.04   \n",
       "1       2037.0  101465.677531  57912.418071  11.58  51907.72  102460.84   \n",
       "\n",
       "               75%        max  \n",
       "Exited                         \n",
       "0       148609.955  199992.48  \n",
       "1       152422.910  199808.10  "
      ]
     },
     "execution_count": 90,
     "metadata": {},
     "output_type": "execute_result"
    }
   ],
   "source": [
    "churn.groupby(['Exited'])['EstimatedSalary'].describe()"
   ]
  },
  {
   "cell_type": "code",
   "execution_count": 91,
   "metadata": {},
   "outputs": [
    {
     "data": {
      "image/png": "[encoded data removed]",
      "text/plain": [
       "<Figure size 1008x252 with 2 Axes>"
      ]
     },
     "metadata": {},
     "output_type": "display_data"
    }
   ],
   "source": [
    "sns.FacetGrid(col='Exited',data=churn,\n",
    "              height=3.5, aspect=2).map_dataframe(sns.histplot,'EstimatedSalary');"
   ]
  },
  {
   "cell_type": "markdown",
   "metadata": {},
   "source": [
    "Aplicando um teste de Mann-Whitney para amostras independentes, nota-se um p-value de 0.113 (two-tailed test), superior ao nível de significância de 5% considerado para todos os casos e, portanto, aceitamos a hipótese nula de que as amostras possuem distribuições iguais.\n",
    "\n",
    "Nota-se que as medianas, pelo gráfico de pontos, são muito próximas, considerando o range de valores da variável (11 - 200k)."
   ]
  },
  {
   "cell_type": "code",
   "execution_count": 92,
   "metadata": {},
   "outputs": [
    {
     "name": "stdout",
     "output_type": "stream",
     "text": [
      "p-value: 0.11352575465076892\n"
     ]
    }
   ],
   "source": [
    "print('p-value:',\n",
    "    utest(churn_0['EstimatedSalary'], churn_1['EstimatedSalary'])[1])"
   ]
  },
  {
   "cell_type": "code",
   "execution_count": 93,
   "metadata": {},
   "outputs": [
    {
     "data": {
      "image/png": "[encoded data removed]",
      "text/plain": [
       "<Figure size 432x288 with 1 Axes>"
      ]
     },
     "metadata": {},
     "output_type": "display_data"
    }
   ],
   "source": [
    "fig, ax=plt.subplots(figsize=(6,4))\n",
    "sns.pointplot(x='Exited',y='EstimatedSalary',data=churn,estimator=np.median,ax=ax);"
   ]
  },
  {
   "cell_type": "code",
   "execution_count": 94,
   "metadata": {},
   "outputs": [
    {
     "data": {
      "image/png": "[encoded data removed]",
      "text/plain": [
       "<Figure size 864x288 with 2 Axes>"
      ]
     },
     "metadata": {},
     "output_type": "display_data"
    }
   ],
   "source": [
    "fig, ax = plt.subplots(1,2,figsize=(12,4))\n",
    "sns.boxplot(x='Exited', y='EstimatedSalary', data=churn, ax=ax[0])\n",
    "sns.stripplot(x='Exited', y='EstimatedSalary', data=churn, ax=ax[1]);"
   ]
  },
  {
   "cell_type": "markdown",
   "metadata": {},
   "source": [
    "Aplicando um teste de associação point biserial entre as variáveis `Exited` e `EstimatedSalary`, nota-se que existe uma correção positiva fraca de 0.01, ou seja, quando um cliente sai do banco, a tendência é que ele tenha um salário menor.\n",
    "\n",
    "Porém, considerando um nível de significância de 5%, nota-se pelo p-value cima de 5% que a associação entre as variáveis não estatisticamente significante."
   ]
  },
  {
   "cell_type": "code",
   "execution_count": 95,
   "metadata": {},
   "outputs": [
    {
     "data": {
      "text/plain": [
       "(0.01209686102684466, 0.22644042802341122)"
      ]
     },
     "execution_count": 95,
     "metadata": {},
     "output_type": "execute_result"
    }
   ],
   "source": [
    "corr,p_value = pb(churn['Exited'], churn['EstimatedSalary'])\n",
    "corr,p_value"
   ]
  },
  {
   "cell_type": "markdown",
   "metadata": {},
   "source": [
    "Aplicando o KDE para a variável, visualmente algumas regiões aparentam possuir maior densidade de probabilidade para churn:"
   ]
  },
  {
   "cell_type": "code",
   "execution_count": 96,
   "metadata": {},
   "outputs": [
    {
     "data": {
      "image/png": "[encoded data removed]",
      "text/plain": [
       "<Figure size 1008x252 with 2 Axes>"
      ]
     },
     "metadata": {},
     "output_type": "display_data"
    }
   ],
   "source": [
    "sns.FacetGrid(col='Exited',data=churn,\n",
    "              height=3.5, aspect=2).map_dataframe(sns.kdeplot,'EstimatedSalary');"
   ]
  },
  {
   "cell_type": "markdown",
   "metadata": {},
   "source": [
    "Aplicando a função de integração da FDP, nota-se que para uma segmentação de 50k, `EstimatedSalary`$\\ge$150k e $\\le$200k apresenta uma maior densidade de probabilidade para churn, as a diferença não é significativa."
   ]
  },
  {
   "cell_type": "code",
   "execution_count": 97,
   "metadata": {},
   "outputs": [
    {
     "data": {
      "text/plain": [
       "(11.58, 199992.48)"
      ]
     },
     "execution_count": 97,
     "metadata": {},
     "output_type": "execute_result"
    }
   ],
   "source": [
    "# valores máximo e mínimo da variável\n",
    "churn['EstimatedSalary'].min(), churn['EstimatedSalary'].max()"
   ]
  },
  {
   "cell_type": "code",
   "execution_count": 98,
   "metadata": {},
   "outputs": [
    {
     "name": "stdout",
     "output_type": "stream",
     "text": [
      "[0-50k]: Churn=0 0.2466 Churn=1: 0.2401\n",
      "[50k-100k]: Churn=0 0.2553 Churn=1: 0.2474\n",
      "[100k-150k]: Churn=0 0.2559 Churn=1: 0.2538\n",
      "[150k-200k]: Churn=0 0.2421 Churn=1: 0.2587\n"
     ]
    }
   ],
   "source": [
    "print('[0-50k]: Churn=0',\n",
    "     calculate_probability(churn_0, 'EstimatedSalary', 100000, 0, 50000),\n",
    "    'Churn=1:',\n",
    "      calculate_probability(churn_1, 'EstimatedSalary', 100000, 0, 50000)\n",
    ")\n",
    "print('[50k-100k]: Churn=0',\n",
    "     calculate_probability(churn_0, 'EstimatedSalary', 100000, 50000, 100000),\n",
    "    'Churn=1:',\n",
    "      calculate_probability(churn_1, 'EstimatedSalary', 100000, 50000, 100000)\n",
    ")\n",
    "print('[100k-150k]: Churn=0',\n",
    "     calculate_probability(churn_0, 'EstimatedSalary', 100000, 100000, 150000),\n",
    "    'Churn=1:',\n",
    "      calculate_probability(churn_1, 'EstimatedSalary', 100000, 100000, 150000)\n",
    ")\n",
    "print('[150k-200k]: Churn=0',\n",
    "     calculate_probability(churn_0, 'EstimatedSalary', 100000, 150000, 200000),\n",
    "    'Churn=1:',\n",
    "      calculate_probability(churn_1, 'EstimatedSalary', 100000, 150000, 200000)\n",
    ")"
   ]
  },
  {
   "cell_type": "markdown",
   "metadata": {},
   "source": [
    "### Sumarização\n",
    "\n",
    "- A única variável que apresentou uma associação aproximadamente moderada com a var. resposta `Exited` foi a var. `Idade`\n",
    "- As variáveis que não apresentaram nenhuma associação com a var. resposta `Exited` ou associação fraca e não significativa estatisticamente foram `HasCrCard`, `Tenure` e `EstimatedSalary`\n",
    "- As demais variáveis apresentaram associação fraca i.e. valor entre 0 e 0.3 (valor absoluto)"
   ]
  },
  {
   "cell_type": "markdown",
   "metadata": {},
   "source": [
    "# 2 - Análises de Churn\n",
    "___"
   ]
  },
  {
   "cell_type": "markdown",
   "metadata": {},
   "source": [
    "Após as análises bivariadas entre as var. independentes e a dependente, análises multivariadas serão aplicadas visando gerar alguns insights:"
   ]
  },
  {
   "cell_type": "code",
   "execution_count": 99,
   "metadata": {},
   "outputs": [
    {
     "data": {
      "text/plain": [
       "['Geography', 'Gender', 'HasCrCard', 'IsActiveMember', 'Exited']"
      ]
     },
     "execution_count": 99,
     "metadata": {},
     "output_type": "execute_result"
    }
   ],
   "source": [
    "categorical_var"
   ]
  },
  {
   "cell_type": "code",
   "execution_count": 100,
   "metadata": {
    "scrolled": true
   },
   "outputs": [
    {
     "data": {
      "text/plain": [
       "['CreditScore', 'Age', 'Tenure', 'Balance', 'NumOfProducts', 'EstimatedSalary']"
      ]
     },
     "execution_count": 100,
     "metadata": {},
     "output_type": "execute_result"
    }
   ],
   "source": [
    "numerical_var"
   ]
  },
  {
   "cell_type": "markdown",
   "metadata": {},
   "source": [
    "#### 1) Explicar a taxa de churn da Alemanha, tão próxima à da França (país com aproximadamente dobro de clientes)?\n",
    "\n",
    "Nota-se pelas figuras abaixo que a Alemanha, ainda que possua um menor número de clientes, possui uma contagem de churn relativamente alta (semelhante à da França, a qual possui o mais número de clientes) para todas as variáveis categóricas, como também para número de produtos e tenure, com porcentagem relativa de churn sempre próxima de 40%, que é de fato a frequência de churn relativa do país. Ou seja, nenhuma das variáveis comentadas apresenta uma grande variação na frequência de churn.\n",
    "\n",
    "Tratando das variáveis contínuas, `Age` apresenta uma densidade de probabilidade de churn entre 45 e 60 anos de aproximadamente 40%. Entretanto, o grande diferencial á para a variável `Balance`, a qual apresenta uma densidade de probabilidade entre 100k e 150k de 79% quando o país é Alemanha, significativamente superior aos demais."
   ]
  },
  {
   "cell_type": "code",
   "execution_count": 101,
   "metadata": {},
   "outputs": [
    {
     "data": {
      "text/plain": [
       "France     5014\n",
       "Germany    2509\n",
       "Spain      2477\n",
       "Name: Geography, dtype: int64"
      ]
     },
     "execution_count": 101,
     "metadata": {},
     "output_type": "execute_result"
    }
   ],
   "source": [
    "# número de clientes por país\n",
    "churn['Geography'].value_counts()"
   ]
  },
  {
   "cell_type": "code",
   "execution_count": 102,
   "metadata": {},
   "outputs": [
    {
     "data": {
      "text/plain": [
       "Germany    814\n",
       "France     810\n",
       "Spain      413\n",
       "Name: Geography, dtype: int64"
      ]
     },
     "execution_count": 102,
     "metadata": {},
     "output_type": "execute_result"
    }
   ],
   "source": [
    "# contagem de churn por país\n",
    "churn.query('Exited==1')['Geography'].value_counts()"
   ]
  },
  {
   "cell_type": "code",
   "execution_count": 103,
   "metadata": {},
   "outputs": [
    {
     "name": "stdout",
     "output_type": "stream",
     "text": [
      "Taxa de churn (%) por gênero para Alemanha:\n",
      " Gender  Exited\n",
      "Female  1         21.99\n",
      "Male    1         17.97\n",
      "Name: Exited, dtype: float64\n"
     ]
    },
    {
     "data": {
      "image/png": "[encoded data removed]",
      "text/plain": [
       "<Figure size 432x288 with 1 Axes>"
      ]
     },
     "metadata": {},
     "output_type": "display_data"
    }
   ],
   "source": [
    "# gênero\n",
    "fig, ax=plt.subplots(figsize=(6,4))\n",
    "sns.countplot('Gender',hue='Geography',data=churn.query('Exited==1'),ax=ax)\n",
    "plt.title('Contagem de Churn por Gênero')\n",
    "plt.legend(bbox_to_anchor=(1.05,0.5))\n",
    "\n",
    "# porcentagem\n",
    "print('Taxa de churn (%) por gênero para Alemanha:\\n',\n",
    "round(churn.query('Exited==1 and Geography==\"Germany\"').groupby(['Gender'])['Exited'].value_counts()/\\\n",
    "        churn.query('Exited==1').shape[0]*100,2)\n",
    ")"
   ]
  },
  {
   "cell_type": "code",
   "execution_count": 104,
   "metadata": {},
   "outputs": [
    {
     "name": "stdout",
     "output_type": "stream",
     "text": [
      "Taxa de churn (%) para cartão de crédito para Alemanha:\n",
      " HasCrCard  Exited\n",
      "0          1         11.63\n",
      "1          1         28.33\n",
      "Name: Exited, dtype: float64\n"
     ]
    },
    {
     "data": {
      "image/png": "[encoded data removed]",
      "text/plain": [
       "<Figure size 432x288 with 1 Axes>"
      ]
     },
     "metadata": {},
     "output_type": "display_data"
    }
   ],
   "source": [
    "# membro ativo\n",
    "fig, ax=plt.subplots(figsize=(6,4))\n",
    "sns.countplot('HasCrCard',hue='Geography',data=churn.query('Exited==1'),ax=ax)\n",
    "plt.title('Contagem de Churn por Cartão de Crédito')\n",
    "plt.legend(bbox_to_anchor=(1.05,0.5))\n",
    "\n",
    "# porcentagem\n",
    "print('Taxa de churn (%) para cartão de crédito para Alemanha:\\n',\n",
    "round(churn.query('Exited==1 and Geography==\"Germany\"').groupby(['HasCrCard'])['Exited'].value_counts()/\\\n",
    "        churn.query('Exited==1').shape[0]*100,2)\n",
    ")"
   ]
  },
  {
   "cell_type": "code",
   "execution_count": 105,
   "metadata": {},
   "outputs": [
    {
     "name": "stdout",
     "output_type": "stream",
     "text": [
      "Taxa de churn (%) para membro ativo para Alemanha:\n",
      " IsActiveMember  Exited\n",
      "0               1         25.43\n",
      "1               1         14.53\n",
      "Name: Exited, dtype: float64\n"
     ]
    },
    {
     "data": {
      "image/png": "[encoded data removed]",
      "text/plain": [
       "<Figure size 432x288 with 1 Axes>"
      ]
     },
     "metadata": {},
     "output_type": "display_data"
    }
   ],
   "source": [
    "# membro ativo\n",
    "fig, ax=plt.subplots(figsize=(6,4))\n",
    "sns.countplot('IsActiveMember',hue='Geography',data=churn.query('Exited==1'),ax=ax)\n",
    "plt.title('Contagem de Churn por Membro Ativo')\n",
    "plt.legend(bbox_to_anchor=(1.05,0.5))\n",
    "\n",
    "# porcentagem\n",
    "print('Taxa de churn (%) para membro ativo para Alemanha:\\n',\n",
    "round(churn.query('Exited==1 and Geography==\"Germany\"').groupby(['IsActiveMember'])['Exited'].value_counts()/\\\n",
    "        churn.query('Exited==1').shape[0]*100,2)\n",
    ")"
   ]
  },
  {
   "cell_type": "code",
   "execution_count": 106,
   "metadata": {},
   "outputs": [
    {
     "name": "stdout",
     "output_type": "stream",
     "text": [
      "Taxa de churn (%) por número de produtos para Alemanha:\n",
      " NumOfProducts  Exited\n",
      "1              1         28.38\n",
      "2              1          6.19\n",
      "3              1          4.22\n",
      "4              1          1.18\n",
      "Name: Exited, dtype: float64\n"
     ]
    },
    {
     "data": {
      "image/png": "[encoded data removed]",
      "text/plain": [
       "<Figure size 432x288 with 1 Axes>"
      ]
     },
     "metadata": {},
     "output_type": "display_data"
    }
   ],
   "source": [
    "# número de produtos\n",
    "fig, ax=plt.subplots(figsize=(6,4))\n",
    "sns.countplot('NumOfProducts',hue='Geography',data=churn.query('Exited==1'),ax=ax)\n",
    "plt.title('Contagem de Churn por Número de Produtos')\n",
    "\n",
    "# porcentagem\n",
    "print('Taxa de churn (%) por número de produtos para Alemanha:\\n',\n",
    "round(churn.query('Exited==1 and Geography==\"Germany\"').groupby(['NumOfProducts'])['Exited'].value_counts()/\\\n",
    "        churn.query('Exited==1').shape[0]*100,2)\n",
    ")"
   ]
  },
  {
   "cell_type": "code",
   "execution_count": 107,
   "metadata": {},
   "outputs": [
    {
     "name": "stdout",
     "output_type": "stream",
     "text": [
      "Variação da taxa de churn (%) por ano:\n",
      " Tenure  Exited\n",
      "0       1         1.77\n",
      "1       1         5.15\n",
      "2       1         3.14\n",
      "3       1         4.12\n",
      "4       1         3.73\n",
      "5       1         4.42\n",
      "6       1         3.73\n",
      "7       1         2.99\n",
      "8       1         4.27\n",
      "9       1         4.57\n",
      "10      1         2.06\n",
      "Name: Exited, dtype: float64\n"
     ]
    },
    {
     "data": {
      "image/png": "[encoded data removed]",
      "text/plain": [
       "<Figure size 1008x288 with 1 Axes>"
      ]
     },
     "metadata": {},
     "output_type": "display_data"
    }
   ],
   "source": [
    "# tenure\n",
    "fig, ax=plt.subplots(figsize=(14,4))\n",
    "sns.countplot('Tenure',hue='Geography',data=churn.query('Exited==1'),ax=ax)\n",
    "plt.title('Contagem de Churn por Número de Produtos')\n",
    "plt.legend(loc=2)\n",
    "\n",
    "print('Variação da taxa de churn (%) por ano:\\n',\n",
    "round(churn.query('Exited==1 and Geography==\"Germany\"').groupby(['Tenure'])['Exited'].value_counts()/\\\n",
    "        churn.query('Exited==1').shape[0]*100,2)\n",
    ")"
   ]
  },
  {
   "cell_type": "markdown",
   "metadata": {},
   "source": [
    "Analisando o KDE plot de churn por países abaixo, nota-se que a densidade de probabilidade para Alemanha é superior entre 45 e 60 anos, como demonstrado abaixo com o integração da densidade de probabilidade para o intervalo mencionado."
   ]
  },
  {
   "cell_type": "code",
   "execution_count": 108,
   "metadata": {},
   "outputs": [
    {
     "data": {
      "image/png": "[encoded data removed]",
      "text/plain": [
       "<Figure size 432x288 with 1 Axes>"
      ]
     },
     "metadata": {},
     "output_type": "display_data"
    }
   ],
   "source": [
    "sns.kdeplot('Age',hue='Geography',data=churn.query('Exited==1'));"
   ]
  },
  {
   "cell_type": "code",
   "execution_count": 109,
   "metadata": {},
   "outputs": [
    {
     "name": "stdout",
     "output_type": "stream",
     "text": [
      "Densidade de probabilidade por intervalo:\n",
      "[45-60]: Alemanha: 0.4378 Demais países: 0.4215\n"
     ]
    }
   ],
   "source": [
    "# densidade de probabilidade para churn=1\n",
    "print('Densidade de probabilidade por intervalo:')\n",
    "print('[45-60]: Alemanha:',\n",
    "      calculate_probability(churn_1.query('Geography==\"Germany\"'), 'Age', 300, 45, 60),\n",
    "      'Demais países:',\n",
    "      calculate_probability(churn_1.query('Geography!=\"Germany\"'), 'Age', 300, 45, 60)\n",
    ")"
   ]
  },
  {
   "cell_type": "code",
   "execution_count": 110,
   "metadata": {},
   "outputs": [
    {
     "name": "stdout",
     "output_type": "stream",
     "text": [
      "De um total de 1876 clientes no range, 929 clientes tiveram evasão, onde 380 (40.9%) são da Alemanha.\n"
     ]
    }
   ],
   "source": [
    "# Taxa de churn para o range de idade com maior probabilidade\n",
    "print('De um total de {} clientes no range, {} clientes tiveram evasão, onde {} ({}%) são da Alemanha.'.format(\n",
    "    churn.query('45<=Age<=60').shape[0],\n",
    "    churn.query('45<=Age<=60 and Exited==1').shape[0],\n",
    "    churn.query('Geography==\"Germany\" and 45<=Age<=60 and Exited==1').shape[0],\n",
    "round(churn.query('Geography==\"Germany\" and 45<=Age<=60 and Exited==1').shape[0]/\\\n",
    "    churn.query('45<=Age<=60 and Exited==1').shape[0]*100,2))\n",
    "     )"
   ]
  },
  {
   "cell_type": "markdown",
   "metadata": {},
   "source": [
    "Analisando a relação entre as variáveis `Geography` e `Balance`, nota-se que não existem clientes sem saldo na Alemanha, enquanto o comportamento bimodal segue nos demais países. Ademais, nota-se que a densidade de probabilidade de churn aparenta ser maior para clientes da Alemanha entre 100k e 150k:"
   ]
  },
  {
   "cell_type": "code",
   "execution_count": 111,
   "metadata": {},
   "outputs": [
    {
     "data": {
      "image/png": "[encoded data removed]",
      "text/plain": [
       "<Figure size 1143.97x216 with 3 Axes>"
      ]
     },
     "metadata": {},
     "output_type": "display_data"
    }
   ],
   "source": [
    "sns.FacetGrid(col='Geography',hue='Exited',height=3,aspect=1.7,\n",
    "               data=churn,sharey=False).map_dataframe(sns.kdeplot,'Balance').add_legend();"
   ]
  },
  {
   "cell_type": "code",
   "execution_count": 112,
   "metadata": {},
   "outputs": [
    {
     "data": {
      "image/png": "[encoded data removed]",
      "text/plain": [
       "<Figure size 1143.97x216 with 3 Axes>"
      ]
     },
     "metadata": {},
     "output_type": "display_data"
    }
   ],
   "source": [
    "sns.FacetGrid(col='Geography',hue='Exited',height=3,aspect=1.7,\n",
    "               data=churn.query('Balance>0.005'),\n",
    "              sharey=False).map_dataframe(sns.kdeplot,'Balance').add_legend();"
   ]
  },
  {
   "cell_type": "markdown",
   "metadata": {},
   "source": [
    "Como comentado, nota-se que a densidade de probabilidade de churn para clientes com `Balance`$\\ge$100k e $\\le$150k é muito superior quando o país é a Alemanha, comportamento oposto ao ocorrido nos demais países:"
   ]
  },
  {
   "cell_type": "code",
   "execution_count": 113,
   "metadata": {},
   "outputs": [
    {
     "name": "stdout",
     "output_type": "stream",
     "text": [
      "[100k-150k]: Alemanha 0.7936 Demais países: 0.2788\n"
     ]
    }
   ],
   "source": [
    "# densidade de probabilidade para churn=1\n",
    "print('[100k-150k]: Alemanha',\n",
    "     calculate_probability(churn_1.query('Geography==\"Germany\"'), 'Balance', 100000, 100000, 150000),\n",
    "    'Demais países:',\n",
    "      calculate_probability(churn_1.query('Geography!=\"Germany\"'), 'Balance', 100000, 100000, 150000)\n",
    ")"
   ]
  },
  {
   "cell_type": "code",
   "execution_count": 114,
   "metadata": {},
   "outputs": [
    {
     "name": "stdout",
     "output_type": "stream",
     "text": [
      "De um total de 3830 clientes no range, 987 clientes tiveram evasão, onde 646 (65.45%) são da Alemanha.\n"
     ]
    }
   ],
   "source": [
    "# Taxa de churn para o range com maior probabilidade\n",
    "print('De um total de {} clientes no range, {} clientes tiveram evasão, onde {} ({}%) são da Alemanha.'.format(\n",
    "    churn.query('100000<=Balance<=150000').shape[0],\n",
    "    churn.query('100000<=Balance<=150000 and Exited==1').shape[0],\n",
    "    churn.query('Geography==\"Germany\" and 100000<=Balance<=150000 and Exited==1').shape[0],\n",
    "round(churn.query('Geography==\"Germany\" and 100000<=Balance<=150000 and Exited==1').shape[0]/\\\n",
    "    churn.query('100000<=Balance<=150000 and Exited==1').shape[0]*100,2))\n",
    "     )"
   ]
  },
  {
   "cell_type": "markdown",
   "metadata": {},
   "source": [
    "Aplicando um teste de associação point biserial entre a variável dependente e a segmentação para `Geography`=Germany e `Balance`$\\ge$100k e $\\le$150k, o resultado é uma associação ainda fraca, porém estatisticamente relevante. Pode-se, portanto, utilizar o arranjo criado como variável independente para o modelo de aprendizado de máquina."
   ]
  },
  {
   "cell_type": "code",
   "execution_count": 115,
   "metadata": {},
   "outputs": [],
   "source": [
    "# criação dos arranjos\n",
    "germany_balance = np.zeros(churn.shape[0])\n",
    "geography = np.array(churn['Geography'])\n",
    "balance = np.array(churn['Balance'])"
   ]
  },
  {
   "cell_type": "code",
   "execution_count": 116,
   "metadata": {},
   "outputs": [],
   "source": [
    "# valor 1 se Germany e 100k<=Balance<=150k\n",
    "for i in range(germany_balance.shape[0]):\n",
    "    if (geography[i]=='Germany') and (100000<=balance[i]<=150000):\n",
    "        germany_balance[i]=1\n",
    "    else:\n",
    "        germany_balance[i]=germany_balance[i]"
   ]
  },
  {
   "cell_type": "code",
   "execution_count": 117,
   "metadata": {},
   "outputs": [
    {
     "data": {
      "text/plain": [
       "(0.2069250834957893, 3.774304003573907e-97)"
      ]
     },
     "execution_count": 117,
     "metadata": {},
     "output_type": "execute_result"
    }
   ],
   "source": [
    "corr, p_value = pb(churn['Exited'], germany_balance)\n",
    "corr, p_value"
   ]
  },
  {
   "cell_type": "markdown",
   "metadata": {},
   "source": [
    "#### 2) Principais fatores levando a churn?\n",
    "\n",
    "Visando identificar os principais fatores que levaram os clientes ao churn, foram considerados modelos interpretáveis: Regressão Logística e Árvore de Decisão."
   ]
  },
  {
   "cell_type": "markdown",
   "metadata": {},
   "source": [
    "# 2 - Engenharia de Atributos"
   ]
  },
  {
   "cell_type": "markdown",
   "metadata": {},
   "source": [
    "## - Importância dos atributos"
   ]
  },
  {
   "cell_type": "markdown",
   "metadata": {},
   "source": [
    "Dentre as variáveis independentes, as que apresentaram maior associação/correlação com a variável responsta `Exited` foram:\n",
    "\n",
    "- `Geography`\n",
    "- `Gender`\n",
    "- `IsActiveMember`\n",
    "- `Age`\n",
    "- `Balance`\n",
    "\n",
    "Importante observar que algumas variáveis apresentaram associação fraca (0.1 < associação < 0.3), mas ainda assim foram consideradas para o modelo de aprendizado de máquina."
   ]
  },
  {
   "cell_type": "markdown",
   "metadata": {},
   "source": [
    "## - Seleção de atributos"
   ]
  },
  {
   "cell_type": "markdown",
   "metadata": {},
   "source": [
    "- Selecionar variáveis que apresentaram maior associação/correlação com a variável dependente `Exited`:"
   ]
  },
  {
   "cell_type": "code",
   "execution_count": 122,
   "metadata": {},
   "outputs": [],
   "source": [
    "df = churn[['Geography','Gender','IsActiveMember','Age','Balance','Exited']]"
   ]
  },
  {
   "cell_type": "markdown",
   "metadata": {},
   "source": [
    "## - Criação de atributos"
   ]
  },
  {
   "cell_type": "markdown",
   "metadata": {},
   "source": [
    "Criação de atributos em função de sua associação/correlação com a variável resposta."
   ]
  },
  {
   "cell_type": "markdown",
   "metadata": {},
   "source": [
    "- `Germany_Balance`"
   ]
  },
  {
   "cell_type": "markdown",
   "metadata": {},
   "source": [
    "Criar variável apresentada anteriormente na análise bivariada entre `Geography`, `Balance` e `Exited`"
   ]
  },
  {
   "cell_type": "code",
   "execution_count": 123,
   "metadata": {},
   "outputs": [],
   "source": [
    "df['Germany_Balance'] = germany_balance.astype(int)"
   ]
  },
  {
   "cell_type": "code",
   "execution_count": 125,
   "metadata": {},
   "outputs": [],
   "source": [
    "df = df[['Geography','Gender','IsActiveMember','Age','Germany_Balance','Exited']]"
   ]
  },
  {
   "cell_type": "code",
   "execution_count": 126,
   "metadata": {},
   "outputs": [
    {
     "data": {
      "text/html": [
       "<div>\n",
       "<style scoped>\n",
       "    .dataframe tbody tr th:only-of-type {\n",
       "        vertical-align: middle;\n",
       "    }\n",
       "\n",
       "    .dataframe tbody tr th {\n",
       "        vertical-align: top;\n",
       "    }\n",
       "\n",
       "    .dataframe thead th {\n",
       "        text-align: right;\n",
       "    }\n",
       "</style>\n",
       "<table border=\"1\" class=\"dataframe\">\n",
       "  <thead>\n",
       "    <tr style=\"text-align: right;\">\n",
       "      <th></th>\n",
       "      <th>Geography</th>\n",
       "      <th>Gender</th>\n",
       "      <th>IsActiveMember</th>\n",
       "      <th>Age</th>\n",
       "      <th>Germany_Balance</th>\n",
       "      <th>Exited</th>\n",
       "    </tr>\n",
       "    <tr>\n",
       "      <th>CustomerId</th>\n",
       "      <th></th>\n",
       "      <th></th>\n",
       "      <th></th>\n",
       "      <th></th>\n",
       "      <th></th>\n",
       "      <th></th>\n",
       "    </tr>\n",
       "  </thead>\n",
       "  <tbody>\n",
       "    <tr>\n",
       "      <th>15634602</th>\n",
       "      <td>France</td>\n",
       "      <td>Female</td>\n",
       "      <td>1</td>\n",
       "      <td>42</td>\n",
       "      <td>0</td>\n",
       "      <td>1</td>\n",
       "    </tr>\n",
       "    <tr>\n",
       "      <th>15647311</th>\n",
       "      <td>Spain</td>\n",
       "      <td>Female</td>\n",
       "      <td>1</td>\n",
       "      <td>41</td>\n",
       "      <td>0</td>\n",
       "      <td>0</td>\n",
       "    </tr>\n",
       "    <tr>\n",
       "      <th>15619304</th>\n",
       "      <td>France</td>\n",
       "      <td>Female</td>\n",
       "      <td>0</td>\n",
       "      <td>42</td>\n",
       "      <td>0</td>\n",
       "      <td>1</td>\n",
       "    </tr>\n",
       "    <tr>\n",
       "      <th>15701354</th>\n",
       "      <td>France</td>\n",
       "      <td>Female</td>\n",
       "      <td>0</td>\n",
       "      <td>39</td>\n",
       "      <td>0</td>\n",
       "      <td>0</td>\n",
       "    </tr>\n",
       "    <tr>\n",
       "      <th>15737888</th>\n",
       "      <td>Spain</td>\n",
       "      <td>Female</td>\n",
       "      <td>1</td>\n",
       "      <td>43</td>\n",
       "      <td>0</td>\n",
       "      <td>0</td>\n",
       "    </tr>\n",
       "  </tbody>\n",
       "</table>\n",
       "</div>"
      ],
      "text/plain": [
       "           Geography  Gender  IsActiveMember  Age  Germany_Balance  Exited\n",
       "CustomerId                                                                \n",
       "15634602      France  Female               1   42                0       1\n",
       "15647311       Spain  Female               1   41                0       0\n",
       "15619304      France  Female               0   42                0       1\n",
       "15701354      France  Female               0   39                0       0\n",
       "15737888       Spain  Female               1   43                0       0"
      ]
     },
     "execution_count": 126,
     "metadata": {},
     "output_type": "execute_result"
    }
   ],
   "source": [
    "df.head()"
   ]
  },
  {
   "cell_type": "markdown",
   "metadata": {},
   "source": [
    "# 3 - Exportar df"
   ]
  },
  {
   "cell_type": "markdown",
   "metadata": {},
   "source": [
    "Exportar df para ser utilizado no modelo de aprendizado de máquina."
   ]
  },
  {
   "cell_type": "code",
   "execution_count": 127,
   "metadata": {},
   "outputs": [],
   "source": [
    "df.to_csv('churn_preprocessing.csv', header=True, index=True)"
   ]
  },
  {
   "cell_type": "code",
   "execution_count": 128,
   "metadata": {},
   "outputs": [
    {
     "data": {
      "text/plain": [
       "['.ipynb_checkpoints',\n",
       " 'Churn - Preprocessamento.ipynb',\n",
       " 'Churn Modelo.ipynb',\n",
       " 'churn.csv',\n",
       " 'churn_preprocessing.csv']"
      ]
     },
     "execution_count": 128,
     "metadata": {},
     "output_type": "execute_result"
    }
   ],
   "source": [
    "import os\n",
    "\n",
    "files = os.listdir('.')\n",
    "files"
   ]
  },
  {
   "cell_type": "code",
   "execution_count": null,
   "metadata": {},
   "outputs": [],
   "source": []
  }
 ],
 "metadata": {
  "kernelspec": {
   "display_name": "Python 3",
   "language": "python",
   "name": "python3"
  },
  "language_info": {
   "codemirror_mode": {
    "name": "ipython",
    "version": 3
   },
   "file_extension": ".py",
   "mimetype": "text/x-python",
   "name": "python",
   "nbconvert_exporter": "python",
   "pygments_lexer": "ipython3",
   "version": "3.8.3"
  }
 },
 "nbformat": 4,
 "nbformat_minor": 4
}
