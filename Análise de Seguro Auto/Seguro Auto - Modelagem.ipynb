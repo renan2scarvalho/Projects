{
 "cells": [
  {
   "cell_type": "markdown",
   "metadata": {},
   "source": [
    "# Seguro Auto - Modelagem\n",
    "___\n",
    "Uma seguradora que fornece seguro saúde para seus clientes tem interesse na construção de um modelo para prever se seus clientes do ano passado também estarão interessados no seguro auto fornecido pela empresa.\n",
    "\n",
    "Uma apólice de seguro é um acordo pelo qual uma empresa se compromete a fornecer uma garantia de compensação por perdas, danos, doenças ou morte especificados em troca do pagamento de um prêmio especificado - uma quantia em dinheiro, que o cliente precisa pagar regularmente a uma seguradora por essa garantia.\n",
    "\n",
    "Assim como o seguro de saúde, existe o seguro auto em que todos os anos o cliente paga um prêmio de determinado valor à seguradora para que, em caso de acidente com o veículo, a seguradora forneça uma indenização para o consumidor.\n",
    "\n",
    "### Problema de Negócio\n",
    "___\n",
    "O problema de negócio consiste basicamente em prever quais clientes do ano anterior estarão interessados no seguro auto oferecido pela empresa, para que assim o time de vendas possa priorizar as pessoas com maior interesse no produto oferecido, otimizando assim a campanha voltada para os principais clientes.\n",
    "Nesse contexto, o notebook visa implementar um algoritmo de aprendizado de máquina com o objetivo de prever se um cliente terá ou não interesse no seguro auto da empresa baseando-se em determinados atributos presentes.\n",
    "\n",
    "### Os dados\n",
    "___\n",
    "O [dataset](https://www.kaggle.com/anmolkumar/health-insurance-cross-sell-prediction) apresenta dados de treinamento para um modelo de previsão de seguros auto, com 381109 instâncias e 11 variáveis, dentre as quais foram escolhidas durante o pré-processamento:\n",
    "- `id` $\\to$ id único do cliente\n",
    "- `Age` $\\to$ idade do cliente\n",
    "- `Previously_Insured`$\\to$ cliente possui (1) ou não (0) seguro\n",
    "- `Vehicle_Age` $\\to$ idade do veículo\n",
    "- `Vehicle_Damage`$\\to$ veículo danificado (1) ou não (0) no passado\n",
    "- `Policy_Sales_Channel`$\\to$ canal de atendimento ao cliente\n",
    "- `Response`$\\to$ cliente interessado (1) ou não (0) no seguro"
   ]
  },
  {
   "cell_type": "markdown",
   "metadata": {},
   "source": [
    "# 1. Importar df"
   ]
  },
  {
   "cell_type": "code",
   "execution_count": 1,
   "metadata": {},
   "outputs": [],
   "source": [
    "%matplotlib inline\n",
    "\n",
    "import pandas as pd\n",
    "import numpy as np\n",
    "import matplotlib.pyplot as plt\n",
    "import warnings as wn\n",
    "\n",
    "plt.style.use('ggplot')\n",
    "\n",
    "wn.filterwarnings('ignore')"
   ]
  },
  {
   "cell_type": "code",
   "execution_count": 2,
   "metadata": {},
   "outputs": [],
   "source": [
    "df = pd.read_csv('train_pp.csv', index_col='id')"
   ]
  },
  {
   "cell_type": "code",
   "execution_count": 3,
   "metadata": {},
   "outputs": [
    {
     "data": {
      "text/html": [
       "<div>\n",
       "<style scoped>\n",
       "    .dataframe tbody tr th:only-of-type {\n",
       "        vertical-align: middle;\n",
       "    }\n",
       "\n",
       "    .dataframe tbody tr th {\n",
       "        vertical-align: top;\n",
       "    }\n",
       "\n",
       "    .dataframe thead th {\n",
       "        text-align: right;\n",
       "    }\n",
       "</style>\n",
       "<table border=\"1\" class=\"dataframe\">\n",
       "  <thead>\n",
       "    <tr style=\"text-align: right;\">\n",
       "      <th></th>\n",
       "      <th>Age</th>\n",
       "      <th>Previously_Insured</th>\n",
       "      <th>Vehicle_Age</th>\n",
       "      <th>Vehicle_Damage</th>\n",
       "      <th>Policy_Sales_Channel</th>\n",
       "      <th>Response</th>\n",
       "    </tr>\n",
       "    <tr>\n",
       "      <th>id</th>\n",
       "      <th></th>\n",
       "      <th></th>\n",
       "      <th></th>\n",
       "      <th></th>\n",
       "      <th></th>\n",
       "      <th></th>\n",
       "    </tr>\n",
       "  </thead>\n",
       "  <tbody>\n",
       "    <tr>\n",
       "      <th>1</th>\n",
       "      <td>44</td>\n",
       "      <td>0</td>\n",
       "      <td>2</td>\n",
       "      <td>1</td>\n",
       "      <td>26.0</td>\n",
       "      <td>1</td>\n",
       "    </tr>\n",
       "    <tr>\n",
       "      <th>2</th>\n",
       "      <td>76</td>\n",
       "      <td>0</td>\n",
       "      <td>1</td>\n",
       "      <td>0</td>\n",
       "      <td>26.0</td>\n",
       "      <td>0</td>\n",
       "    </tr>\n",
       "    <tr>\n",
       "      <th>3</th>\n",
       "      <td>47</td>\n",
       "      <td>0</td>\n",
       "      <td>2</td>\n",
       "      <td>1</td>\n",
       "      <td>26.0</td>\n",
       "      <td>1</td>\n",
       "    </tr>\n",
       "    <tr>\n",
       "      <th>4</th>\n",
       "      <td>21</td>\n",
       "      <td>1</td>\n",
       "      <td>0</td>\n",
       "      <td>0</td>\n",
       "      <td>152.0</td>\n",
       "      <td>0</td>\n",
       "    </tr>\n",
       "    <tr>\n",
       "      <th>5</th>\n",
       "      <td>29</td>\n",
       "      <td>1</td>\n",
       "      <td>0</td>\n",
       "      <td>0</td>\n",
       "      <td>152.0</td>\n",
       "      <td>0</td>\n",
       "    </tr>\n",
       "  </tbody>\n",
       "</table>\n",
       "</div>"
      ],
      "text/plain": [
       "    Age  Previously_Insured  Vehicle_Age  Vehicle_Damage  \\\n",
       "id                                                         \n",
       "1    44                   0            2               1   \n",
       "2    76                   0            1               0   \n",
       "3    47                   0            2               1   \n",
       "4    21                   1            0               0   \n",
       "5    29                   1            0               0   \n",
       "\n",
       "    Policy_Sales_Channel  Response  \n",
       "id                                  \n",
       "1                   26.0         1  \n",
       "2                   26.0         0  \n",
       "3                   26.0         1  \n",
       "4                  152.0         0  \n",
       "5                  152.0         0  "
      ]
     },
     "execution_count": 3,
     "metadata": {},
     "output_type": "execute_result"
    }
   ],
   "source": [
    "df.head()"
   ]
  },
  {
   "cell_type": "code",
   "execution_count": 4,
   "metadata": {},
   "outputs": [
    {
     "data": {
      "text/plain": [
       "(370789, 6)"
      ]
     },
     "execution_count": 4,
     "metadata": {},
     "output_type": "execute_result"
    }
   ],
   "source": [
    "df.shape"
   ]
  },
  {
   "cell_type": "code",
   "execution_count": 5,
   "metadata": {},
   "outputs": [
    {
     "data": {
      "text/plain": [
       "0.8782191488960028"
      ]
     },
     "execution_count": 5,
     "metadata": {},
     "output_type": "execute_result"
    }
   ],
   "source": [
    "df.query('Response==0').shape[0]/df.shape[0]"
   ]
  },
  {
   "cell_type": "code",
   "execution_count": 6,
   "metadata": {},
   "outputs": [
    {
     "data": {
      "text/plain": [
       "0.12178085110399715"
      ]
     },
     "execution_count": 6,
     "metadata": {},
     "output_type": "execute_result"
    }
   ],
   "source": [
    "df.query('Response==1').shape[0]/df.shape[0]"
   ]
  },
  {
   "cell_type": "markdown",
   "metadata": {},
   "source": [
    "# 2. Pré-processamento"
   ]
  },
  {
   "cell_type": "markdown",
   "metadata": {},
   "source": [
    "- Split dataset em treino e teste"
   ]
  },
  {
   "cell_type": "code",
   "execution_count": 7,
   "metadata": {},
   "outputs": [],
   "source": [
    "from sklearn.model_selection import train_test_split"
   ]
  },
  {
   "cell_type": "code",
   "execution_count": 8,
   "metadata": {},
   "outputs": [],
   "source": [
    "X = df.drop(['Response'], axis=1)\n",
    "y = df['Response']\n",
    "indices = np.arange(X.shape[0])"
   ]
  },
  {
   "cell_type": "code",
   "execution_count": 9,
   "metadata": {},
   "outputs": [],
   "source": [
    "x_train, x_test, y_train, y_test, idx1, idx2 = train_test_split(X, y, indices, test_size=0.3)"
   ]
  },
  {
   "cell_type": "code",
   "execution_count": 10,
   "metadata": {},
   "outputs": [
    {
     "data": {
      "text/plain": [
       "((259552, 5), (111237, 5), (259552,), (111237,))"
      ]
     },
     "execution_count": 10,
     "metadata": {},
     "output_type": "execute_result"
    }
   ],
   "source": [
    "x_train.shape, x_test.shape, y_train.shape, y_test.shape"
   ]
  },
  {
   "cell_type": "code",
   "execution_count": 11,
   "metadata": {},
   "outputs": [],
   "source": [
    "idx1_df = df.iloc[idx1,:].index\n",
    "idx2_df = df.iloc[idx2,:].index"
   ]
  },
  {
   "cell_type": "markdown",
   "metadata": {},
   "source": [
    "# 3. Aprendizado de Máquina"
   ]
  },
  {
   "cell_type": "markdown",
   "metadata": {},
   "source": [
    "- Importar métricas"
   ]
  },
  {
   "cell_type": "code",
   "execution_count": 12,
   "metadata": {},
   "outputs": [],
   "source": [
    "from sklearn.model_selection import RandomizedSearchCV\n",
    "from sklearn.model_selection import cross_val_score, KFold\n",
    "from sklearn.metrics import f1_score, precision_score, recall_score, roc_auc_score\n",
    "from sklearn.metrics import confusion_matrix, plot_confusion_matrix, plot_roc_curve"
   ]
  },
  {
   "cell_type": "markdown",
   "metadata": {},
   "source": [
    "### Métricas\n",
    "___\n",
    "As métricas de avaliação dos modelos foram:\n",
    "\n",
    "- Precision: de todos os clientes que o modelo previu que permaneceriam, quantos deles realmente permaneceram?\n",
    "$$ Precision = \\frac{TP}{(TP+FP)} $$\n",
    "\n",
    "\n",
    "- Recall: % de clientes previstos que permaneceriam que o modelo previu corretamente?\n",
    "$$ Recall = \\frac{TP}{(TP+FN)}$$\n",
    "\n",
    "\n",
    "- F1: medida relativa de precision e recall (média harmônica):\n",
    "$$ F_1 = \\frac{TP}{(TP + \\frac{1}{2}(FP+FN))}$$\n",
    "\n",
    "\n",
    "- ROC-AUC: relação entre taxas de TP e FP, sendo que a AUC (área sob a curva) sumariza a ROC em um único número (quão mais próxima de 1, melhor o classificador em relação á taxa de falsos positivos).\n",
    "\n",
    "onde TP$\\to$true positive, FP$\\to$false positive (erro tipo I), e FN$\\to$false negative (erro tipo II).\n",
    "\n"
   ]
  },
  {
   "cell_type": "markdown",
   "metadata": {},
   "source": [
    "### Avaliação em função do problema de negócio\n",
    "___\n",
    "\n",
    "Nesse contexto, temos que:\n",
    "- TP $\\to$ previsão de que o cliente manteria o seguro, o que ocorre $\\to$ ganho monetário, pois cliente permanece\n",
    "- TN $\\to$ previsão de que o cliente cancelaria o seguro, o que ocorre $\\to$ perda monetária, pois cliente cancela seguro\n",
    "- FP $\\to$ previsão de que o cliente manteria o seguro, o que não ocorre $\\to$ perda monetária, pois o cliente cancela o seguro\n",
    "- FN $\\to$ previsão de que o cliente cancelaria o seguro, o que não ocorre $\\to$ ganho monetário, pois o cliente permanece\n",
    "\n",
    "Baseando-se nas métricas, procuramos um modelo que apresente um baixo valor de FP i.e. clientes que manteriam o seguro, mas que na realidade o cancelaram, pois gera perda monetária, bem como uma alta taxa de TP, os seja, retenção clientes $\\to$ e.g. boa performance de ROC-AUC i.e. baixa taxa de falsos positivos, e alta taxa de verdadeiros positivos.\n",
    "\n",
    "Considerando os valores de prêmio anuais da base de dados pré-processada, a média é aproximadamente \\\\$30k, valor muito acima da média de mercado. No projeto, foram considerados um prêmio médio nos EUA de \\\\$1427 (*customer lifetime value*) [[1]](https://www.nerdwallet.com/blog/insurance/car-insurance-basics/how-much-is-car-insurance/#:~:text=The%20national%20average%20cost%20of,and%20a%20clean%20driving%20record.), e um custo de campanha de marketing de 3.3% em relação ao prêmio médio, ou seja, \\\\$42.8 [[2]](https://www.iamagazine.com/viewpoints/student-of-the-industry-insurance-ads-who-spends-what-and-why). \n",
    "\n",
    "Aplicando, portanto, uma campanha de marketing aplicada aos clientes com maior probabilidade de permanecer, é possível elaborar uma matriz de custo-benefício em função da própria campanha, onde caso a campanha de marketing consiga manter o cliente, a receita seria do número $n$ de clientes multiplicado pelo LTV menos o custo com marketing $\\to n*(LTV-marketing)$, e caso a campanha seja aplicada a clientes que de fato sairiam (FP), a receita seria $\\to k*marketing$:\n",
    "\n",
    "- TP - benefício $\\to$ \\\\$1384.2 $\\to$ previu que o cliente continuaria, e aplicou campanha de marketing - retenção\n",
    "- TN - benefício $\\to$ \\\\$0 $\\to$ previu que o cliente sairia, e ele saiu, então não houve campanha de marketing\n",
    "- FP - custo $\\to$ \\\\$-42.8 $\\to$ previu que o cliente ficaria, mas o cliente saiu, e aplicou campanha de marketing - sem retenção\n",
    "- FN - custo $\\to$ \\\\$0 $\\to$ previu que o cliente sairia, mas ele permaneceu\n",
    "\n",
    "É importante denotar que a matriz de custo-benefício acima, como comentado, foi elaborada em função da campanha de marketing. Claramente, existe perda de receita devido ao TN i.e. para clientes que cancelam o seguro, onde a perda de receita seria o número $n$ de clientes multiplicado pelo LTV $\\to n*LTV$. \n",
    "\n",
    "É possível calcular também o retorno sobre o investimento (ROI) de marketing devido à retenção de clientes:\n",
    "\n",
    "$$ROI = \\frac{retorno}{investimento} \\to \\frac{retenção}{marketing}$$\n",
    "\n",
    "Outra análise de grande importância é a de valor esperado, a qual calcula o valor esperado de lucro para a campanha de marketing em função do resultado dos modelos de aprendizado de máquina, ou seja:\n",
    "\n",
    "$$EV = p(o_1)v(o_1) + p(o_2)v(o_2) + ...$$\n",
    "\n",
    "onde $p(o_i)$ é a probabilidade do evento, e $v(o_i)$ é seu valor. Considerando a matriz de custo-benefício apresentada acima, é juntamente com a equação de valor esperado, pode-se calcular o valor esperado de lucro em função das probabilidades de TP,TN,FP,FN, considerando as probabilidades de ocorrência de cada classe i.e. p(0) = 0.878, e p(1) = 0.122 [[3]](https://www.oreilly.com/library/view/data-science-for/9781449374273/):\n",
    "\n",
    "$$EV_{profit} = p(1)*[p(Y|1)b(Y,1) + p(N|1)c(N,1)] + $$\n",
    "$$p(0)*[p(N|0)b(N,0) + p(Y|0)c(Y,0)] $$\n",
    "\n",
    "onde:\n",
    "- p $\\to$ probabilidade\n",
    "- b e c $\\to$ benefício e custo\n",
    "- 0 e 1 $\\to$ cancelar ou manter o seguro\n",
    "- N e Y $\\to$ previsão de cancelar ou manter o seguro\n",
    "\n",
    "Pode-se, portanto, reescrever a equação de *EV* como aplicando-se os valores de custo e benefício, :\n",
    "\n",
    "$$EV_{profit} = 0.122*[1384.2p(Y|1) - 0p(N|1)] + 0.878*[0p(N|0) - 42.8p(Y|0)] \\to$$\n",
    "\n",
    "$$EV_{profit} = \\$168.9p(Y|1) - \\$37.6p(Y|0) $$\n",
    "\n",
    "Nota-se que, enquanto a retenção possui uma magnitude de \\\\$168.9xTP, a campanha de marketing aplicada a clientes que não iriam cancelar o seguro possui uma magnitude de \\\\$-37.6xFP. Busca-se, então, altos valores de TP e baixos valores de FP, visando obter um maior lucro esperado, ou seja, maximização da AUC como comentado acima, utilizando, portanto, *ROC-AUC* como métrica de otimização.\n"
   ]
  },
  {
   "cell_type": "code",
   "execution_count": 94,
   "metadata": {},
   "outputs": [
    {
     "data": {
      "text/html": [
       "<div>\n",
       "<style scoped>\n",
       "    .dataframe tbody tr th:only-of-type {\n",
       "        vertical-align: middle;\n",
       "    }\n",
       "\n",
       "    .dataframe tbody tr th {\n",
       "        vertical-align: top;\n",
       "    }\n",
       "\n",
       "    .dataframe thead th {\n",
       "        text-align: right;\n",
       "    }\n",
       "</style>\n",
       "<table border=\"1\" class=\"dataframe\">\n",
       "  <thead>\n",
       "    <tr style=\"text-align: right;\">\n",
       "      <th></th>\n",
       "      <th>Pred_0</th>\n",
       "      <th>Pred_1</th>\n",
       "    </tr>\n",
       "  </thead>\n",
       "  <tbody>\n",
       "    <tr>\n",
       "      <th>True_0</th>\n",
       "      <td>0.0</td>\n",
       "      <td>-42.8</td>\n",
       "    </tr>\n",
       "    <tr>\n",
       "      <th>True_1</th>\n",
       "      <td>0.0</td>\n",
       "      <td>1384.2</td>\n",
       "    </tr>\n",
       "  </tbody>\n",
       "</table>\n",
       "</div>"
      ],
      "text/plain": [
       "        Pred_0  Pred_1\n",
       "True_0     0.0   -42.8\n",
       "True_1     0.0  1384.2"
      ]
     },
     "execution_count": 94,
     "metadata": {},
     "output_type": "execute_result"
    }
   ],
   "source": [
    "# matriz de custo-benefício\n",
    "# tn, fp, fn, tp\n",
    "cb = np.array([[0,-42.8],[0,3184.2]])\n",
    "              \n",
    "pd.DataFrame(np.array([[0,-42.8],[0,1384.2]]), index=['True_0','True_1'], \n",
    "             columns=['Pred_0','Pred_1'])"
   ]
  },
  {
   "cell_type": "code",
   "execution_count": 14,
   "metadata": {},
   "outputs": [
    {
     "data": {
      "text/plain": [
       "(0.8782191488960028, 0.12178085110399715)"
      ]
     },
     "execution_count": 14,
     "metadata": {},
     "output_type": "execute_result"
    }
   ],
   "source": [
    "# probabilidade de continuar com seguro ou cancelá-lo\n",
    "p_0 = df.query('Response==0').shape[0]/df.shape[0]\n",
    "p_1 = df.query('Response==1').shape[0]/df.shape[0]\n",
    "p_0, p_1"
   ]
  },
  {
   "cell_type": "markdown",
   "metadata": {},
   "source": [
    "## 3.1. Baseline: Decision Stump\n",
    "___\n",
    "\n",
    "**Decision Stump** é uma estratégia na qual se escolhe o único e mais informativo atributo presente entre as os preditores e baser todas as decisões neste atributo. No presente caso, utiliza-se uma árvore de decisão com somente um nó interno, ou seja, o nó raiz (*root node*), onde a árvore de decisão seleciona um único atributo com maior ganho de informação para a decisão [[3]](https://www.oreilly.com/library/view/data-science-for/9781449374273/).\n",
    "\n",
    "Nota-se pela matriz de confusão abaixo que o modelo classificou todas as instâncias como classe majoritária, ou seja, entre 111237 instâncias, sendo que 97761 da Classe 0 (`Response`=0) e 13476 da Class 1 (`Response`=1), o modelo classificou corretamente todas as instâncias da Classe 0, e classificou incorretamente todas as instâncias da Classe 1, atribuindo-as à Classe 0 $\\to$ classificador majoritário com *ROC-AUC score* de 0.77 e, claramente, acurácia de 0.878."
   ]
  },
  {
   "cell_type": "code",
   "execution_count": 15,
   "metadata": {},
   "outputs": [],
   "source": [
    "from sklearn.tree import DecisionTreeClassifier"
   ]
  },
  {
   "cell_type": "code",
   "execution_count": 16,
   "metadata": {},
   "outputs": [
    {
     "data": {
      "text/plain": [
       "DecisionTreeClassifier(max_depth=1, random_state=42)"
      ]
     },
     "execution_count": 16,
     "metadata": {},
     "output_type": "execute_result"
    }
   ],
   "source": [
    "# baseline\n",
    "dt = DecisionTreeClassifier(max_depth=1, random_state=42)\n",
    "\n",
    "dt.fit(x_train, y_train)"
   ]
  },
  {
   "cell_type": "code",
   "execution_count": 17,
   "metadata": {},
   "outputs": [
    {
     "data": {
      "text/plain": [
       "0.8779358322709918"
      ]
     },
     "execution_count": 17,
     "metadata": {},
     "output_type": "execute_result"
    }
   ],
   "source": [
    "# avaliar modelo - acurácia\n",
    "kfold = KFold(n_splits=5, random_state=42)\n",
    "dt_results = cross_val_score(dt, x_train, y_train, cv=kfold)\n",
    "dt_results.mean()"
   ]
  },
  {
   "cell_type": "code",
   "execution_count": 18,
   "metadata": {},
   "outputs": [],
   "source": [
    "# predição\n",
    "dt_predict = dt.predict(x_test)\n",
    "dt_proba = dt.predict_proba(x_test)[:,1]"
   ]
  },
  {
   "cell_type": "code",
   "execution_count": 19,
   "metadata": {},
   "outputs": [
    {
     "name": "stdout",
     "output_type": "stream",
     "text": [
      "Precision: 0.0\n",
      "Recall: 0.0\n",
      "F1: 0.8222242637950347\n",
      "ROC-AUC: 0.7711730907409425\n"
     ]
    }
   ],
   "source": [
    "# métricas de comparação\n",
    "print('Precision:',precision_score(y_test, dt_predict))\n",
    "print('Recall:',recall_score(y_test, dt_predict))\n",
    "print('F1:',f1_score(y_test, dt_predict, average='weighted'))\n",
    "print('ROC-AUC:',roc_auc_score(y_test, dt_proba))"
   ]
  },
  {
   "cell_type": "code",
   "execution_count": 20,
   "metadata": {},
   "outputs": [
    {
     "data": {
      "text/html": [
       "<div>\n",
       "<style scoped>\n",
       "    .dataframe tbody tr th:only-of-type {\n",
       "        vertical-align: middle;\n",
       "    }\n",
       "\n",
       "    .dataframe tbody tr th {\n",
       "        vertical-align: top;\n",
       "    }\n",
       "\n",
       "    .dataframe thead th {\n",
       "        text-align: right;\n",
       "    }\n",
       "</style>\n",
       "<table border=\"1\" class=\"dataframe\">\n",
       "  <thead>\n",
       "    <tr style=\"text-align: right;\">\n",
       "      <th></th>\n",
       "      <th>0</th>\n",
       "      <th>1</th>\n",
       "    </tr>\n",
       "  </thead>\n",
       "  <tbody>\n",
       "    <tr>\n",
       "      <th>0</th>\n",
       "      <td>97764</td>\n",
       "      <td>0</td>\n",
       "    </tr>\n",
       "    <tr>\n",
       "      <th>1</th>\n",
       "      <td>13473</td>\n",
       "      <td>0</td>\n",
       "    </tr>\n",
       "  </tbody>\n",
       "</table>\n",
       "</div>"
      ],
      "text/plain": [
       "       0  1\n",
       "0  97764  0\n",
       "1  13473  0"
      ]
     },
     "execution_count": 20,
     "metadata": {},
     "output_type": "execute_result"
    }
   ],
   "source": [
    "# matriz de confusão\n",
    "pd.DataFrame(confusion_matrix(y_test, dt_predict))"
   ]
  },
  {
   "cell_type": "markdown",
   "metadata": {},
   "source": [
    "### 2.2 - Regressão Logística\n",
    "___\n",
    "A regressão logística é uma técnica estatística que tem como objetivo produzir, a partir de um conjunto de observações, um modelo que permita a predição de valores tomados por uma variável categórica, frequentemente binária, a partir de uma série de variáveis explicativas, sendo um modelo de fácil explicação e rápido. Mais em [[4]](https://github.com/renan2scarvalho/Applied-Data-Science-with-Python/blob/master/3%20Applied%20Machine%20Learning%20in%20Python/cesarian.ipynb)."
   ]
  },
  {
   "cell_type": "code",
   "execution_count": 21,
   "metadata": {},
   "outputs": [],
   "source": [
    "from sklearn.linear_model import LogisticRegression"
   ]
  },
  {
   "cell_type": "code",
   "execution_count": 22,
   "metadata": {},
   "outputs": [
    {
     "data": {
      "text/plain": [
       "LogisticRegression(class_weight='balanced', n_jobs=-1, random_state=42)"
      ]
     },
     "execution_count": 22,
     "metadata": {},
     "output_type": "execute_result"
    }
   ],
   "source": [
    "# modelo\n",
    "lr = LogisticRegression(class_weight='balanced',random_state=42,n_jobs=-1)\n",
    "\n",
    "lr.fit(x_train, y_train)"
   ]
  },
  {
   "cell_type": "code",
   "execution_count": 23,
   "metadata": {},
   "outputs": [
    {
     "data": {
      "text/plain": [
       "0.6388238181659412"
      ]
     },
     "execution_count": 23,
     "metadata": {},
     "output_type": "execute_result"
    }
   ],
   "source": [
    "# avaliar modelo\n",
    "kfold = KFold(n_splits=5, random_state=42)\n",
    "lr_results = cross_val_score(lr, x_train, y_train, cv=kfold)\n",
    "lr_results.mean()"
   ]
  },
  {
   "cell_type": "code",
   "execution_count": 24,
   "metadata": {},
   "outputs": [],
   "source": [
    "# predição\n",
    "lr_predict = lr.predict(x_test)\n",
    "lr_proba = lr.predict_proba(x_test)[:,1]"
   ]
  },
  {
   "cell_type": "code",
   "execution_count": 25,
   "metadata": {},
   "outputs": [
    {
     "name": "stdout",
     "output_type": "stream",
     "text": [
      "Precision: 0.24846915633504688\n",
      "Recall: 0.9758034587693907\n",
      "F1: 0.7011159672732866\n",
      "ROC-AUC: 0.8301416568253729\n"
     ]
    }
   ],
   "source": [
    "# métricas\n",
    "print('Precision:',precision_score(y_test, lr_predict))\n",
    "print('Recall:',recall_score(y_test, lr_predict))\n",
    "print('F1:',f1_score(y_test, lr_predict, average='weighted'))\n",
    "print('ROC-AUC:',roc_auc_score(y_test, lr_proba))"
   ]
  },
  {
   "cell_type": "code",
   "execution_count": 26,
   "metadata": {},
   "outputs": [
    {
     "data": {
      "text/html": [
       "<div>\n",
       "<style scoped>\n",
       "    .dataframe tbody tr th:only-of-type {\n",
       "        vertical-align: middle;\n",
       "    }\n",
       "\n",
       "    .dataframe tbody tr th {\n",
       "        vertical-align: top;\n",
       "    }\n",
       "\n",
       "    .dataframe thead th {\n",
       "        text-align: right;\n",
       "    }\n",
       "</style>\n",
       "<table border=\"1\" class=\"dataframe\">\n",
       "  <thead>\n",
       "    <tr style=\"text-align: right;\">\n",
       "      <th></th>\n",
       "      <th>0</th>\n",
       "      <th>1</th>\n",
       "    </tr>\n",
       "  </thead>\n",
       "  <tbody>\n",
       "    <tr>\n",
       "      <th>0</th>\n",
       "      <td>57999</td>\n",
       "      <td>39765</td>\n",
       "    </tr>\n",
       "    <tr>\n",
       "      <th>1</th>\n",
       "      <td>326</td>\n",
       "      <td>13147</td>\n",
       "    </tr>\n",
       "  </tbody>\n",
       "</table>\n",
       "</div>"
      ],
      "text/plain": [
       "       0      1\n",
       "0  57999  39765\n",
       "1    326  13147"
      ]
     },
     "execution_count": 26,
     "metadata": {},
     "output_type": "execute_result"
    }
   ],
   "source": [
    "# matriz de confusão\n",
    "pd.DataFrame(confusion_matrix(y_test, lr_predict))"
   ]
  },
  {
   "cell_type": "markdown",
   "metadata": {},
   "source": [
    "### 2.3. Random Forest\n",
    "___\n",
    "Random Forests é um conjunto de Árvores de Decisão com Bootstrap Aggregation (bagging), onde as árvores são executadas em paralelo, o que significa que não há interação entre elas. Mais em [[4]](https://github.com/renan2scarvalho/Applied-Data-Science-with-Python/blob/master/3%20Applied%20Machine%20Learning%20in%20Python/cesarian.ipynb)."
   ]
  },
  {
   "cell_type": "code",
   "execution_count": 27,
   "metadata": {},
   "outputs": [],
   "source": [
    "from sklearn.ensemble import RandomForestClassifier"
   ]
  },
  {
   "cell_type": "code",
   "execution_count": 28,
   "metadata": {},
   "outputs": [
    {
     "data": {
      "text/plain": [
       "RandomForestClassifier(class_weight='balanced', n_jobs=-1, random_state=42)"
      ]
     },
     "execution_count": 28,
     "metadata": {},
     "output_type": "execute_result"
    }
   ],
   "source": [
    "# classificador\n",
    "rfc = RandomForestClassifier(class_weight='balanced', random_state=42, n_jobs=-1)\n",
    "\n",
    "rfc.fit(x_train, y_train)"
   ]
  },
  {
   "cell_type": "code",
   "execution_count": 29,
   "metadata": {},
   "outputs": [
    {
     "data": {
      "text/plain": [
       "0.7167273006393019"
      ]
     },
     "execution_count": 29,
     "metadata": {},
     "output_type": "execute_result"
    }
   ],
   "source": [
    "# avaliar modelo\n",
    "kfold = KFold(n_splits=5, random_state=42)\n",
    "rfc_results = cross_val_score(rfc, x_train, y_train, cv=kfold)\n",
    "rfc_results.mean()"
   ]
  },
  {
   "cell_type": "code",
   "execution_count": 30,
   "metadata": {},
   "outputs": [],
   "source": [
    "# predição\n",
    "rfc_predict = rfc.predict(x_test)\n",
    "rfc_proba = rfc.predict_proba(x_test)[:,1]"
   ]
  },
  {
   "cell_type": "code",
   "execution_count": 31,
   "metadata": {},
   "outputs": [
    {
     "name": "stdout",
     "output_type": "stream",
     "text": [
      "Precision: 0.2813306499348881\n",
      "Recall: 0.8819119720923329\n",
      "F1: 0.7621983137009286\n",
      "ROC-AUC: 0.8412898159546032\n"
     ]
    }
   ],
   "source": [
    "# métricas\n",
    "print('Precision:',precision_score(y_test, rfc_predict))\n",
    "print('Recall:',recall_score(y_test, rfc_predict))\n",
    "print('F1:',f1_score(y_test, rfc_predict, average='weighted'))\n",
    "print('ROC-AUC:',roc_auc_score(y_test, rfc_proba))"
   ]
  },
  {
   "cell_type": "code",
   "execution_count": 32,
   "metadata": {},
   "outputs": [
    {
     "data": {
      "text/html": [
       "<div>\n",
       "<style scoped>\n",
       "    .dataframe tbody tr th:only-of-type {\n",
       "        vertical-align: middle;\n",
       "    }\n",
       "\n",
       "    .dataframe tbody tr th {\n",
       "        vertical-align: top;\n",
       "    }\n",
       "\n",
       "    .dataframe thead th {\n",
       "        text-align: right;\n",
       "    }\n",
       "</style>\n",
       "<table border=\"1\" class=\"dataframe\">\n",
       "  <thead>\n",
       "    <tr style=\"text-align: right;\">\n",
       "      <th></th>\n",
       "      <th>0</th>\n",
       "      <th>1</th>\n",
       "    </tr>\n",
       "  </thead>\n",
       "  <tbody>\n",
       "    <tr>\n",
       "      <th>0</th>\n",
       "      <td>67411</td>\n",
       "      <td>30353</td>\n",
       "    </tr>\n",
       "    <tr>\n",
       "      <th>1</th>\n",
       "      <td>1591</td>\n",
       "      <td>11882</td>\n",
       "    </tr>\n",
       "  </tbody>\n",
       "</table>\n",
       "</div>"
      ],
      "text/plain": [
       "       0      1\n",
       "0  67411  30353\n",
       "1   1591  11882"
      ]
     },
     "execution_count": 32,
     "metadata": {},
     "output_type": "execute_result"
    }
   ],
   "source": [
    "# matriz de confusão\n",
    "pd.DataFrame(confusion_matrix(y_test, rfc_predict))"
   ]
  },
  {
   "cell_type": "markdown",
   "metadata": {},
   "source": [
    "### 2.4. Extreme Gradient Boosting (XGBoost)\n",
    "___\n",
    "Similar ao algoritmo Gradient Boosting, mas com alguns diferenciais, como melhor penalização das árvores de decisão, encolhimento proporcional dos nós, dentre outros, sendo computacionalmente eficiente (rápido na execução) e altamente efetivo. Mais em [5]](https://en.wikipedia.org/wiki/XGBoost), [[6]](https://machinelearningmastery.com/extreme-gradient-boosting-ensemble-in-python/).\n",
    "\n",
    "Um valor de *scale_pos_weight* foi utilizado devido às classes desbalanceadas [[7]](https://machinelearningmastery.com/xgboost-for-imbalanced-classification/)."
   ]
  },
  {
   "cell_type": "code",
   "execution_count": 33,
   "metadata": {},
   "outputs": [],
   "source": [
    "from xgboost.sklearn import XGBClassifier"
   ]
  },
  {
   "cell_type": "code",
   "execution_count": 34,
   "metadata": {},
   "outputs": [
    {
     "data": {
      "text/plain": [
       "7"
      ]
     },
     "execution_count": 34,
     "metadata": {},
     "output_type": "execute_result"
    }
   ],
   "source": [
    "# desbalanço\n",
    "spw = round(np.unique(y_train, return_counts=True)[1][0]/np.unique(y_train, return_counts=True)[1][1])\n",
    "spw"
   ]
  },
  {
   "cell_type": "code",
   "execution_count": 35,
   "metadata": {},
   "outputs": [
    {
     "data": {
      "text/plain": [
       "XGBClassifier(base_score=0.5, booster='gbtree', colsample_bylevel=1,\n",
       "              colsample_bynode=1, colsample_bytree=1, gamma=0, gpu_id=-1,\n",
       "              importance_type='gain', interaction_constraints='',\n",
       "              learning_rate=0.300000012, max_delta_step=0, max_depth=6,\n",
       "              min_child_weight=1, missing=nan, monotone_constraints='()',\n",
       "              n_estimators=100, n_jobs=-1, num_parallel_tree=1, random_state=42,\n",
       "              reg_alpha=0, reg_lambda=1, scale_pos_weight=7, subsample=1,\n",
       "              tree_method='exact', validate_parameters=1, verbosity=None)"
      ]
     },
     "execution_count": 35,
     "metadata": {},
     "output_type": "execute_result"
    }
   ],
   "source": [
    "# classificador\n",
    "xgb = XGBClassifier(scale_pos_weight=spw, random_state=42, n_jobs=-1)\n",
    "\n",
    "xgb.fit(x_train, y_train)"
   ]
  },
  {
   "cell_type": "code",
   "execution_count": 36,
   "metadata": {},
   "outputs": [
    {
     "data": {
      "text/plain": [
       "0.7127935954548053"
      ]
     },
     "execution_count": 36,
     "metadata": {},
     "output_type": "execute_result"
    }
   ],
   "source": [
    "# avaliar modelo\n",
    "kfold = KFold(n_splits=5, random_state=42)\n",
    "xgb_results = cross_val_score(xgb, x_train, y_train, cv=kfold)\n",
    "xgb_results.mean()"
   ]
  },
  {
   "cell_type": "code",
   "execution_count": 37,
   "metadata": {},
   "outputs": [],
   "source": [
    "# predição\n",
    "xgb_predict = xgb.predict(x_test)\n",
    "xgb_proba = xgb.predict_proba(x_test)[:,1]"
   ]
  },
  {
   "cell_type": "code",
   "execution_count": 38,
   "metadata": {},
   "outputs": [
    {
     "name": "stdout",
     "output_type": "stream",
     "text": [
      "Precision: 0.284746554543331\n",
      "Recall: 0.9047725079789208\n",
      "F1: 0.7626304412851559\n",
      "ROC-AUC: 0.8540565314764567\n"
     ]
    }
   ],
   "source": [
    "# métricas\n",
    "print('Precision:',precision_score(y_test, xgb_predict))\n",
    "print('Recall:',recall_score(y_test, xgb_predict))\n",
    "print('F1:',f1_score(y_test, xgb_predict, average='weighted'))\n",
    "print('ROC-AUC:',roc_auc_score(y_test, xgb_proba))"
   ]
  },
  {
   "cell_type": "code",
   "execution_count": 39,
   "metadata": {},
   "outputs": [
    {
     "data": {
      "text/html": [
       "<div>\n",
       "<style scoped>\n",
       "    .dataframe tbody tr th:only-of-type {\n",
       "        vertical-align: middle;\n",
       "    }\n",
       "\n",
       "    .dataframe tbody tr th {\n",
       "        vertical-align: top;\n",
       "    }\n",
       "\n",
       "    .dataframe thead th {\n",
       "        text-align: right;\n",
       "    }\n",
       "</style>\n",
       "<table border=\"1\" class=\"dataframe\">\n",
       "  <thead>\n",
       "    <tr style=\"text-align: right;\">\n",
       "      <th></th>\n",
       "      <th>0</th>\n",
       "      <th>1</th>\n",
       "    </tr>\n",
       "  </thead>\n",
       "  <tbody>\n",
       "    <tr>\n",
       "      <th>0</th>\n",
       "      <td>67144</td>\n",
       "      <td>30620</td>\n",
       "    </tr>\n",
       "    <tr>\n",
       "      <th>1</th>\n",
       "      <td>1283</td>\n",
       "      <td>12190</td>\n",
       "    </tr>\n",
       "  </tbody>\n",
       "</table>\n",
       "</div>"
      ],
      "text/plain": [
       "       0      1\n",
       "0  67144  30620\n",
       "1   1283  12190"
      ]
     },
     "execution_count": 39,
     "metadata": {},
     "output_type": "execute_result"
    }
   ],
   "source": [
    "# matriz de confusão\n",
    "pd.DataFrame(confusion_matrix(y_test, xgb_predict))"
   ]
  },
  {
   "cell_type": "markdown",
   "metadata": {},
   "source": [
    "# 3. Avaliação\n",
    "___"
   ]
  },
  {
   "cell_type": "markdown",
   "metadata": {},
   "source": [
    "## 3.1. Métricas\n",
    "___\n"
   ]
  },
  {
   "cell_type": "markdown",
   "metadata": {},
   "source": [
    "De acordo com as métricas de avaliação apontadas no começo, buscamos uma baixa tada de FP (previsão de que o cliente vai permanecer com a seguradora e o mesmo cancela o seguro). Nesse contexto, dentre os modelos utilizados, os que apresentaram melhor desempenho foram o modelo de árvore: Random Forest e XGBoost, ambos com taxa de FP de 0.31 e 0.32, respectivamente."
   ]
  },
  {
   "cell_type": "code",
   "execution_count": 40,
   "metadata": {},
   "outputs": [
    {
     "data": {
      "image/png": "[encoded data removed]",
      "text/plain": [
       "<Figure size 1008x648 with 10 Axes>"
      ]
     },
     "metadata": {},
     "output_type": "display_data"
    }
   ],
   "source": [
    "# confusion matrix normalized\n",
    "fig, [[ax0,ax1,ax2],[ax3,ax4,ax5]] = plt.subplots(2,3,figsize=(14,9))\n",
    "plot_confusion_matrix(dt, x_test, y_test, normalize='true', ax=ax0)\n",
    "ax0.set(title='Decision Stump')\n",
    "plot_confusion_matrix(lr, x_test, y_test, normalize='true', ax=ax1)\n",
    "ax1.set(title='Logistic Regression')\n",
    "plot_confusion_matrix(rfc, x_test, y_test, normalize='true', ax=ax2)\n",
    "ax2.set(title='Random Forest')\n",
    "plot_confusion_matrix(xgb, x_test, y_test, normalize='true', ax=ax3)\n",
    "ax3.set(title='XGBoost')\n",
    "\n",
    "for ax in [ax0,ax1,ax2,ax3]:\n",
    "    ax.grid(False)\n",
    "    \n",
    "plt.subplots_adjust(hspace=0.3)"
   ]
  },
  {
   "cell_type": "markdown",
   "metadata": {},
   "source": [
    "A curva ROC é uma forma gráfica de revisar o desempenho dos modelos de classificação, sendo um bom indicador de desempenho, especialmente porque estamos interessados na taxa de TP dos modelos. A área sob a curva (AUC) mede a capacidade do modelo de classificar corretamente aqueles que tiveram evasão, e os que não tiveram. Quanto maior a AUC, melhor o classificador em relação à taxa de TP.\n",
    "\n",
    "Analisando a figura abaixo, nota-se que o modelo XGBoost apresentou a maior AUC entre os modelos, ligeiramente superior ao modelo Random Forest, e por fim o modelo de Regressão Logística."
   ]
  },
  {
   "cell_type": "code",
   "execution_count": 41,
   "metadata": {},
   "outputs": [
    {
     "data": {
      "image/png": "[encoded data removed]",
      "text/plain": [
       "<Figure size 720x432 with 1 Axes>"
      ]
     },
     "metadata": {},
     "output_type": "display_data"
    }
   ],
   "source": [
    "# ROC-AUC\n",
    "fig, ax=plt.subplots(figsize=(10,6))\n",
    "plot_roc_curve(dt, x_test, y_test, ax=ax)\n",
    "plot_roc_curve(lr, x_test, y_test, ax=ax)\n",
    "plot_roc_curve(rfc, x_test, y_test, ax=ax)\n",
    "plot_roc_curve(xgb, x_test, y_test, ax=ax)\n",
    "ax.plot([0,1], [0,1], linestyle='--', color='k')\n",
    "plt.title('ROC-CURVE', size=14);"
   ]
  },
  {
   "cell_type": "markdown",
   "metadata": {},
   "source": [
    "## 3.2. Ajuse te Hiperparâmetros\n",
    "___"
   ]
  },
  {
   "cell_type": "markdown",
   "metadata": {},
   "source": [
    "### Regressão Logística\n",
    "___\n",
    "O modelo de regressão logística demanda normalização quando regularização é utilizada [[8]](https://www.dataschool.io/comparing-supervised-learning-algorithms/)."
   ]
  },
  {
   "cell_type": "code",
   "execution_count": 42,
   "metadata": {},
   "outputs": [],
   "source": [
    "from sklearn.preprocessing import StandardScaler"
   ]
  },
  {
   "cell_type": "code",
   "execution_count": 43,
   "metadata": {},
   "outputs": [],
   "source": [
    "scaler = StandardScaler()"
   ]
  },
  {
   "cell_type": "code",
   "execution_count": 44,
   "metadata": {},
   "outputs": [],
   "source": [
    "x_train_sc = scaler.fit_transform(x_train)\n",
    "x_test_sc = scaler.transform(x_test)"
   ]
  },
  {
   "cell_type": "code",
   "execution_count": 208,
   "metadata": {},
   "outputs": [
    {
     "name": "stdout",
     "output_type": "stream",
     "text": [
      "Fitting 3 folds for each of 10 candidates, totalling 30 fits\n"
     ]
    },
    {
     "name": "stderr",
     "output_type": "stream",
     "text": [
      "[Parallel(n_jobs=-1)]: Using backend LokyBackend with 4 concurrent workers.\n",
      "[Parallel(n_jobs=-1)]: Done  30 out of  30 | elapsed:   14.6s finished\n"
     ]
    },
    {
     "data": {
      "text/plain": [
       "{'solver': 'liblinear', 'penalty': 'l2', 'C': 100}"
      ]
     },
     "execution_count": 208,
     "metadata": {},
     "output_type": "execute_result"
    }
   ],
   "source": [
    "# parâmetros para random search\n",
    "C = [0.001, 0.01, 0.1, 1, 10, 100]\n",
    "solver = ['newton-cg','liblinear','lbfgs']\n",
    "penalty = ['l1','l2']\n",
    "params = dict(C=C, solver=solver, penalty=penalty)\n",
    "\n",
    "# classificador\n",
    "clf = LogisticRegression(class_weight='balanced', random_state=42)\n",
    "\n",
    "# search\n",
    "kfold = KFold(n_splits=3, random_state=42)\n",
    "search = RandomizedSearchCV(clf, \n",
    "                            params, \n",
    "                            scoring='roc_auc', \n",
    "                            cv = kfold,\n",
    "                            n_jobs=-1, \n",
    "                            verbose=1).fit(x_train_sc, y_train)\n",
    "\n",
    "# avaliar parâmetros\n",
    "search.best_params_"
   ]
  },
  {
   "cell_type": "code",
   "execution_count": 209,
   "metadata": {},
   "outputs": [
    {
     "data": {
      "text/plain": [
       "LogisticRegression(C=100, class_weight='balanced', n_jobs=-1, random_state=42,\n",
       "                   solver='liblinear')"
      ]
     },
     "execution_count": 209,
     "metadata": {},
     "output_type": "execute_result"
    }
   ],
   "source": [
    "# modelo\n",
    "lr = LogisticRegression(solver='liblinear',C=100,penalty='l2',\n",
    "                        class_weight='balanced',random_state=42,n_jobs=-1)\n",
    "\n",
    "lr.fit(x_train_sc, y_train)"
   ]
  },
  {
   "cell_type": "code",
   "execution_count": 210,
   "metadata": {},
   "outputs": [
    {
     "data": {
      "text/plain": [
       "0.8316285353398524"
      ]
     },
     "execution_count": 210,
     "metadata": {},
     "output_type": "execute_result"
    }
   ],
   "source": [
    "# avaliar modelo\n",
    "kfold = KFold(n_splits=5, random_state=42)\n",
    "lr_results = cross_val_score(lr, x_train_sc, y_train, cv=kfold, scoring='roc_auc')\n",
    "lr_results.mean()"
   ]
  },
  {
   "cell_type": "code",
   "execution_count": 211,
   "metadata": {},
   "outputs": [],
   "source": [
    "# predição\n",
    "lr_proba = lr.predict_proba(x_test_sc)[:,1]\n",
    "\n",
    "# mudar cutoff \n",
    "lr_predict = np.zeros(lr_proba.shape)\n",
    "lr_predict = np.array([1 if lr_proba[i] > 0.65 else 0 for i in range(lr_predict.shape[0])])"
   ]
  },
  {
   "cell_type": "code",
   "execution_count": 212,
   "metadata": {},
   "outputs": [
    {
     "name": "stdout",
     "output_type": "stream",
     "text": [
      "Precision: 0.2963193834471425\n",
      "Recall: 0.7762191048764195\n",
      "F1: 0.7899213378938093\n",
      "ROC-AUC: 0.8301416568253729\n"
     ]
    }
   ],
   "source": [
    "# métricas\n",
    "print('Precision:',precision_score(y_test, lr_predict))\n",
    "print('Recall:',recall_score(y_test, lr_predict))\n",
    "print('F1:',f1_score(y_test, lr_predict, average='weighted'))\n",
    "print('ROC-AUC:',roc_auc_score(y_test, lr_proba))"
   ]
  },
  {
   "cell_type": "code",
   "execution_count": 213,
   "metadata": {},
   "outputs": [
    {
     "data": {
      "text/html": [
       "<div>\n",
       "<style scoped>\n",
       "    .dataframe tbody tr th:only-of-type {\n",
       "        vertical-align: middle;\n",
       "    }\n",
       "\n",
       "    .dataframe tbody tr th {\n",
       "        vertical-align: top;\n",
       "    }\n",
       "\n",
       "    .dataframe thead th {\n",
       "        text-align: right;\n",
       "    }\n",
       "</style>\n",
       "<table border=\"1\" class=\"dataframe\">\n",
       "  <thead>\n",
       "    <tr style=\"text-align: right;\">\n",
       "      <th></th>\n",
       "      <th>0</th>\n",
       "      <th>1</th>\n",
       "    </tr>\n",
       "  </thead>\n",
       "  <tbody>\n",
       "    <tr>\n",
       "      <th>0</th>\n",
       "      <td>72929</td>\n",
       "      <td>24835</td>\n",
       "    </tr>\n",
       "    <tr>\n",
       "      <th>1</th>\n",
       "      <td>3015</td>\n",
       "      <td>10458</td>\n",
       "    </tr>\n",
       "  </tbody>\n",
       "</table>\n",
       "</div>"
      ],
      "text/plain": [
       "       0      1\n",
       "0  72929  24835\n",
       "1   3015  10458"
      ]
     },
     "execution_count": 213,
     "metadata": {},
     "output_type": "execute_result"
    }
   ],
   "source": [
    "# matriz de confusão\n",
    "lr_cm = confusion_matrix(y_test, lr_predict, normalize='true')\n",
    "pd.DataFrame(confusion_matrix(y_test, lr_predict))"
   ]
  },
  {
   "cell_type": "markdown",
   "metadata": {},
   "source": [
    "### Random Forest\n",
    "___"
   ]
  },
  {
   "cell_type": "code",
   "execution_count": 214,
   "metadata": {},
   "outputs": [
    {
     "name": "stdout",
     "output_type": "stream",
     "text": [
      "Fitting 3 folds for each of 10 candidates, totalling 30 fits\n"
     ]
    },
    {
     "name": "stderr",
     "output_type": "stream",
     "text": [
      "[Parallel(n_jobs=-1)]: Using backend LokyBackend with 4 concurrent workers.\n",
      "[Parallel(n_jobs=-1)]: Done  30 out of  30 | elapsed:  3.6min finished\n"
     ]
    },
    {
     "data": {
      "text/plain": [
       "{'n_estimators': 500,\n",
       " 'min_samples_split': 100,\n",
       " 'min_samples_leaf': 3,\n",
       " 'max_samples': 0.1,\n",
       " 'max_leaf_nodes': 50,\n",
       " 'max_depth': 10}"
      ]
     },
     "execution_count": 214,
     "metadata": {},
     "output_type": "execute_result"
    }
   ],
   "source": [
    "# parâmetros para random search\n",
    "max_depth = [3, 5, 8, 10]\n",
    "min_samples_split = [10, 50, 100, 300]\n",
    "max_leaf_nodes = [5, 10, 30, 50]\n",
    "min_samples_leaf = [2, 3, 5, 10]\n",
    "n_estimators = [50, 100, 300, 500]\n",
    "max_samples = [0.1, 0.2, 0.5, 1]\n",
    "params = dict(max_depth=max_depth,\n",
    "             min_samples_split=min_samples_split,\n",
    "             max_leaf_nodes=max_leaf_nodes,\n",
    "             min_samples_leaf=min_samples_leaf,\n",
    "             n_estimators=n_estimators,\n",
    "             max_samples=max_samples)\n",
    "\n",
    "# classificador\n",
    "clf = RandomForestClassifier(class_weight='balanced', random_state=42)\n",
    "\n",
    "# search\n",
    "kfold = KFold(n_splits=3, random_state=42)\n",
    "search = RandomizedSearchCV(clf, \n",
    "                            params, \n",
    "                            scoring='roc_auc', \n",
    "                            cv = kfold,\n",
    "                            n_jobs=-1, \n",
    "                            verbose=1).fit(x_train_sc, y_train)\n",
    "\n",
    "# avaliar parâmetros\n",
    "search.best_params_"
   ]
  },
  {
   "cell_type": "code",
   "execution_count": 215,
   "metadata": {},
   "outputs": [
    {
     "data": {
      "text/plain": [
       "RandomForestClassifier(class_weight='balanced', max_depth=10, max_leaf_nodes=50,\n",
       "                       max_samples=0.1, min_samples_leaf=3,\n",
       "                       min_samples_split=100, n_estimators=500,\n",
       "                       random_state=42)"
      ]
     },
     "execution_count": 215,
     "metadata": {},
     "output_type": "execute_result"
    }
   ],
   "source": [
    "# modelo\n",
    "rfc = RandomForestClassifier(n_estimators=500,\n",
    "                             min_samples_split=100,\n",
    "                             min_samples_leaf=3,\n",
    "                             max_samples=0.1,\n",
    "                             max_leaf_nodes=50,\n",
    "                             max_depth=10,\n",
    "                             class_weight='balanced', \n",
    "                             random_state=42)\n",
    "\n",
    "rfc.fit(x_train, y_train)"
   ]
  },
  {
   "cell_type": "code",
   "execution_count": 221,
   "metadata": {},
   "outputs": [
    {
     "data": {
      "text/plain": [
       "0.8529551454959314"
      ]
     },
     "execution_count": 221,
     "metadata": {},
     "output_type": "execute_result"
    }
   ],
   "source": [
    "# avaliar modelo \n",
    "kfold = KFold(n_splits=5, random_state=42)\n",
    "rfc_results = cross_val_score(rfc, x_train, y_train, cv=kfold, scoring='roc_auc')\n",
    "rfc_results.mean()"
   ]
  },
  {
   "cell_type": "code",
   "execution_count": 218,
   "metadata": {},
   "outputs": [],
   "source": [
    "# predição\n",
    "rfc_predict = rfc.predict(x_test)\n",
    "rfc_proba = rfc.predict_proba(x_test)[:,1]"
   ]
  },
  {
   "cell_type": "code",
   "execution_count": 219,
   "metadata": {},
   "outputs": [
    {
     "name": "stdout",
     "output_type": "stream",
     "text": [
      "Precision: 0.27814718303531316\n",
      "Recall: 0.9190232316484821\n",
      "F1: 0.7530753809131977\n",
      "ROC-AUC: 0.8533253367155553\n"
     ]
    }
   ],
   "source": [
    "# métricas\n",
    "print('Precision:',precision_score(y_test, rfc_predict))\n",
    "print('Recall:',recall_score(y_test, rfc_predict))\n",
    "print('F1:',f1_score(y_test, rfc_predict, average='weighted'))\n",
    "print('ROC-AUC:',roc_auc_score(y_test, rfc_proba))"
   ]
  },
  {
   "cell_type": "code",
   "execution_count": 220,
   "metadata": {},
   "outputs": [
    {
     "data": {
      "text/html": [
       "<div>\n",
       "<style scoped>\n",
       "    .dataframe tbody tr th:only-of-type {\n",
       "        vertical-align: middle;\n",
       "    }\n",
       "\n",
       "    .dataframe tbody tr th {\n",
       "        vertical-align: top;\n",
       "    }\n",
       "\n",
       "    .dataframe thead th {\n",
       "        text-align: right;\n",
       "    }\n",
       "</style>\n",
       "<table border=\"1\" class=\"dataframe\">\n",
       "  <thead>\n",
       "    <tr style=\"text-align: right;\">\n",
       "      <th></th>\n",
       "      <th>0</th>\n",
       "      <th>1</th>\n",
       "    </tr>\n",
       "  </thead>\n",
       "  <tbody>\n",
       "    <tr>\n",
       "      <th>0</th>\n",
       "      <td>65630</td>\n",
       "      <td>32134</td>\n",
       "    </tr>\n",
       "    <tr>\n",
       "      <th>1</th>\n",
       "      <td>1091</td>\n",
       "      <td>12382</td>\n",
       "    </tr>\n",
       "  </tbody>\n",
       "</table>\n",
       "</div>"
      ],
      "text/plain": [
       "       0      1\n",
       "0  65630  32134\n",
       "1   1091  12382"
      ]
     },
     "execution_count": 220,
     "metadata": {},
     "output_type": "execute_result"
    }
   ],
   "source": [
    "# matriz de confusão\n",
    "rfc_cm = confusion_matrix(y_test, rfc_predict, normalize='true')\n",
    "pd.DataFrame(confusion_matrix(y_test, rfc_predict))"
   ]
  },
  {
   "cell_type": "markdown",
   "metadata": {},
   "source": [
    "### XGBoost\n",
    "___"
   ]
  },
  {
   "cell_type": "code",
   "execution_count": 222,
   "metadata": {},
   "outputs": [
    {
     "name": "stdout",
     "output_type": "stream",
     "text": [
      "Fitting 3 folds for each of 10 candidates, totalling 30 fits\n"
     ]
    },
    {
     "name": "stderr",
     "output_type": "stream",
     "text": [
      "[Parallel(n_jobs=-1)]: Using backend LokyBackend with 4 concurrent workers.\n",
      "[Parallel(n_jobs=-1)]: Done  30 out of  30 | elapsed: 13.0min finished\n"
     ]
    },
    {
     "data": {
      "text/plain": [
       "{'subsample': 0.5,\n",
       " 'scale_pos_weight': 4,\n",
       " 'n_estimators': 300,\n",
       " 'min_child_weight': 1,\n",
       " 'max_depth': 3,\n",
       " 'learning_rate': 0.2,\n",
       " 'gamma': 0.1,\n",
       " 'colsample_bytree': 0.8}"
      ]
     },
     "execution_count": 222,
     "metadata": {},
     "output_type": "execute_result"
    }
   ],
   "source": [
    "# parâmetros para random search\n",
    "n_estimators = [100, 300, 500, 800]\n",
    "learning_rate = [0.01, 0.05, 0.1, 0.2, 0.5]\n",
    "subsample = [0.5, 0.8, 1]\n",
    "max_depth = [3, 5, 8, 10]\n",
    "gamma = [0, 0.1, 0.5]\n",
    "min_child_weight = [1, 3, 5]\n",
    "colsample_bytree = [0.5, 0.8, 1]\n",
    "scale_pos_weight = [3, 4, 5, 8]\n",
    "params = dict(n_estimators=n_estimators, \n",
    "              learning_rate=learning_rate, \n",
    "              subsample=subsample,\n",
    "              max_depth=max_depth,\n",
    "              gamma=gamma,\n",
    "              min_child_weight=min_child_weight,\n",
    "              colsample_bytree=colsample_bytree,\n",
    "              scale_pos_weight=scale_pos_weight)\n",
    "\n",
    "# classificador\n",
    "clf = XGBClassifier(random_state=42)\n",
    "\n",
    "# search\n",
    "kfold = KFold(n_splits=3, random_state=42)\n",
    "search = RandomizedSearchCV(clf, \n",
    "                            params, \n",
    "                            scoring='roc_auc', \n",
    "                            cv=kfold,\n",
    "                            verbose=1, \n",
    "                            n_jobs=-1).fit(x_train, y_train)\n",
    "\n",
    "# avaliar parâmetros\n",
    "search.best_params_"
   ]
  },
  {
   "cell_type": "code",
   "execution_count": 223,
   "metadata": {},
   "outputs": [
    {
     "data": {
      "text/plain": [
       "XGBClassifier(base_score=0.5, booster='gbtree', colsample_bylevel=1,\n",
       "              colsample_bynode=1, colsample_bytree=0.8, gamma=0.1, gpu_id=-1,\n",
       "              importance_type='gain', interaction_constraints='',\n",
       "              learning_rate=0.2, max_delta_step=0, max_depth=3,\n",
       "              min_child_weight=1, missing=nan, monotone_constraints='()',\n",
       "              n_estimators=300, n_jobs=0, num_parallel_tree=1, random_state=0,\n",
       "              reg_alpha=0, reg_lambda=1, scale_pos_weight=4, subsample=0.5,\n",
       "              tree_method='exact', validate_parameters=1, verbosity=None)"
      ]
     },
     "execution_count": 223,
     "metadata": {},
     "output_type": "execute_result"
    }
   ],
   "source": [
    "# modelo\n",
    "xgb = XGBClassifier(subsample=0.5,\n",
    "                     scale_pos_weight=4,\n",
    "                     n_estimators=300,\n",
    "                     min_child_weight=1,\n",
    "                     max_depth=3,\n",
    "                     learning_rate=0.2,\n",
    "                     gamma=0.1,\n",
    "                     colsample_bytree=0.8)\n",
    "\n",
    "xgb.fit(x_train, y_train)"
   ]
  },
  {
   "cell_type": "code",
   "execution_count": 225,
   "metadata": {},
   "outputs": [
    {
     "data": {
      "text/plain": [
       "0.31317570438932624"
      ]
     },
     "execution_count": 225,
     "metadata": {},
     "output_type": "execute_result"
    }
   ],
   "source": [
    "# avaliar modelo\n",
    "kfold = KFold(n_splits=5, random_state=42)\n",
    "xgb_results = cross_val_score(xgb, x_train, y_train, cv=kfold, scoring='precision')\n",
    "xgb_results.mean()"
   ]
  },
  {
   "cell_type": "code",
   "execution_count": 226,
   "metadata": {},
   "outputs": [],
   "source": [
    "# predição\n",
    "xgb_predict = xgb.predict(x_test)\n",
    "xgb_proba = xgb.predict_proba(x_test)[:,1]"
   ]
  },
  {
   "cell_type": "code",
   "execution_count": 227,
   "metadata": {},
   "outputs": [
    {
     "name": "stdout",
     "output_type": "stream",
     "text": [
      "Precision: 0.312836213803365\n",
      "Recall: 0.8114748014547614\n",
      "F1: 0.7994861948703037\n",
      "ROC-AUC: 0.8554613811602463\n"
     ]
    }
   ],
   "source": [
    "# métricas\n",
    "print('Precision:',precision_score(y_test, xgb_predict))\n",
    "print('Recall:',recall_score(y_test, xgb_predict))\n",
    "print('F1:',f1_score(y_test, xgb_predict, average='weighted'))\n",
    "print('ROC-AUC:',roc_auc_score(y_test, xgb_proba))"
   ]
  },
  {
   "cell_type": "code",
   "execution_count": 228,
   "metadata": {},
   "outputs": [
    {
     "data": {
      "text/html": [
       "<div>\n",
       "<style scoped>\n",
       "    .dataframe tbody tr th:only-of-type {\n",
       "        vertical-align: middle;\n",
       "    }\n",
       "\n",
       "    .dataframe tbody tr th {\n",
       "        vertical-align: top;\n",
       "    }\n",
       "\n",
       "    .dataframe thead th {\n",
       "        text-align: right;\n",
       "    }\n",
       "</style>\n",
       "<table border=\"1\" class=\"dataframe\">\n",
       "  <thead>\n",
       "    <tr style=\"text-align: right;\">\n",
       "      <th></th>\n",
       "      <th>0</th>\n",
       "      <th>1</th>\n",
       "    </tr>\n",
       "  </thead>\n",
       "  <tbody>\n",
       "    <tr>\n",
       "      <th>0</th>\n",
       "      <td>73749</td>\n",
       "      <td>24015</td>\n",
       "    </tr>\n",
       "    <tr>\n",
       "      <th>1</th>\n",
       "      <td>2540</td>\n",
       "      <td>10933</td>\n",
       "    </tr>\n",
       "  </tbody>\n",
       "</table>\n",
       "</div>"
      ],
      "text/plain": [
       "       0      1\n",
       "0  73749  24015\n",
       "1   2540  10933"
      ]
     },
     "execution_count": 228,
     "metadata": {},
     "output_type": "execute_result"
    }
   ],
   "source": [
    "# matriz de confusão\n",
    "xgb_cm = confusion_matrix(y_test, xgb_predict, normalize='true')\n",
    "pd.DataFrame(confusion_matrix(y_test, xgb_predict))"
   ]
  },
  {
   "cell_type": "markdown",
   "metadata": {},
   "source": [
    "### Comparação\n",
    "___\n",
    "\n",
    "Os valores *a priori* e *a posteriori* do ajuste dos hiperparâmetros em função do probléma de negócio são:\n",
    "\n",
    "- Regressão Logística: \n",
    "    - TP: 0.98 $\\to$ 0.98\n",
    "    - FP: 0.41 $\\to$ 0.41\n",
    "- Random Forest:\n",
    "    - TP: 0.88 $\\to$ 0.92\n",
    "    - FP:  0.31 $\\to$ 0.33\n",
    "- XGBoost: \n",
    "    - TP: 0.90 $\\to$ 0.81\n",
    "    - FP: 0.31 $\\to$ 0.25\n",
    "\n",
    "De maneira geral, observa-se que o modelo de regressão manteve os mesmos valores (pode ser visto também na curva ROC-AUC abaixo), enquanto o modelo Random Forest teve um aumento de TP e também FP, superior para o primeiro parâmetro, o que refletiu em um aumento da AUC de 0.84 $\\to$ 0.85, e no último modelo, XGBoost, ocorreu uma redução de ambos os parâmetros, com aumento na AUC de 0.85 $\\to$ 0.86."
   ]
  },
  {
   "cell_type": "code",
   "execution_count": 229,
   "metadata": {},
   "outputs": [
    {
     "data": {
      "image/png": "[encoded data removed]",
      "text/plain": [
       "<Figure size 864x1008 with 12 Axes>"
      ]
     },
     "metadata": {},
     "output_type": "display_data"
    }
   ],
   "source": [
    "# matriz de confusão\n",
    "# RL\n",
    "fig, [[ax0,ax1],[ax3,ax4],[ax5,ax6]] = plt.subplots(3,2,figsize=(12,14))\n",
    "plt.subplots_adjust(hspace=.3)\n",
    "plot_confusion_matrix(lr, x_test_sc, y_test, ax=ax0)\n",
    "ax0.grid(False)\n",
    "ax0.set(title='Regressão Logística')\n",
    "plot_confusion_matrix(lr, x_test_sc, y_test, normalize='true',ax=ax1)\n",
    "ax1.grid(False)\n",
    "ax1.set(title='Regressão Logística - Normalized')\n",
    "# RFC\n",
    "plot_confusion_matrix(rfc, x_test, y_test, ax=ax3)\n",
    "ax3.grid(False)\n",
    "ax3.set(title='Random Forest')\n",
    "plot_confusion_matrix(rfc, x_test, y_test, normalize='true',ax=ax4)\n",
    "ax4.grid(False)\n",
    "ax4.set(title='Random Forest - Normalized');\n",
    "# XGB\n",
    "plot_confusion_matrix(xgb, x_test, y_test, ax=ax5)\n",
    "ax5.grid(False)\n",
    "ax5.set(title='XGBoost')\n",
    "plot_confusion_matrix(xgb, x_test, y_test, normalize='true',ax=ax6)\n",
    "ax6.grid(False)\n",
    "ax6.set(title='XGBoost - Normalized');"
   ]
  },
  {
   "cell_type": "code",
   "execution_count": 230,
   "metadata": {},
   "outputs": [
    {
     "data": {
      "image/png": "[encoded data removed]",
      "text/plain": [
       "<Figure size 720x432 with 1 Axes>"
      ]
     },
     "metadata": {},
     "output_type": "display_data"
    }
   ],
   "source": [
    "# ROC-AUC\n",
    "fig, ax=plt.subplots(figsize=(10,6))\n",
    "plot_roc_curve(lr, x_test_sc, y_test, ax=ax)\n",
    "plot_roc_curve(rfc, x_test, y_test, ax=ax)\n",
    "plot_roc_curve(xgb, x_test, y_test, ax=ax)\n",
    "ax.plot([0,1], [0,1], linestyle='--', color='k')\n",
    "plt.title('ROC-CURVE', size=14);"
   ]
  },
  {
   "cell_type": "markdown",
   "metadata": {},
   "source": [
    "## 3.2. Lucro Esperado\n",
    "___\n",
    "Entretanto, quando aplicada a equação de valor esperado de lucro mencionada acima, foi possível calcular o valor esperado em função da performance dos classificadores e da matriz de custo-benefício, ou seja, considerando tanto os aspectos técnicos do classificador quanto o plano de retenção de clientes. \n",
    "\n",
    "Nota-se que o classficador com maior valor esperado é o modelo Random Forest, seguido pelo modelo XGBoost, e por fim o modelo de Regressão Logística, sendo o lucro esperado \\\\$344.02, \\\\$305.44, \\\\$291.45, respectivamente, todos apresentando lucro esperado positivo. Isso porque, como indicado, os modelos utilizaram como métrica de otimização a métrica *ROC-AUC*, visando reduzir o número de FP enquanto procurar um alto número de TP, como visto acima, aumentando o valor esperado de lucro."
   ]
  },
  {
   "cell_type": "code",
   "execution_count": 231,
   "metadata": {},
   "outputs": [
    {
     "name": "stdout",
     "output_type": "stream",
     "text": [
      "Regressão Logística - Lucro Esperado: $291.45\n"
     ]
    }
   ],
   "source": [
    "print('Regressão Logística - Lucro Esperado: ${}'.format(\n",
    "    round(\n",
    "        p_1*((lr_cm[1][1]*cb[1][1]) + (lr_cm[1][0]*cb[1][0])) + \n",
    "        p_0*((lr_cm[0][0]*cb[0][0]) + (lr_cm[0][1]*cb[0][1])),\n",
    "        2)\n",
    "    )\n",
    ")"
   ]
  },
  {
   "cell_type": "code",
   "execution_count": 232,
   "metadata": {},
   "outputs": [
    {
     "name": "stdout",
     "output_type": "stream",
     "text": [
      "Random Forest - Lucro Esperado: $344.02\n"
     ]
    }
   ],
   "source": [
    "print('Random Forest - Lucro Esperado: ${}'.format(\n",
    "    round(\n",
    "        p_1*((rfc_cm[1][1]*cb[1][1]) + (rfc_cm[1][0]*cb[1][0])) + \n",
    "        p_0*((rfc_cm[0][0]*cb[0][0]) + (rfc_cm[0][1]*cb[0][1])),\n",
    "        2)\n",
    "    )\n",
    ")"
   ]
  },
  {
   "cell_type": "code",
   "execution_count": 233,
   "metadata": {},
   "outputs": [
    {
     "name": "stdout",
     "output_type": "stream",
     "text": [
      "Gradient Boosting - Lucro Esperado: $305.44\n"
     ]
    }
   ],
   "source": [
    "print('Gradient Boosting - Lucro Esperado: ${}'.format(\n",
    "    round(\n",
    "        p_1*((xgb_cm[1][1]*cb[1][1]) + (xgb_cm[1][0]*cb[1][0])) + \n",
    "        p_0*((xgb_cm[0][0]*cb[0][0]) + (xgb_cm[0][1]*cb[0][1])),\n",
    "        2)\n",
    "    )\n",
    ")"
   ]
  },
  {
   "cell_type": "markdown",
   "metadata": {},
   "source": [
    "### 3.2.1. Curvas de Lucro Esperado\n",
    "___\n",
    "Entretanto, uma estragégia diferente para a tomada de decisão pode ser o rankeamento das instâncias de acordo com seu score de churn, ou seja, sua probabilidade, onde, através dos resultados e visualização da curva das instâncias rankeadas por score, pode-se escolher determinado número $n$ de clientes para aplicar o plano de retenção, de acordo com o lucro máximo apresentado por cada classificador, como é também possível adaptar o plano de retenção com restrições orçamentárias para outro determinado número $n$ de clientes.\n",
    "\n",
    "Mais especificamente, a classificação por rankeamento produz uma lista de instâncias e seus scores de probabilidade de forma decrescente, calculando-se o valor esperado resultando para cada instância da lista. Como é possível notar abaixo, a curva de lucro pode ser negativa, especialmente quando a margem de lucro é pequena e o número de clientes que o programa de retenção consegue atingir é também pequeno [[3]](https://www.oreilly.com/library/view/data-science-for/9781449374273/). Diferentemente do valor esperado calculado anteriormente, o qual considera os valores totais do classificador, no caso da curva de valor esperado os valores de TP, TN, FP, FN mudam a cada e instância e, portanto, seu valor esperado."
   ]
  },
  {
   "cell_type": "code",
   "execution_count": 280,
   "metadata": {},
   "outputs": [],
   "source": [
    "df_cost = pd.DataFrame(y_test.values, index=idx2_df, columns=['y_true'])"
   ]
  },
  {
   "cell_type": "code",
   "execution_count": 375,
   "metadata": {},
   "outputs": [],
   "source": [
    "def calculate_metrics(df, cb_matrix):\n",
    "    \n",
    "    \"\"\"Calcula tp, tn, fp, fn, valor esperado e porcentagem de instâncias\n",
    "    \n",
    "    @param df: dataframe para adcionar cálculos\n",
    "    @param cb_matrix: matriz de custo-benefício\n",
    "    \n",
    "    @return tp,tn,fp,fn,EV,perc_instances\n",
    "    \"\"\"\n",
    "    \n",
    "    y_true = np.array(df['y_true'])\n",
    "    y_pred = np.array(df['predict'])\n",
    "    \n",
    "    tp = np.array([0]*df.shape[0])\n",
    "    tn = np.array([0]*df.shape[0])\n",
    "    fp = np.array([0]*df.shape[0])\n",
    "    fn = np.array([0]*df.shape[0])\n",
    "    EV = np.array([0]*df.shape[0])\n",
    "    \n",
    "    tp_aux,tn_aux,fp_aux,fn_aux = 0,0,0,0\n",
    "\n",
    "    for i in range(df.shape[0]):\n",
    "\n",
    "        # Calcular tp, tn, fp, fn\n",
    "        if y_true[i]==1 and y_pred[i]==1: # tp\n",
    "            tp_aux += 1\n",
    "      \n",
    "        elif y_true[i]==0 and y_pred[i]==0: # tn\n",
    "            tn_aux+=1\n",
    "\n",
    "        elif y_true[i]==0 and y_pred[i]==1: # fp\n",
    "            fp_aux+=1\n",
    "\n",
    "        elif y_true[i]==1 and y_pred[i]==0: # fn\n",
    "            fn_aux+=1\n",
    "\n",
    "        tp[i] = tp_aux\n",
    "        tn[i] = tn_aux\n",
    "        fp[i] = fp_aux\n",
    "        fn[i] = fn_aux\n",
    "    \n",
    "    \n",
    "    df['tp'] = tp\n",
    "    df['tn'] = tn\n",
    "    df['fp'] = fp\n",
    "    df['fn'] = fn\n",
    "    df['Instances'] = np.linspace(0,1,num=df.shape[0])\n",
    "    df['EV'] = (df['tn']*cb_matrix[0][0] + df['fp']*cb_matrix[0][1] + \\\n",
    "                df['fn']*cb_matrix[1][0] + df['tp']*cb_matrix[1][1]) / \\\n",
    "                df.shape[0]\n",
    "    df['EV'] = df['EV'].round(1)\n",
    "    \n",
    "    return 'End of calculation'"
   ]
  },
  {
   "cell_type": "markdown",
   "metadata": {},
   "source": [
    "### Regressão Logística\n",
    "___"
   ]
  },
  {
   "cell_type": "code",
   "execution_count": 376,
   "metadata": {},
   "outputs": [],
   "source": [
    "lr_cost = df_cost.copy()\n",
    "lr_cost['predict'] = lr_predict\n",
    "lr_cost['proba'] = lr_proba\n",
    "lr_cost = lr_cost.sort_values(by='proba', ascending=False)"
   ]
  },
  {
   "cell_type": "code",
   "execution_count": 377,
   "metadata": {},
   "outputs": [
    {
     "data": {
      "text/plain": [
       "'End of calculation'"
      ]
     },
     "execution_count": 377,
     "metadata": {},
     "output_type": "execute_result"
    }
   ],
   "source": [
    "calculate_metrics(lr_cost,cb)"
   ]
  },
  {
   "cell_type": "code",
   "execution_count": 378,
   "metadata": {},
   "outputs": [
    {
     "data": {
      "text/html": [
       "<div>\n",
       "<style scoped>\n",
       "    .dataframe tbody tr th:only-of-type {\n",
       "        vertical-align: middle;\n",
       "    }\n",
       "\n",
       "    .dataframe tbody tr th {\n",
       "        vertical-align: top;\n",
       "    }\n",
       "\n",
       "    .dataframe thead th {\n",
       "        text-align: right;\n",
       "    }\n",
       "</style>\n",
       "<table border=\"1\" class=\"dataframe\">\n",
       "  <thead>\n",
       "    <tr style=\"text-align: right;\">\n",
       "      <th></th>\n",
       "      <th>y_true</th>\n",
       "      <th>predict</th>\n",
       "      <th>proba</th>\n",
       "      <th>tp</th>\n",
       "      <th>tn</th>\n",
       "      <th>fp</th>\n",
       "      <th>fn</th>\n",
       "      <th>Instances</th>\n",
       "      <th>EV</th>\n",
       "    </tr>\n",
       "    <tr>\n",
       "      <th>id</th>\n",
       "      <th></th>\n",
       "      <th></th>\n",
       "      <th></th>\n",
       "      <th></th>\n",
       "      <th></th>\n",
       "      <th></th>\n",
       "      <th></th>\n",
       "      <th></th>\n",
       "      <th></th>\n",
       "    </tr>\n",
       "  </thead>\n",
       "  <tbody>\n",
       "    <tr>\n",
       "      <th>261089</th>\n",
       "      <td>0</td>\n",
       "      <td>1</td>\n",
       "      <td>0.900234</td>\n",
       "      <td>0</td>\n",
       "      <td>0</td>\n",
       "      <td>1</td>\n",
       "      <td>0</td>\n",
       "      <td>0.000000</td>\n",
       "      <td>-0.0</td>\n",
       "    </tr>\n",
       "    <tr>\n",
       "      <th>203714</th>\n",
       "      <td>0</td>\n",
       "      <td>1</td>\n",
       "      <td>0.898329</td>\n",
       "      <td>0</td>\n",
       "      <td>0</td>\n",
       "      <td>2</td>\n",
       "      <td>0</td>\n",
       "      <td>0.000009</td>\n",
       "      <td>-0.0</td>\n",
       "    </tr>\n",
       "    <tr>\n",
       "      <th>334419</th>\n",
       "      <td>0</td>\n",
       "      <td>1</td>\n",
       "      <td>0.898329</td>\n",
       "      <td>0</td>\n",
       "      <td>0</td>\n",
       "      <td>3</td>\n",
       "      <td>0</td>\n",
       "      <td>0.000018</td>\n",
       "      <td>-0.0</td>\n",
       "    </tr>\n",
       "    <tr>\n",
       "      <th>187321</th>\n",
       "      <td>1</td>\n",
       "      <td>1</td>\n",
       "      <td>0.898188</td>\n",
       "      <td>1</td>\n",
       "      <td>0</td>\n",
       "      <td>3</td>\n",
       "      <td>0</td>\n",
       "      <td>0.000027</td>\n",
       "      <td>0.0</td>\n",
       "    </tr>\n",
       "    <tr>\n",
       "      <th>331764</th>\n",
       "      <td>0</td>\n",
       "      <td>1</td>\n",
       "      <td>0.896714</td>\n",
       "      <td>1</td>\n",
       "      <td>0</td>\n",
       "      <td>4</td>\n",
       "      <td>0</td>\n",
       "      <td>0.000036</td>\n",
       "      <td>0.0</td>\n",
       "    </tr>\n",
       "  </tbody>\n",
       "</table>\n",
       "</div>"
      ],
      "text/plain": [
       "        y_true  predict     proba  tp  tn  fp  fn  Instances   EV\n",
       "id                                                               \n",
       "261089       0        1  0.900234   0   0   1   0   0.000000 -0.0\n",
       "203714       0        1  0.898329   0   0   2   0   0.000009 -0.0\n",
       "334419       0        1  0.898329   0   0   3   0   0.000018 -0.0\n",
       "187321       1        1  0.898188   1   0   3   0   0.000027  0.0\n",
       "331764       0        1  0.896714   1   0   4   0   0.000036  0.0"
      ]
     },
     "execution_count": 378,
     "metadata": {},
     "output_type": "execute_result"
    }
   ],
   "source": [
    "lr_cost.head()"
   ]
  },
  {
   "cell_type": "markdown",
   "metadata": {},
   "source": [
    "### Random Forest\n",
    "___"
   ]
  },
  {
   "cell_type": "code",
   "execution_count": 379,
   "metadata": {},
   "outputs": [],
   "source": [
    "rfc_cost = df_cost.copy()\n",
    "rfc_cost['predict'] = rfc_predict\n",
    "rfc_cost['proba'] = rfc_proba\n",
    "rfc_cost = rfc_cost.sort_values(by='proba', ascending=False)"
   ]
  },
  {
   "cell_type": "code",
   "execution_count": 380,
   "metadata": {},
   "outputs": [
    {
     "data": {
      "text/plain": [
       "'End of calculation'"
      ]
     },
     "execution_count": 380,
     "metadata": {},
     "output_type": "execute_result"
    }
   ],
   "source": [
    "calculate_metrics(rfc_cost,cb)"
   ]
  },
  {
   "cell_type": "code",
   "execution_count": 381,
   "metadata": {},
   "outputs": [
    {
     "data": {
      "text/html": [
       "<div>\n",
       "<style scoped>\n",
       "    .dataframe tbody tr th:only-of-type {\n",
       "        vertical-align: middle;\n",
       "    }\n",
       "\n",
       "    .dataframe tbody tr th {\n",
       "        vertical-align: top;\n",
       "    }\n",
       "\n",
       "    .dataframe thead th {\n",
       "        text-align: right;\n",
       "    }\n",
       "</style>\n",
       "<table border=\"1\" class=\"dataframe\">\n",
       "  <thead>\n",
       "    <tr style=\"text-align: right;\">\n",
       "      <th></th>\n",
       "      <th>y_true</th>\n",
       "      <th>predict</th>\n",
       "      <th>proba</th>\n",
       "      <th>tp</th>\n",
       "      <th>tn</th>\n",
       "      <th>fp</th>\n",
       "      <th>fn</th>\n",
       "      <th>Instances</th>\n",
       "      <th>EV</th>\n",
       "    </tr>\n",
       "    <tr>\n",
       "      <th>id</th>\n",
       "      <th></th>\n",
       "      <th></th>\n",
       "      <th></th>\n",
       "      <th></th>\n",
       "      <th></th>\n",
       "      <th></th>\n",
       "      <th></th>\n",
       "      <th></th>\n",
       "      <th></th>\n",
       "    </tr>\n",
       "  </thead>\n",
       "  <tbody>\n",
       "    <tr>\n",
       "      <th>378484</th>\n",
       "      <td>0</td>\n",
       "      <td>1</td>\n",
       "      <td>0.84229</td>\n",
       "      <td>0</td>\n",
       "      <td>0</td>\n",
       "      <td>1</td>\n",
       "      <td>0</td>\n",
       "      <td>0.000000</td>\n",
       "      <td>-0.0</td>\n",
       "    </tr>\n",
       "    <tr>\n",
       "      <th>269002</th>\n",
       "      <td>1</td>\n",
       "      <td>1</td>\n",
       "      <td>0.84229</td>\n",
       "      <td>1</td>\n",
       "      <td>0</td>\n",
       "      <td>1</td>\n",
       "      <td>0</td>\n",
       "      <td>0.000009</td>\n",
       "      <td>0.0</td>\n",
       "    </tr>\n",
       "    <tr>\n",
       "      <th>121485</th>\n",
       "      <td>0</td>\n",
       "      <td>1</td>\n",
       "      <td>0.84229</td>\n",
       "      <td>1</td>\n",
       "      <td>0</td>\n",
       "      <td>2</td>\n",
       "      <td>0</td>\n",
       "      <td>0.000018</td>\n",
       "      <td>0.0</td>\n",
       "    </tr>\n",
       "    <tr>\n",
       "      <th>225715</th>\n",
       "      <td>0</td>\n",
       "      <td>1</td>\n",
       "      <td>0.84229</td>\n",
       "      <td>1</td>\n",
       "      <td>0</td>\n",
       "      <td>3</td>\n",
       "      <td>0</td>\n",
       "      <td>0.000027</td>\n",
       "      <td>0.0</td>\n",
       "    </tr>\n",
       "    <tr>\n",
       "      <th>112322</th>\n",
       "      <td>0</td>\n",
       "      <td>1</td>\n",
       "      <td>0.84229</td>\n",
       "      <td>1</td>\n",
       "      <td>0</td>\n",
       "      <td>4</td>\n",
       "      <td>0</td>\n",
       "      <td>0.000036</td>\n",
       "      <td>0.0</td>\n",
       "    </tr>\n",
       "  </tbody>\n",
       "</table>\n",
       "</div>"
      ],
      "text/plain": [
       "        y_true  predict    proba  tp  tn  fp  fn  Instances   EV\n",
       "id                                                              \n",
       "378484       0        1  0.84229   0   0   1   0   0.000000 -0.0\n",
       "269002       1        1  0.84229   1   0   1   0   0.000009  0.0\n",
       "121485       0        1  0.84229   1   0   2   0   0.000018  0.0\n",
       "225715       0        1  0.84229   1   0   3   0   0.000027  0.0\n",
       "112322       0        1  0.84229   1   0   4   0   0.000036  0.0"
      ]
     },
     "execution_count": 381,
     "metadata": {},
     "output_type": "execute_result"
    }
   ],
   "source": [
    "rfc_cost.head()"
   ]
  },
  {
   "cell_type": "markdown",
   "metadata": {},
   "source": [
    "### XGBoost\n",
    "___"
   ]
  },
  {
   "cell_type": "code",
   "execution_count": 382,
   "metadata": {},
   "outputs": [],
   "source": [
    "xgb_cost = df_cost.copy()\n",
    "xgb_cost['predict'] = xgb_predict\n",
    "xgb_cost['proba'] = xgb_proba\n",
    "xgb_cost = xgb_cost.sort_values(by='proba', ascending=False)"
   ]
  },
  {
   "cell_type": "code",
   "execution_count": 383,
   "metadata": {},
   "outputs": [
    {
     "data": {
      "text/plain": [
       "'End of calculation'"
      ]
     },
     "execution_count": 383,
     "metadata": {},
     "output_type": "execute_result"
    }
   ],
   "source": [
    "calculate_metrics(xgb_cost,cb)"
   ]
  },
  {
   "cell_type": "code",
   "execution_count": 384,
   "metadata": {},
   "outputs": [
    {
     "data": {
      "text/html": [
       "<div>\n",
       "<style scoped>\n",
       "    .dataframe tbody tr th:only-of-type {\n",
       "        vertical-align: middle;\n",
       "    }\n",
       "\n",
       "    .dataframe tbody tr th {\n",
       "        vertical-align: top;\n",
       "    }\n",
       "\n",
       "    .dataframe thead th {\n",
       "        text-align: right;\n",
       "    }\n",
       "</style>\n",
       "<table border=\"1\" class=\"dataframe\">\n",
       "  <thead>\n",
       "    <tr style=\"text-align: right;\">\n",
       "      <th></th>\n",
       "      <th>y_true</th>\n",
       "      <th>predict</th>\n",
       "      <th>proba</th>\n",
       "      <th>tp</th>\n",
       "      <th>tn</th>\n",
       "      <th>fp</th>\n",
       "      <th>fn</th>\n",
       "      <th>Instances</th>\n",
       "      <th>EV</th>\n",
       "    </tr>\n",
       "    <tr>\n",
       "      <th>id</th>\n",
       "      <th></th>\n",
       "      <th></th>\n",
       "      <th></th>\n",
       "      <th></th>\n",
       "      <th></th>\n",
       "      <th></th>\n",
       "      <th></th>\n",
       "      <th></th>\n",
       "      <th></th>\n",
       "    </tr>\n",
       "  </thead>\n",
       "  <tbody>\n",
       "    <tr>\n",
       "      <th>149327</th>\n",
       "      <td>0</td>\n",
       "      <td>1</td>\n",
       "      <td>0.907928</td>\n",
       "      <td>0</td>\n",
       "      <td>0</td>\n",
       "      <td>1</td>\n",
       "      <td>0</td>\n",
       "      <td>0.000000</td>\n",
       "      <td>-0.0</td>\n",
       "    </tr>\n",
       "    <tr>\n",
       "      <th>6294</th>\n",
       "      <td>0</td>\n",
       "      <td>1</td>\n",
       "      <td>0.905270</td>\n",
       "      <td>0</td>\n",
       "      <td>0</td>\n",
       "      <td>2</td>\n",
       "      <td>0</td>\n",
       "      <td>0.000009</td>\n",
       "      <td>-0.0</td>\n",
       "    </tr>\n",
       "    <tr>\n",
       "      <th>96650</th>\n",
       "      <td>0</td>\n",
       "      <td>1</td>\n",
       "      <td>0.897081</td>\n",
       "      <td>0</td>\n",
       "      <td>0</td>\n",
       "      <td>3</td>\n",
       "      <td>0</td>\n",
       "      <td>0.000018</td>\n",
       "      <td>-0.0</td>\n",
       "    </tr>\n",
       "    <tr>\n",
       "      <th>333436</th>\n",
       "      <td>0</td>\n",
       "      <td>1</td>\n",
       "      <td>0.897081</td>\n",
       "      <td>0</td>\n",
       "      <td>0</td>\n",
       "      <td>4</td>\n",
       "      <td>0</td>\n",
       "      <td>0.000027</td>\n",
       "      <td>-0.0</td>\n",
       "    </tr>\n",
       "    <tr>\n",
       "      <th>165609</th>\n",
       "      <td>1</td>\n",
       "      <td>1</td>\n",
       "      <td>0.897081</td>\n",
       "      <td>1</td>\n",
       "      <td>0</td>\n",
       "      <td>4</td>\n",
       "      <td>0</td>\n",
       "      <td>0.000036</td>\n",
       "      <td>0.0</td>\n",
       "    </tr>\n",
       "  </tbody>\n",
       "</table>\n",
       "</div>"
      ],
      "text/plain": [
       "        y_true  predict     proba  tp  tn  fp  fn  Instances   EV\n",
       "id                                                               \n",
       "149327       0        1  0.907928   0   0   1   0   0.000000 -0.0\n",
       "6294         0        1  0.905270   0   0   2   0   0.000009 -0.0\n",
       "96650        0        1  0.897081   0   0   3   0   0.000018 -0.0\n",
       "333436       0        1  0.897081   0   0   4   0   0.000027 -0.0\n",
       "165609       1        1  0.897081   1   0   4   0   0.000036  0.0"
      ]
     },
     "execution_count": 384,
     "metadata": {},
     "output_type": "execute_result"
    }
   ],
   "source": [
    "xgb_cost.head()"
   ]
  },
  {
   "cell_type": "markdown",
   "metadata": {},
   "source": [
    "Nota-se pelas curvas de lucro que:\n",
    "\n",
    "- Regressão Logística: lucro esperado de \\\\$289.8 com 31.73% das instâncias, correspondendo a 35291 clientes\n",
    "- Random Forest: lucro esperado de \\\\$342.1 com 40.02% do número de instâncias de teste, o que representa 44515 clientes\n",
    "- XGBoost: lucro esperado máximo de \\\\$303.7 com 31.42% do total de instâncias, o que representa 34947 clientes. \n",
    "\n",
    "Portanto, avaliando todas as instâncias de test, o lucro esperado máximo de \\\\$342.1 seria encontrado com o classificador Random Forest."
   ]
  },
  {
   "cell_type": "code",
   "execution_count": 393,
   "metadata": {},
   "outputs": [
    {
     "data": {
      "image/png": "[encoded data removed]",
      "text/plain": [
       "<Figure size 1008x432 with 1 Axes>"
      ]
     },
     "metadata": {},
     "output_type": "display_data"
    }
   ],
   "source": [
    "fig, ax=plt.subplots(figsize=(14,6))\n",
    "ax.plot(lr_cost['Instances'],lr_cost['EV'], linestyle='--', label='Logistic Regression')\n",
    "ax.plot(rfc_cost['Instances'],rfc_cost['EV'], linestyle='--', label='Random Forest')\n",
    "ax.plot(xgb_cost['Instances'],xgb_cost['EV'], linestyle='--', label='XGBoost')\n",
    "plt.legend()\n",
    "ax.set(title='Curvas de Lucro', xlabel='Porcentagem de instâncias de teste',\n",
    "      ylabel='Lucro ($)');"
   ]
  },
  {
   "cell_type": "code",
   "execution_count": 395,
   "metadata": {},
   "outputs": [
    {
     "name": "stdout",
     "output_type": "stream",
     "text": [
      "Regressão Logística: Lucro máximo esperado de $289.8 com 31.73% das instâncias (35291 clientes)\n"
     ]
    }
   ],
   "source": [
    "print('Regressão Logística: Lucro máximo esperado de ${} com {}% das instâncias ({} clientes)'.format(\n",
    "    lr_cost.query('tp == 10458').head(1)['EV'].values[0],\n",
    "    round(lr_cost.query('tp == 10458').head(1)['Instances'].values[0]*100,2),\n",
    "    round((lr_cost.query('tp == 10458').head(1)['Instances'].values*lr_cost.shape[0])[0]))\n",
    ")"
   ]
  },
  {
   "cell_type": "code",
   "execution_count": 387,
   "metadata": {},
   "outputs": [
    {
     "name": "stdout",
     "output_type": "stream",
     "text": [
      "Random Forest: Lucro máximo esperado de $342.1 com 40.02% das instâncias (44515 clientes)\n"
     ]
    }
   ],
   "source": [
    "print('Random Forest: Lucro máximo esperado de ${} com {}% das instâncias ({} clientes)'.format(\n",
    "    rfc_cost.query('tp == 12382').head(1)['EV'].values[0],\n",
    "    round(rfc_cost.query('tp == 12382').head(1)['Instances'].values[0]*100,2),\n",
    "    round((rfc_cost.query('tp == 12382').head(1)['Instances'].values*rfc_cost.shape[0])[0]))\n",
    ")"
   ]
  },
  {
   "cell_type": "code",
   "execution_count": 388,
   "metadata": {},
   "outputs": [
    {
     "name": "stdout",
     "output_type": "stream",
     "text": [
      "XGBoost: Lucro máximo esperado de $303.7 com 31.42% das instâncias (34947 clientes)\n"
     ]
    }
   ],
   "source": [
    "print('XGBoost: Lucro máximo esperado de ${} com {}% das instâncias ({} clientes)'.format(\n",
    "    xgb_cost.query('tp==10933').head(1)['EV'].values[0],\n",
    "    round(xgb_cost.query('tp==10933').head(1)['Instances'].values[0]*100,2),\n",
    "    round((xgb_cost.query('tp==10933').head(1)['Instances'].values*xgb_cost.shape[0])[0]))\n",
    ")"
   ]
  },
  {
   "cell_type": "markdown",
   "metadata": {},
   "source": [
    "Analisando as figuras abaixo, as quais apontam as diferenças para TP e FP para os modelos, nota-se que o classificador Random Forest possui uma maior taxa de FP, entretanto, possui também uma maior taxa de TP, a qual culminou em um maior lucro esperado, alcançado em aproximadamente 40% das instâncias. \n",
    "Já o classificado XGBoost apresentou menor taxa de TP e FP, o que aponta para um menor lucro esperado, porém alcançado com menos instâncias (platô pouco após 20% de instâncias).\n",
    "Por fim, o modelo de Regressão Logística, como visto acima, apresentou resultados intermediários, também em relação ao número de instâncias para platô.\n",
    "\n",
    "É interessante notar que, após a realização do rankeamento, os classificadores apresentaram tendências semelhantes de platô, onde as taxas de TP e FP se mantêm constantes."
   ]
  },
  {
   "cell_type": "code",
   "execution_count": 389,
   "metadata": {},
   "outputs": [
    {
     "data": {
      "image/png": "[encoded data removed]",
      "text/plain": [
       "<Figure size 1008x432 with 3 Axes>"
      ]
     },
     "metadata": {},
     "output_type": "display_data"
    }
   ],
   "source": [
    "fig, axes = plt.subplots(1,3,figsize=(14,6), sharey=True)\n",
    "metrics = ['tp','tn','fp','fn']\n",
    "titles = ['TP','TN','FP','FN']\n",
    "# LR\n",
    "for metric,title in zip(metrics,titles):\n",
    "    axes[0].plot(lr_cost['Instances'], lr_cost[metric], label=title)\n",
    "    axes[1].plot(rfc_cost['Instances'], rfc_cost[metric], label=title)\n",
    "    axes[2].plot(xgb_cost['Instances'], xgb_cost[metric], label=title)\n",
    "    \n",
    "axes[0].legend(loc='upper left')\n",
    "axes[0].set(title='Regressão Logística', xlabel='% Instâncias', ylabel='Contagem')\n",
    "# RFC\n",
    "axes[1].legend(loc='upper left')\n",
    "axes[1].set(title='Random Forest',xlabel='% Instâncias')\n",
    "# XGB\n",
    "axes[2].legend(loc='upper left')\n",
    "axes[2].set(title='XGBoost', xlabel='% Instâncias')\n",
    "\n",
    "plt.subplots_adjust(wspace=0.25)\n",
    "plt.show()"
   ]
  },
  {
   "cell_type": "markdown",
   "metadata": {},
   "source": [
    "### 3.2.2. Constrained Budget\n",
    "___\n",
    "Considerando o caso em que se possui uma restrição orçamentária para a campanha de retenção, como, por exemplo \\\\$150,000. Nesse caso, como casa oferta de retenção custa \\\\$42.8, temos que:\n",
    "\n",
    "$$ n_{ofertas} = \\frac{orçamento}{custo} = \\frac{\\\\$150000}{\\\\$42.8} = \\approx 3505$$\n",
    "\n",
    "Nesse escopo, teríamos que a porcentagem de instâncias de teste seria $n_{ofertas}/n_{clientes} \\to 3505/111237 \\to $3.15%, o classificador XGBoost apresenta o maio lucro esperado, como visto abaixo e comentado acima."
   ]
  },
  {
   "cell_type": "code",
   "execution_count": 390,
   "metadata": {},
   "outputs": [
    {
     "data": {
      "image/png": "[encoded data removed]",
      "text/plain": [
       "<Figure size 1008x432 with 1 Axes>"
      ]
     },
     "metadata": {},
     "output_type": "display_data"
    }
   ],
   "source": [
    "fig, ax=plt.subplots(figsize=(14,6))\n",
    "ax.plot(lr_cost['Instances'][:3505],lr_cost['EV'][:3505], linestyle='--', label='Logistic Regression')\n",
    "ax.plot(rfc_cost['Instances'][:3505],rfc_cost['EV'][:3505], linestyle='--', label='Random Forest')\n",
    "ax.plot(xgb_cost['Instances'][:3505],xgb_cost['EV'][:3505], linestyle='--', label='XGBoost')\n",
    "plt.legend()\n",
    "ax.set(title='Curvas de Lucro', xlabel='Porcentagem de instâncias de teste',\n",
    "      ylabel='Lucro ($)');"
   ]
  },
  {
   "cell_type": "markdown",
   "metadata": {},
   "source": [
    "### 3.2.3. ROI\n",
    "___\n",
    "\n",
    "O retorno sobre investimento pode ser calculado como:\n",
    "\n",
    "$$ROI = \\frac{retorno}{investimento} \\to \\frac{retenção}{marketing}$$\n",
    "\n",
    "Considerando, portanto, o cenário com restrição de orçamento, onde o marketing foi aplicado a 3.15% dos clientes i.e. 3505 clientes, temos um custo de, claramente, \\\\$150000 e, de acordo com o gráfico, utilizando o modelo XGBoost, temos um (máximo) lucro esperado de \\\\$42.3. Nesse caso:\n",
    "\n",
    "$$ROI = \\frac{42.3}{150000} \\to 0.03\\%$$\n",
    "\n",
    "Ou seja, o ROI da campanha de marketing é extremamente baixo, de apenas 0.03%."
   ]
  },
  {
   "cell_type": "code",
   "execution_count": 391,
   "metadata": {},
   "outputs": [
    {
     "name": "stdout",
     "output_type": "stream",
     "text": [
      "XGBoost: Lucro esperado para 3.15% dos clientes: $42.3\n"
     ]
    }
   ],
   "source": [
    "print('XGBoost: Lucro esperado para 3.15% dos clientes: ${}'.format(\n",
    "    round(xgb_cost.iloc[3505,:]['EV'],2))\n",
    ")"
   ]
  },
  {
   "cell_type": "markdown",
   "metadata": {},
   "source": [
    "### 3.2.4. Perda de Receita\n",
    "___\n",
    "Calculando rapidamente a perda de receita, desconsiderando os modelos e apenas os dados reais de teste, teríamos que a perda de receita para empresa seria a multiplicação entre número $n$ de clientes que não apresentaram interesse no seguro i.e. Response=0, e o LTV do cliente, ou seja, o prêmio, considerado o valor médio utilizado na matriz de custo-benefício, de \\\\$1483.2."
   ]
  },
  {
   "cell_type": "code",
   "execution_count": 392,
   "metadata": {},
   "outputs": [
    {
     "name": "stdout",
     "output_type": "stream",
     "text": [
      "Perda de receita: $145003564.8\n"
     ]
    }
   ],
   "source": [
    "print('Perda de receita: ${}'.format(\n",
    "    round(np.unique(y_test, return_counts=True)[1][0] * 1483.2,2))\n",
    "     )"
   ]
  },
  {
   "cell_type": "markdown",
   "metadata": {},
   "source": [
    "# 4. Sumarização\n",
    "____\n",
    "\n",
    "Entre as métricas:\n",
    "\n",
    "- ROC-AUC: XGBoost\n",
    "- Valor Esperado: Random Forest\n",
    "- Curvas de Lucro: Random Forest\n",
    "\n",
    "Portanto, nota-se que o melhor modelo em função do problema de negócio seria o modelo Random Forest, o qual se mostrou melhor em 2 das 3 métricas utilizadas na análise, e será, portanto, o modelo a ser utilizado na próxima fase do projeto: previsão de um novo dataset."
   ]
  },
  {
   "cell_type": "markdown",
   "metadata": {},
   "source": [
    "# 5. Salvar modelo\n",
    "___\n",
    "\n",
    "Salvar o modelo para posterior utilização em novos dados"
   ]
  },
  {
   "cell_type": "code",
   "execution_count": 396,
   "metadata": {},
   "outputs": [],
   "source": [
    "import pickle"
   ]
  },
  {
   "cell_type": "code",
   "execution_count": 397,
   "metadata": {},
   "outputs": [],
   "source": [
    "pickle.dump(rfc, open('rfc','wb'))"
   ]
  },
  {
   "cell_type": "code",
   "execution_count": null,
   "metadata": {},
   "outputs": [],
   "source": []
  }
 ],
 "metadata": {
  "kernelspec": {
   "display_name": "Python 3",
   "language": "python",
   "name": "python3"
  },
  "language_info": {
   "codemirror_mode": {
    "name": "ipython",
    "version": 3
   },
   "file_extension": ".py",
   "mimetype": "text/x-python",
   "name": "python",
   "nbconvert_exporter": "python",
   "pygments_lexer": "ipython3",
   "version": "3.8.3"
  }
 },
 "nbformat": 4,
 "nbformat_minor": 4
}
