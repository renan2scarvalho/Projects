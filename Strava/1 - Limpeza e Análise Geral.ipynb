{
 "cells": [
  {
   "cell_type": "markdown",
   "metadata": {},
   "source": [
    "# Limpeza dos Dados e Análise Geral\n",
    "\n",
    "O presente notebook tem como foco realizar a limpeza do dataset proveniente das atividades físicas (pedalada e corrida) do aplicativo Strava\n",
    "O dataset foi baixado diretamente da página do app, e algumas colunas que não possuíam dados foram previamente excluídas.\\\n",
    "\n",
    "Algumas análises gerais são apresentadas ao fim do notebook, com pedaladas e corridas consieradas juntas."
   ]
  },
  {
   "cell_type": "markdown",
   "metadata": {},
   "source": [
    "- O primeiro passo é, portanto, adicionar as bibliotecas que serão utilizadas ao longo das análises:"
   ]
  },
  {
   "cell_type": "code",
   "execution_count": 1,
   "metadata": {},
   "outputs": [],
   "source": [
    "%matplotlib inline\n",
    "\n",
    "import pandas as pd\n",
    "import numpy as np\n",
    "import matplotlib.pyplot as plt\n",
    "import seaborn as sns\n",
    "from datetime import *\n",
    "import time\n",
    "from IPython import display\n",
    "from xml.dom import minidom\n",
    "import math\n",
    "import warnings as wn\n",
    "\n",
    "wn.filterwarnings('ignore')\n",
    "\n",
    "plt.style.use('ggplot')\n",
    "sns.set_style('whitegrid')"
   ]
  },
  {
   "cell_type": "markdown",
   "metadata": {},
   "source": [
    "- Aplicar 3 casa decimais à todos os dataframes:"
   ]
  },
  {
   "cell_type": "code",
   "execution_count": 2,
   "metadata": {},
   "outputs": [],
   "source": [
    "pd.options.display.float_format = '{:,.3f}'.format"
   ]
  },
  {
   "cell_type": "markdown",
   "metadata": {},
   "source": [
    "- Ler o dataset `activities`, e mostrar as 5 primeiras linhas:"
   ]
  },
  {
   "cell_type": "code",
   "execution_count": 3,
   "metadata": {},
   "outputs": [],
   "source": [
    "df = pd.read_csv('activities.csv')"
   ]
  },
  {
   "cell_type": "code",
   "execution_count": 4,
   "metadata": {},
   "outputs": [
    {
     "data": {
      "text/html": [
       "<div>\n",
       "<style scoped>\n",
       "    .dataframe tbody tr th:only-of-type {\n",
       "        vertical-align: middle;\n",
       "    }\n",
       "\n",
       "    .dataframe tbody tr th {\n",
       "        vertical-align: top;\n",
       "    }\n",
       "\n",
       "    .dataframe thead th {\n",
       "        text-align: right;\n",
       "    }\n",
       "</style>\n",
       "<table border=\"1\" class=\"dataframe\">\n",
       "  <thead>\n",
       "    <tr style=\"text-align: right;\">\n",
       "      <th></th>\n",
       "      <th>ID da atividade</th>\n",
       "      <th>Data da atividade</th>\n",
       "      <th>Nome da atividade</th>\n",
       "      <th>Tipo de atividade</th>\n",
       "      <th>Tempo decorrido</th>\n",
       "      <th>Distância</th>\n",
       "      <th>Nome do arquivo</th>\n",
       "      <th>Tempo decorrido.1</th>\n",
       "      <th>Tempo de movimentação</th>\n",
       "      <th>Distância.1</th>\n",
       "      <th>Velocidade máx.</th>\n",
       "      <th>Ganho de elevação</th>\n",
       "      <th>Elevação mínima</th>\n",
       "      <th>Elevação máxima</th>\n",
       "      <th>Inclinação máxima</th>\n",
       "      <th>Inclinação média</th>\n",
       "    </tr>\n",
       "  </thead>\n",
       "  <tbody>\n",
       "    <tr>\n",
       "      <th>0</th>\n",
       "      <td>1961127693</td>\n",
       "      <td>12 de nov de 2018 20:09:58</td>\n",
       "      <td>Lab-Bandeco</td>\n",
       "      <td>Pedalada</td>\n",
       "      <td>713</td>\n",
       "      <td>3.110</td>\n",
       "      <td>activities/1961127693.gpx</td>\n",
       "      <td>713</td>\n",
       "      <td>664</td>\n",
       "      <td>3,118.200</td>\n",
       "      <td>7.200</td>\n",
       "      <td>52.165</td>\n",
       "      <td>611.600</td>\n",
       "      <td>654.000</td>\n",
       "      <td>10.100</td>\n",
       "      <td>1.164</td>\n",
       "    </tr>\n",
       "    <tr>\n",
       "      <th>1</th>\n",
       "      <td>1961222122</td>\n",
       "      <td>12 de nov de 2018 20:56:21</td>\n",
       "      <td>Bandeco-Rep</td>\n",
       "      <td>Pedalada</td>\n",
       "      <td>967</td>\n",
       "      <td>5.790</td>\n",
       "      <td>activities/1961222122.gpx</td>\n",
       "      <td>967</td>\n",
       "      <td>963</td>\n",
       "      <td>5,798.700</td>\n",
       "      <td>12.500</td>\n",
       "      <td>48.106</td>\n",
       "      <td>582.000</td>\n",
       "      <td>654.100</td>\n",
       "      <td>10.500</td>\n",
       "      <td>-0.828</td>\n",
       "    </tr>\n",
       "    <tr>\n",
       "      <th>2</th>\n",
       "      <td>1961955647</td>\n",
       "      <td>13 de nov de 2018 09:35:55</td>\n",
       "      <td>Rep-Lab</td>\n",
       "      <td>Pedalada</td>\n",
       "      <td>1510</td>\n",
       "      <td>6.120</td>\n",
       "      <td>activities/1961955647.gpx</td>\n",
       "      <td>1510</td>\n",
       "      <td>1206</td>\n",
       "      <td>6,126.300</td>\n",
       "      <td>10.900</td>\n",
       "      <td>67.473</td>\n",
       "      <td>580.600</td>\n",
       "      <td>619.900</td>\n",
       "      <td>10.200</td>\n",
       "      <td>0.186</td>\n",
       "    </tr>\n",
       "    <tr>\n",
       "      <th>3</th>\n",
       "      <td>1963151981</td>\n",
       "      <td>13 de nov de 2018 20:19:09</td>\n",
       "      <td>Lab-Bandeco</td>\n",
       "      <td>Pedalada</td>\n",
       "      <td>682</td>\n",
       "      <td>3.150</td>\n",
       "      <td>activities/1963151981.gpx</td>\n",
       "      <td>682</td>\n",
       "      <td>675</td>\n",
       "      <td>3,158.000</td>\n",
       "      <td>7.500</td>\n",
       "      <td>52.305</td>\n",
       "      <td>611.400</td>\n",
       "      <td>654.000</td>\n",
       "      <td>10.200</td>\n",
       "      <td>1.159</td>\n",
       "    </tr>\n",
       "    <tr>\n",
       "      <th>4</th>\n",
       "      <td>1963151998</td>\n",
       "      <td>13 de nov de 2018 21:13:23</td>\n",
       "      <td>Bandeco-Rep</td>\n",
       "      <td>Pedalada</td>\n",
       "      <td>870</td>\n",
       "      <td>5.750</td>\n",
       "      <td>activities/1963151998.gpx</td>\n",
       "      <td>870</td>\n",
       "      <td>870</td>\n",
       "      <td>5,753.100</td>\n",
       "      <td>12.300</td>\n",
       "      <td>47.461</td>\n",
       "      <td>582.000</td>\n",
       "      <td>654.000</td>\n",
       "      <td>9.500</td>\n",
       "      <td>-0.853</td>\n",
       "    </tr>\n",
       "  </tbody>\n",
       "</table>\n",
       "</div>"
      ],
      "text/plain": [
       "   ID da atividade           Data da atividade Nome da atividade  \\\n",
       "0       1961127693  12 de nov de 2018 20:09:58       Lab-Bandeco   \n",
       "1       1961222122  12 de nov de 2018 20:56:21       Bandeco-Rep   \n",
       "2       1961955647  13 de nov de 2018 09:35:55           Rep-Lab   \n",
       "3       1963151981  13 de nov de 2018 20:19:09       Lab-Bandeco   \n",
       "4       1963151998  13 de nov de 2018 21:13:23       Bandeco-Rep   \n",
       "\n",
       "  Tipo de atividade  Tempo decorrido  Distância            Nome do arquivo  \\\n",
       "0          Pedalada              713      3.110  activities/1961127693.gpx   \n",
       "1          Pedalada              967      5.790  activities/1961222122.gpx   \n",
       "2          Pedalada             1510      6.120  activities/1961955647.gpx   \n",
       "3          Pedalada              682      3.150  activities/1963151981.gpx   \n",
       "4          Pedalada              870      5.750  activities/1963151998.gpx   \n",
       "\n",
       "   Tempo decorrido.1  Tempo de movimentação  Distância.1  Velocidade máx.  \\\n",
       "0                713                    664    3,118.200            7.200   \n",
       "1                967                    963    5,798.700           12.500   \n",
       "2               1510                   1206    6,126.300           10.900   \n",
       "3                682                    675    3,158.000            7.500   \n",
       "4                870                    870    5,753.100           12.300   \n",
       "\n",
       "   Ganho de elevação  Elevação mínima  Elevação máxima  Inclinação máxima  \\\n",
       "0             52.165          611.600          654.000             10.100   \n",
       "1             48.106          582.000          654.100             10.500   \n",
       "2             67.473          580.600          619.900             10.200   \n",
       "3             52.305          611.400          654.000             10.200   \n",
       "4             47.461          582.000          654.000              9.500   \n",
       "\n",
       "   Inclinação média  \n",
       "0             1.164  \n",
       "1            -0.828  \n",
       "2             0.186  \n",
       "3             1.159  \n",
       "4            -0.853  "
      ]
     },
     "execution_count": 4,
     "metadata": {},
     "output_type": "execute_result"
    }
   ],
   "source": [
    "df.head()"
   ]
  },
  {
   "cell_type": "markdown",
   "metadata": {},
   "source": [
    "# 1. Limpeza dos Dados\n",
    "\n",
    "A etapa de limpeza dos dados visa detectar e corrigir dados que estejam corrompidos e/ou errados, valores faltantes, como também deletar dados irrelevantes."
   ]
  },
  {
   "cell_type": "markdown",
   "metadata": {},
   "source": [
    "1 -  Drop em variáveis irrelevantes:"
   ]
  },
  {
   "cell_type": "code",
   "execution_count": 5,
   "metadata": {},
   "outputs": [],
   "source": [
    "df.drop(['ID da atividade','Nome da atividade','Tempo decorrido.1'], axis=1, inplace=True)"
   ]
  },
  {
   "cell_type": "markdown",
   "metadata": {},
   "source": [
    "2 - Renomear algumas colunas, adicionando suas respectivas unidades:"
   ]
  },
  {
   "cell_type": "code",
   "execution_count": 6,
   "metadata": {},
   "outputs": [],
   "source": [
    "df = df.rename(columns={'Tempo decorrido':'Tempo decorrido (s)', \n",
    "                   'Tempo de movimentação':'Tempo de movimentação (s)',\n",
    "                    'Distância':'Distância (km)','Distância.1':'Distância (m)',\n",
    "                  'Nome do arquivo':'Arquivo gpx','Velocidade máx.':'Velocidade máx. (m/s)',\n",
    "                  'Ganho de elevação':'Ganho de elevação (m)',\n",
    "                  'Elevação mínima':'Elevação mínima (m)','Elevação máxima':'Elevação máxima (m)',\n",
    "                  'Inclinação máxima':'Inclinação máxima (graus)',\n",
    "                  'Inclinação média':'Inclinação média (graus)'})"
   ]
  },
  {
   "cell_type": "markdown",
   "metadata": {},
   "source": [
    "3 - Checar se existem valores nulos em alguma das variáveis:"
   ]
  },
  {
   "cell_type": "code",
   "execution_count": 7,
   "metadata": {},
   "outputs": [
    {
     "data": {
      "text/plain": [
       "Data da atividade            0\n",
       "Tipo de atividade            0\n",
       "Tempo decorrido (s)          0\n",
       "Distância (km)               0\n",
       "Arquivo gpx                  0\n",
       "Tempo de movimentação (s)    0\n",
       "Distância (m)                0\n",
       "Velocidade máx. (m/s)        0\n",
       "Ganho de elevação (m)        0\n",
       "Elevação mínima (m)          0\n",
       "Elevação máxima (m)          0\n",
       "Inclinação máxima (graus)    0\n",
       "Inclinação média (graus)     0\n",
       "dtype: int64"
      ]
     },
     "execution_count": 7,
     "metadata": {},
     "output_type": "execute_result"
    }
   ],
   "source": [
    "df.isnull().sum()"
   ]
  },
  {
   "cell_type": "markdown",
   "metadata": {},
   "source": [
    "Nota-se que não existem valores nulos para nenhum das variáveis."
   ]
  },
  {
   "cell_type": "markdown",
   "metadata": {},
   "source": [
    "4 - Checar os tipos de dados de cada coluna:"
   ]
  },
  {
   "cell_type": "code",
   "execution_count": 8,
   "metadata": {},
   "outputs": [
    {
     "name": "stdout",
     "output_type": "stream",
     "text": [
      "<class 'pandas.core.frame.DataFrame'>\n",
      "RangeIndex: 175 entries, 0 to 174\n",
      "Data columns (total 13 columns):\n",
      " #   Column                     Non-Null Count  Dtype  \n",
      "---  ------                     --------------  -----  \n",
      " 0   Data da atividade          175 non-null    object \n",
      " 1   Tipo de atividade          175 non-null    object \n",
      " 2   Tempo decorrido (s)        175 non-null    int64  \n",
      " 3   Distância (km)             175 non-null    float64\n",
      " 4   Arquivo gpx                175 non-null    object \n",
      " 5   Tempo de movimentação (s)  175 non-null    int64  \n",
      " 6   Distância (m)              175 non-null    float64\n",
      " 7   Velocidade máx. (m/s)      175 non-null    float64\n",
      " 8   Ganho de elevação (m)      175 non-null    float64\n",
      " 9   Elevação mínima (m)        175 non-null    float64\n",
      " 10  Elevação máxima (m)        175 non-null    float64\n",
      " 11  Inclinação máxima (graus)  175 non-null    float64\n",
      " 12  Inclinação média (graus)   175 non-null    float64\n",
      "dtypes: float64(8), int64(2), object(3)\n",
      "memory usage: 17.9+ KB\n"
     ]
    }
   ],
   "source": [
    "df.info()"
   ]
  },
  {
   "cell_type": "markdown",
   "metadata": {},
   "source": [
    "Apenas as variáveis objeto estão fora de padrão, e serão convertidas agora. Por hora, a variável `Data da atividade` será mantida como string, assim como as demais:"
   ]
  },
  {
   "cell_type": "code",
   "execution_count": 9,
   "metadata": {},
   "outputs": [],
   "source": [
    "# Data da atividade\n",
    "df['Data da atividade'] = df['Data da atividade'].astype(str)\n",
    "\n",
    "# Tipo de atividade\n",
    "df['Tipo de atividade'] = df['Tipo de atividade'].astype(str)\n",
    "\n",
    "# Arquivo gpx\n",
    "df['Arquivo gpx'] = df['Arquivo gpx'].astype(str)"
   ]
  },
  {
   "cell_type": "markdown",
   "metadata": {},
   "source": [
    "5 - A seguir, checar se existem valores zero para alguma das variáveis:"
   ]
  },
  {
   "cell_type": "code",
   "execution_count": 10,
   "metadata": {},
   "outputs": [
    {
     "data": {
      "text/plain": [
       "Data da atividade            False\n",
       "Tipo de atividade            False\n",
       "Tempo decorrido (s)          False\n",
       "Distância (km)               False\n",
       "Arquivo gpx                  False\n",
       "Tempo de movimentação (s)    False\n",
       "Distância (m)                False\n",
       "Velocidade máx. (m/s)        False\n",
       "Ganho de elevação (m)        False\n",
       "Elevação mínima (m)          False\n",
       "Elevação máxima (m)          False\n",
       "Inclinação máxima (graus)    False\n",
       "Inclinação média (graus)      True\n",
       "dtype: bool"
      ]
     },
     "execution_count": 10,
     "metadata": {},
     "output_type": "execute_result"
    }
   ],
   "source": [
    "df.eq(0).any()"
   ]
  },
  {
   "cell_type": "markdown",
   "metadata": {},
   "source": [
    "Única variável com valores zero é `Inclinação média (graus)`, mas não é um problema."
   ]
  },
  {
   "cell_type": "markdown",
   "metadata": {},
   "source": [
    "6 - Próximo passo é separar Data Geral entre Data e Hora, para posterior análise temporal:"
   ]
  },
  {
   "cell_type": "code",
   "execution_count": 11,
   "metadata": {},
   "outputs": [],
   "source": [
    "data = np.array(df['Data da atividade'].tolist()) # as np\n",
    "\n",
    "d=[]; m=[]; y_h=[]\n",
    "for el in data:\n",
    "    d.append(el.split(' de ')[0]) # dia\n",
    "    m.append(el.split(' de ')[1]) # mês\n",
    "    y_h.append(el.split(' de ')[2]) # ano + hora\n",
    "\n",
    "y=[]; h=[];\n",
    "for el in y_h:\n",
    "    y.append(el.split(' ')[0]) # ano\n",
    "    h.append(el.split(' ')[1]) # hora\n",
    "    "
   ]
  },
  {
   "cell_type": "markdown",
   "metadata": {},
   "source": [
    "- Mapear mês:"
   ]
  },
  {
   "cell_type": "code",
   "execution_count": 12,
   "metadata": {},
   "outputs": [],
   "source": [
    "map_mes = {'jan':'01','fev':'02','mar':'03','abr':'04','mai':'05','jun':'06',\n",
    "           'jul':'07','ago':'08','set':'09','out':'10','nov':'11','dez':'12'\n",
    "          }\n",
    "\n",
    "m = [map_mes[key] for key in m]"
   ]
  },
  {
   "cell_type": "markdown",
   "metadata": {},
   "source": [
    "- Juntar ano, mês e dia:"
   ]
  },
  {
   "cell_type": "code",
   "execution_count": 13,
   "metadata": {},
   "outputs": [],
   "source": [
    "data = []\n",
    "\n",
    "for i in range(len(y)):\n",
    "    data.append(y[i]+'-'+m[i]+'-'+d[i])"
   ]
  },
  {
   "cell_type": "markdown",
   "metadata": {},
   "source": [
    "- Agora que temos novas colunas com Data e Hora, podemos remover a coluna `Data da atividade`, que possuía a data geral:"
   ]
  },
  {
   "cell_type": "code",
   "execution_count": 14,
   "metadata": {},
   "outputs": [],
   "source": [
    "df.drop(['Data da atividade'],axis=1,inplace=True)"
   ]
  },
  {
   "cell_type": "markdown",
   "metadata": {},
   "source": [
    "- Atribuir os valores de data e hora para as variáveis `Data da atividade` e `Hora da atividade`, respectivamente:"
   ]
  },
  {
   "cell_type": "code",
   "execution_count": 15,
   "metadata": {},
   "outputs": [],
   "source": [
    "df['Data da atividade'] = data\n",
    "df['Hora da atividade'] = h"
   ]
  },
  {
   "cell_type": "markdown",
   "metadata": {},
   "source": [
    "- Transformar ambas variáveis para datetime do Pandas:"
   ]
  },
  {
   "cell_type": "code",
   "execution_count": 16,
   "metadata": {},
   "outputs": [],
   "source": [
    "df['Data da atividade'] = pd.to_datetime(df['Data da atividade'], format='%Y-%m-%d')"
   ]
  },
  {
   "cell_type": "code",
   "execution_count": 17,
   "metadata": {},
   "outputs": [],
   "source": [
    "df['Hora da atividade'] = pd.to_datetime(df['Hora da atividade'], format='%H:%M:%S')"
   ]
  },
  {
   "cell_type": "markdown",
   "metadata": {},
   "source": [
    "- Coloca a variável `Data da atividade` como índice:"
   ]
  },
  {
   "cell_type": "code",
   "execution_count": 18,
   "metadata": {},
   "outputs": [],
   "source": [
    "df = df.set_index(['Data da atividade'])"
   ]
  },
  {
   "cell_type": "markdown",
   "metadata": {},
   "source": [
    "- Criação de uma função para calcular a hora somente (formato anterior estava com ano 1900), e aplica função:"
   ]
  },
  {
   "cell_type": "code",
   "execution_count": 19,
   "metadata": {},
   "outputs": [],
   "source": [
    "def calc_horas(df,lista):\n",
    "    for i in range(df.shape[0]):\n",
    "        lista.append(df.iloc[i,12].hour)"
   ]
  },
  {
   "cell_type": "code",
   "execution_count": 20,
   "metadata": {},
   "outputs": [],
   "source": [
    "hora = []\n",
    "\n",
    "calc_horas(df,hora)"
   ]
  },
  {
   "cell_type": "markdown",
   "metadata": {},
   "source": [
    "- Novamente atribui os valores de hora para a variável anteriormente criada `Hora da atividade`:"
   ]
  },
  {
   "cell_type": "code",
   "execution_count": 21,
   "metadata": {},
   "outputs": [],
   "source": [
    "df['Hora da atividade'] = hora"
   ]
  },
  {
   "cell_type": "markdown",
   "metadata": {},
   "source": [
    "7 - Deixar somente o nome dos arquivos gpx, que serão utilizados nas animações:"
   ]
  },
  {
   "cell_type": "code",
   "execution_count": 22,
   "metadata": {},
   "outputs": [],
   "source": [
    "gpx = df['Arquivo gpx'].tolist()\n",
    "\n",
    "n_gpx = []\n",
    "for el in gpx:\n",
    "    n_gpx.append(el.split(\"/\")[1])"
   ]
  },
  {
   "cell_type": "code",
   "execution_count": 23,
   "metadata": {},
   "outputs": [],
   "source": [
    "df['Arquivo gpx'] = n_gpx"
   ]
  },
  {
   "cell_type": "markdown",
   "metadata": {},
   "source": [
    "8 - Criar variável `Velocidade média (m/s)` através da razão entre distância e tempo de movimentação (detalhe que aqui é utilizada a variável `Tempo de movimenação (s)`, e não a variável `Tempo decorrido (s)`, que remete ao tempo total da atividade:"
   ]
  },
  {
   "cell_type": "code",
   "execution_count": 24,
   "metadata": {},
   "outputs": [],
   "source": [
    "df['Velocidade média (m/s)'] = df['Distância (m)']/df['Tempo de movimentação (s)']"
   ]
  },
  {
   "cell_type": "markdown",
   "metadata": {},
   "source": [
    "9 - Criar variável `Tempo parado (s)`, sendo a subtração do tempo total e tempo de movimentação da atividade:"
   ]
  },
  {
   "cell_type": "code",
   "execution_count": 25,
   "metadata": {},
   "outputs": [],
   "source": [
    "df['Tempo parado (s)'] = df['Tempo decorrido (s)'] - df['Tempo de movimentação (s)']"
   ]
  },
  {
   "cell_type": "markdown",
   "metadata": {},
   "source": [
    "10 - Criar variável `Distância acumulada (km)`, segmentada de acordo com o tipo de atividade i.e. pedalada ou corrida:"
   ]
  },
  {
   "cell_type": "code",
   "execution_count": 26,
   "metadata": {},
   "outputs": [],
   "source": [
    "dist = np.array(df['Distância (km)'].tolist())\n",
    "dist_pedalada = np.zeros(dist.shape) \n",
    "dist_corrida = np.zeros(dist.shape)\n",
    "atividade = np.array(df['Tipo de atividade'].tolist())\n",
    "\n",
    "for i in range(atividade.shape[0]):\n",
    "    \n",
    "    if atividade[i]=='Pedalada':\n",
    "        dist_pedalada[i]=dist[i]\n",
    "        \n",
    "    elif atividade[i]=='Corrida':\n",
    "        dist_corrida[i]=dist[i]"
   ]
  },
  {
   "cell_type": "code",
   "execution_count": 27,
   "metadata": {},
   "outputs": [],
   "source": [
    "pedalada_acum = [dist_pedalada[0]]\n",
    "\n",
    "for i in range(1,dist_pedalada.shape[0]):\n",
    "    pedalada_acum.append(dist_pedalada[i]+pedalada_acum[i-1])"
   ]
  },
  {
   "cell_type": "code",
   "execution_count": 28,
   "metadata": {},
   "outputs": [],
   "source": [
    "corrida_acum = [dist_corrida[0]]\n",
    "\n",
    "for i in range(1,dist_corrida.shape[0]):\n",
    "    corrida_acum.append(dist_corrida[i]+corrida_acum[i-1])"
   ]
  },
  {
   "cell_type": "markdown",
   "metadata": {},
   "source": [
    "- Atribui os valores acumulados às variáveis `Distância Pedalada Acum. (km)` e `Distância Corrida Acum. (km)`:"
   ]
  },
  {
   "cell_type": "code",
   "execution_count": 29,
   "metadata": {},
   "outputs": [],
   "source": [
    "df['Distância Pedalada Acum. (km)'] = pedalada_acum\n",
    "df['Distância Corrida Acum. (km)'] = corrida_acum"
   ]
  },
  {
   "cell_type": "markdown",
   "metadata": {},
   "source": [
    "11 - Agora que todas as variáveis necessárias foram criadas, e a limpeza está completa, salvaremos o arquivo como csv para posterior análise no PowerBI:"
   ]
  },
  {
   "cell_type": "code",
   "execution_count": 30,
   "metadata": {},
   "outputs": [],
   "source": [
    "df.to_csv('activities_PBI.csv')"
   ]
  },
  {
   "cell_type": "markdown",
   "metadata": {},
   "source": [
    "# 2. Análises Gerais\n",
    "\n",
    "As análises gerais focam nas atividades conjuntas."
   ]
  },
  {
   "cell_type": "markdown",
   "metadata": {},
   "source": [
    "- Vamos iniciar as análises checando quantas atividades de cada tipo existem:"
   ]
  },
  {
   "cell_type": "code",
   "execution_count": 31,
   "metadata": {},
   "outputs": [
    {
     "data": {
      "text/plain": [
       "Pedalada    144\n",
       "Corrida      31\n",
       "Name: Tipo de atividade, dtype: int64"
      ]
     },
     "execution_count": 31,
     "metadata": {},
     "output_type": "execute_result"
    }
   ],
   "source": [
    "df['Tipo de atividade'].value_counts()"
   ]
  },
  {
   "cell_type": "markdown",
   "metadata": {},
   "source": [
    "Pedalada é a atividade majoritária entre as atividades físicas."
   ]
  },
  {
   "cell_type": "markdown",
   "metadata": {},
   "source": [
    "- Agora, vamos checar kilometragem média por atividade:"
   ]
  },
  {
   "cell_type": "code",
   "execution_count": 32,
   "metadata": {},
   "outputs": [
    {
     "name": "stdout",
     "output_type": "stream",
     "text": [
      "Kilometragem média:\n",
      "\n",
      "Pedalada: 13.03 km - Corrida: 3.51 km\n"
     ]
    }
   ],
   "source": [
    "print('Kilometragem média:\\n')\n",
    "print('Pedalada:',\n",
    "round(df[df['Tipo de atividade']=='Pedalada']['Distância (km)'].mean(),2),\n",
    "      'km - Corrida:',\n",
    "      round(df[df['Tipo de atividade']=='Corrida']['Distância (km)'].mean(),2),'km')"
   ]
  },
  {
   "cell_type": "markdown",
   "metadata": {},
   "source": [
    "Kilometragem média das pedaladas é aproximadamente o triplo da kilometragem das corridas."
   ]
  },
  {
   "cell_type": "markdown",
   "metadata": {},
   "source": [
    "- Agora, vamos ver kilometragem acumulada por atividade:"
   ]
  },
  {
   "cell_type": "code",
   "execution_count": 33,
   "metadata": {},
   "outputs": [
    {
     "name": "stdout",
     "output_type": "stream",
     "text": [
      "Kilometragem total:\n",
      " Pedaladas: 1875.76 km - Corridas: 108.67 km\n"
     ]
    }
   ],
   "source": [
    "print('Kilometragem total:\\n',\n",
    "      'Pedaladas:',\n",
    "    df[df['Tipo de atividade']=='Pedalada']['Distância (km)'].sum(),\n",
    "      'km - Corridas:',\n",
    "     df[df['Tipo de atividade']=='Corrida']['Distância (km)'].sum(),'km')"
   ]
  },
  {
   "cell_type": "markdown",
   "metadata": {},
   "source": [
    "Como esperado, por existirem mais pedaladas, e com kilometragem média superior, a kilometragem acumulada das pedalas é também muito superior."
   ]
  },
  {
   "cell_type": "markdown",
   "metadata": {},
   "source": [
    "- Vamos analisar visualmente a variação da kilometragem acumulada anualmente:"
   ]
  },
  {
   "cell_type": "code",
   "execution_count": 34,
   "metadata": {},
   "outputs": [
    {
     "data": {
      "image/png": "[encoded data removed]",
      "text/plain": [
       "<Figure size 1152x432 with 2 Axes>"
      ]
     },
     "metadata": {},
     "output_type": "display_data"
    }
   ],
   "source": [
    "fig, (ax1,ax2)=plt.subplots(1,2,figsize=(16,6))\n",
    "df['Distância Pedalada Acum. (km)'].plot(kind='area',ax=ax1,color='firebrick')\n",
    "ax1.set(xlabel='Data',ylabel='Kilometragem acumulada',title='Pedalada')\n",
    "df['Distância Corrida Acum. (km)'].plot(kind='area',ax=ax2,color='royalblue')\n",
    "ax2.set(xlabel='Data',ylabel='Kilometragem acumulada',title='Corrida');"
   ]
  },
  {
   "cell_type": "markdown",
   "metadata": {},
   "source": [
    "Analisando visualmente os valores acumulados das atividades segmentando por ano, nota-se que no ano de 2019 ocorreram poucas atividades, tanto pedaladas quanto corridas, como se pode observar com a variável de kilometragem acumulada para ambas as atividades.\n",
    "\n",
    "Entretanto, no ano de 2020, os valores acumulados de ambas as atividades aumentou significativamente. "
   ]
  },
  {
   "cell_type": "markdown",
   "metadata": {},
   "source": [
    "- Agora, vamos ver a maior kilometragem por tipo de atividade:"
   ]
  },
  {
   "cell_type": "code",
   "execution_count": 35,
   "metadata": {},
   "outputs": [
    {
     "name": "stdout",
     "output_type": "stream",
     "text": [
      "Maior kilometragem:\n",
      "\n",
      "Pedalada: 42.81 km - Corrida: 4.47 km\n"
     ]
    }
   ],
   "source": [
    "print('Maior kilometragem:\\n')\n",
    "print('Pedalada:',df[df['Tipo de atividade'] == 'Pedalada']['Distância (km)'].max(),'km - Corrida:', \\\n",
    "df[df['Tipo de atividade'] == 'Corrida']['Distância (km)'].max(),'km')"
   ]
  },
  {
   "cell_type": "markdown",
   "metadata": {},
   "source": [
    "O valor da maior kilometragem de pedalada é próximo a 40 km, muito superior ao de corrida, que é próximo a 4.5 km."
   ]
  },
  {
   "cell_type": "code",
   "execution_count": null,
   "metadata": {},
   "outputs": [],
   "source": []
  }
 ],
 "metadata": {
  "kernelspec": {
   "display_name": "Python 3",
   "language": "python",
   "name": "python3"
  },
  "language_info": {
   "codemirror_mode": {
    "name": "ipython",
    "version": 3
   },
   "file_extension": ".py",
   "mimetype": "text/x-python",
   "name": "python",
   "nbconvert_exporter": "python",
   "pygments_lexer": "ipython3",
   "version": "3.8.3"
  }
 },
 "nbformat": 4,
 "nbformat_minor": 4
}
